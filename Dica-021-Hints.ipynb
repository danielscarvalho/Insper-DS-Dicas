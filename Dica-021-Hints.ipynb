{
 "cells": [
  {
   "cell_type": "markdown",
   "metadata": {},
   "source": [
    "<img width=\"200\" style=\"float:right\" src=\"https://github.com/danielscarvalho/Insper-DS-Dicas/blob/master/Insper-Logo.png?raw=true\">"
   ]
  },
  {
   "cell_type": "markdown",
   "metadata": {},
   "source": [
    "# Computação para Ciências dos Dados\n",
    "\n",
    "<sub><a href=\"https://www.insper.edu.br/pos-graduacao/programas-avancados/programa-avancado-em-data-science-e-decisao/\">PÓS-\n",
    "GRADUAÇÃO EM DATA SCIENCE E DECISÃO</a></sub>\n",
    "\n",
    "## Dica do Dia: 021\n",
    "\n",
    "Fontes interessantes sobre ciências dos dados no Twitter!\n",
    "\n",
    "Quem seguir!!"
   ]
  },
  {
   "cell_type": "markdown",
   "metadata": {},
   "source": [
    "### Statista\n",
    "@StatistaCharts<br>\n",
    "https://twitter.com/StatistaCharts<br>\n",
    "\n"
   ]
  },
  {
   "cell_type": "code",
   "execution_count": 3,
   "metadata": {
    "scrolled": true
   },
   "outputs": [
    {
     "data": {
      "text/html": [
       "<blockquote class=\"twitter-tweet\"><p lang=\"en\" dir=\"ltr\">A mini <a href=\"https://twitter.com/Apple?ref_src=twsrc%5Etfw\">@Apple</a> 🧵Following a strong end to 2021 that saw Apple shatter its previous sales and profit records in the holiday quarter, the world’s most valuable company carried that momentum into 2022. <a href=\"https://t.co/HgwXy5poz7\">pic.twitter.com/HgwXy5poz7</a></p>&mdash; Statista (@StatistaCharts) <a href=\"https://twitter.com/StatistaCharts/status/1520045781125931011?ref_src=twsrc%5Etfw\">April 29, 2022</a></blockquote> <script async src=\"https://platform.twitter.com/widgets.js\" charset=\"utf-8\"></script> \n"
      ],
      "text/plain": [
       "<IPython.core.display.HTML object>"
      ]
     },
     "metadata": {},
     "output_type": "display_data"
    }
   ],
   "source": [
    "%%html\n",
    "<blockquote class=\"twitter-tweet\"><p lang=\"en\" dir=\"ltr\">A mini <a href=\"https://twitter.com/Apple?ref_src=twsrc%5Etfw\">@Apple</a> 🧵Following a strong end to 2021 that saw Apple shatter its previous sales and profit records in the holiday quarter, the world’s most valuable company carried that momentum into 2022. <a href=\"https://t.co/HgwXy5poz7\">pic.twitter.com/HgwXy5poz7</a></p>&mdash; Statista (@StatistaCharts) <a href=\"https://twitter.com/StatistaCharts/status/1520045781125931011?ref_src=twsrc%5Etfw\">April 29, 2022</a></blockquote> <script async src=\"https://platform.twitter.com/widgets.js\" charset=\"utf-8\"></script> "
   ]
  },
  {
   "cell_type": "markdown",
   "metadata": {},
   "source": [
    "### Wolfram Research\n",
    "@Wolfram<br>\n",
    "https://twitter.com/WolframResearch<br>"
   ]
  },
  {
   "cell_type": "code",
   "execution_count": 5,
   "metadata": {
    "scrolled": true
   },
   "outputs": [
    {
     "data": {
      "text/html": [
       "<blockquote class=\"twitter-tweet\"><p lang=\"en\" dir=\"ltr\"><a href=\"https://twitter.com/hashtag/NeuralNetwork?src=hash&amp;ref_src=twsrc%5Etfw\">#NeuralNetwork</a> of the Week: Detect and localize objects in an image with the newest YOLOX model trained on MS-COCO <a href=\"https://t.co/0anEhZ8SiN\">https://t.co/0anEhZ8SiN</a>. <br><br>Thank you Zheng Ge, Songtao Liu, Feng Wang, Zeming Li and Jian Sun <a href=\"https://t.co/XgbnJkdjYd\">https://t.co/XgbnJkdjYd</a>. <a href=\"https://twitter.com/hashtag/neuralnetwork?src=hash&amp;ref_src=twsrc%5Etfw\">#neuralnetwork</a> <a href=\"https://twitter.com/hashtag/ML?src=hash&amp;ref_src=twsrc%5Etfw\">#ML</a> <a href=\"https://twitter.com/hashtag/AI?src=hash&amp;ref_src=twsrc%5Etfw\">#AI</a> <a href=\"https://twitter.com/hashtag/WolfLang?src=hash&amp;ref_src=twsrc%5Etfw\">#WolfLang</a> <a href=\"https://t.co/8nSH2708V2\">pic.twitter.com/8nSH2708V2</a></p>&mdash; Wolfram (@WolframResearch) <a href=\"https://twitter.com/WolframResearch/status/1519753853218004997?ref_src=twsrc%5Etfw\">April 28, 2022</a></blockquote> <script async src=\"https://platform.twitter.com/widgets.js\" charset=\"utf-8\"></script> \n"
      ],
      "text/plain": [
       "<IPython.core.display.HTML object>"
      ]
     },
     "metadata": {},
     "output_type": "display_data"
    }
   ],
   "source": [
    "%%html\n",
    "<blockquote class=\"twitter-tweet\"><p lang=\"en\" dir=\"ltr\"><a href=\"https://twitter.com/hashtag/NeuralNetwork?src=hash&amp;ref_src=twsrc%5Etfw\">#NeuralNetwork</a> of the Week: Detect and localize objects in an image with the newest YOLOX model trained on MS-COCO <a href=\"https://t.co/0anEhZ8SiN\">https://t.co/0anEhZ8SiN</a>. <br><br>Thank you Zheng Ge, Songtao Liu, Feng Wang, Zeming Li and Jian Sun <a href=\"https://t.co/XgbnJkdjYd\">https://t.co/XgbnJkdjYd</a>. <a href=\"https://twitter.com/hashtag/neuralnetwork?src=hash&amp;ref_src=twsrc%5Etfw\">#neuralnetwork</a> <a href=\"https://twitter.com/hashtag/ML?src=hash&amp;ref_src=twsrc%5Etfw\">#ML</a> <a href=\"https://twitter.com/hashtag/AI?src=hash&amp;ref_src=twsrc%5Etfw\">#AI</a> <a href=\"https://twitter.com/hashtag/WolfLang?src=hash&amp;ref_src=twsrc%5Etfw\">#WolfLang</a> <a href=\"https://t.co/8nSH2708V2\">pic.twitter.com/8nSH2708V2</a></p>&mdash; Wolfram (@WolframResearch) <a href=\"https://twitter.com/WolframResearch/status/1519753853218004997?ref_src=twsrc%5Etfw\">April 28, 2022</a></blockquote> <script async src=\"https://platform.twitter.com/widgets.js\" charset=\"utf-8\"></script> "
   ]
  },
  {
   "cell_type": "markdown",
   "metadata": {},
   "source": [
    "### Marta Gabriel\n",
    "@marthagabriel<br>\n",
    "https://twitter.com/marthagabriel/"
   ]
  },
  {
   "cell_type": "code",
   "execution_count": 6,
   "metadata": {},
   "outputs": [
    {
     "data": {
      "text/html": [
       "<blockquote class=\"twitter-tweet\"><p lang=\"pt\" dir=\"ltr\">Conforme a VIDA se torna DIGITAL, é natural que passemos cada vez mais TEMPO no AMBIENTE DIGITAL.<br>ㅤ<br>Você já parou para pensar quanto tempo do seu dia você passa na internet?<br>ㅤ<br>Continue lendo &gt;&gt;&gt; <a href=\"https://t.co/ko2JvvN9G3\">https://t.co/ko2JvvN9G3</a> <a href=\"https://t.co/8nOAKRsc8e\">pic.twitter.com/8nOAKRsc8e</a></p>&mdash; Martha Gabriel (@marthagabriel) <a href=\"https://twitter.com/marthagabriel/status/1520010548724834307?ref_src=twsrc%5Etfw\">April 29, 2022</a></blockquote> <script async src=\"https://platform.twitter.com/widgets.js\" charset=\"utf-8\"></script> \n"
      ],
      "text/plain": [
       "<IPython.core.display.HTML object>"
      ]
     },
     "metadata": {},
     "output_type": "display_data"
    }
   ],
   "source": [
    "%%html\n",
    "<blockquote class=\"twitter-tweet\"><p lang=\"pt\" dir=\"ltr\">Conforme a VIDA se torna DIGITAL, é natural que passemos cada vez mais TEMPO no AMBIENTE DIGITAL.<br>ㅤ<br>Você já parou para pensar quanto tempo do seu dia você passa na internet?<br>ㅤ<br>Continue lendo &gt;&gt;&gt; <a href=\"https://t.co/ko2JvvN9G3\">https://t.co/ko2JvvN9G3</a> <a href=\"https://t.co/8nOAKRsc8e\">pic.twitter.com/8nOAKRsc8e</a></p>&mdash; Martha Gabriel (@marthagabriel) <a href=\"https://twitter.com/marthagabriel/status/1520010548724834307?ref_src=twsrc%5Etfw\">April 29, 2022</a></blockquote> <script async src=\"https://platform.twitter.com/widgets.js\" charset=\"utf-8\"></script> "
   ]
  },
  {
   "cell_type": "markdown",
   "metadata": {},
   "source": [
    "### Boston Consulting Group\n",
    "@BCG<br>\n",
    "https://twitter.com/BCG/"
   ]
  },
  {
   "cell_type": "code",
   "execution_count": 7,
   "metadata": {},
   "outputs": [
    {
     "data": {
      "text/html": [
       "<blockquote class=\"twitter-tweet\"><p lang=\"en\" dir=\"ltr\">In response to growing pressure from stakeholders, leading <a href=\"https://twitter.com/hashtag/steel?src=hash&amp;ref_src=twsrc%5Etfw\">#steel</a> players are setting their own <a href=\"https://twitter.com/hashtag/emissions?src=hash&amp;ref_src=twsrc%5Etfw\">#emissions</a> reduction targets and formulating <a href=\"https://twitter.com/hashtag/strategies?src=hash&amp;ref_src=twsrc%5Etfw\">#strategies</a> to reach them. There are three main pathways for incumbent players to <a href=\"https://twitter.com/hashtag/decarbonize?src=hash&amp;ref_src=twsrc%5Etfw\">#decarbonize</a> steel production: <a href=\"https://t.co/tRg9EKys4P\">https://t.co/tRg9EKys4P</a> <a href=\"https://t.co/xKaY8Ti2Be\">pic.twitter.com/xKaY8Ti2Be</a></p>&mdash; Boston Consulting Group (@BCG) <a href=\"https://twitter.com/BCG/status/1519499144221634562?ref_src=twsrc%5Etfw\">April 28, 2022</a></blockquote> <script async src=\"https://platform.twitter.com/widgets.js\" charset=\"utf-8\"></script> \n"
      ],
      "text/plain": [
       "<IPython.core.display.HTML object>"
      ]
     },
     "metadata": {},
     "output_type": "display_data"
    }
   ],
   "source": [
    "%%html\n",
    "<blockquote class=\"twitter-tweet\"><p lang=\"en\" dir=\"ltr\">In response to growing pressure from stakeholders, leading <a href=\"https://twitter.com/hashtag/steel?src=hash&amp;ref_src=twsrc%5Etfw\">#steel</a> players are setting their own <a href=\"https://twitter.com/hashtag/emissions?src=hash&amp;ref_src=twsrc%5Etfw\">#emissions</a> reduction targets and formulating <a href=\"https://twitter.com/hashtag/strategies?src=hash&amp;ref_src=twsrc%5Etfw\">#strategies</a> to reach them. There are three main pathways for incumbent players to <a href=\"https://twitter.com/hashtag/decarbonize?src=hash&amp;ref_src=twsrc%5Etfw\">#decarbonize</a> steel production: <a href=\"https://t.co/tRg9EKys4P\">https://t.co/tRg9EKys4P</a> <a href=\"https://t.co/xKaY8Ti2Be\">pic.twitter.com/xKaY8Ti2Be</a></p>&mdash; Boston Consulting Group (@BCG) <a href=\"https://twitter.com/BCG/status/1519499144221634562?ref_src=twsrc%5Etfw\">April 28, 2022</a></blockquote> <script async src=\"https://platform.twitter.com/widgets.js\" charset=\"utf-8\"></script> "
   ]
  },
  {
   "cell_type": "markdown",
   "metadata": {},
   "source": [
    "### PwC\n",
    "@pwc<br>\n",
    "https://twitter.com/PwC"
   ]
  },
  {
   "cell_type": "code",
   "execution_count": 8,
   "metadata": {},
   "outputs": [
    {
     "data": {
      "text/html": [
       "<blockquote class=\"twitter-tweet\"><p lang=\"en\" dir=\"ltr\">Our 2022 Global Economic Crime and Fraud Survey reveals that nearly 70% of organisations experiencing fraud reported that the most disruptive incident came via an external attack or collusion between external and internal sources.<br><br>Insights here: <a href=\"https://t.co/e9FFfMt9zB\">https://t.co/e9FFfMt9zB</a> <a href=\"https://t.co/z9l5Z3NSgW\">pic.twitter.com/z9l5Z3NSgW</a></p>&mdash; PwC (@PwC) <a href=\"https://twitter.com/PwC/status/1518870018490093568?ref_src=twsrc%5Etfw\">April 26, 2022</a></blockquote> <script async src=\"https://platform.twitter.com/widgets.js\" charset=\"utf-8\"></script> \n"
      ],
      "text/plain": [
       "<IPython.core.display.HTML object>"
      ]
     },
     "metadata": {},
     "output_type": "display_data"
    }
   ],
   "source": [
    "%%html\n",
    "<blockquote class=\"twitter-tweet\"><p lang=\"en\" dir=\"ltr\">Our 2022 Global Economic Crime and Fraud Survey reveals that nearly 70% of organisations experiencing fraud reported that the most disruptive incident came via an external attack or collusion between external and internal sources.<br><br>Insights here: <a href=\"https://t.co/e9FFfMt9zB\">https://t.co/e9FFfMt9zB</a> <a href=\"https://t.co/z9l5Z3NSgW\">pic.twitter.com/z9l5Z3NSgW</a></p>&mdash; PwC (@PwC) <a href=\"https://twitter.com/PwC/status/1518870018490093568?ref_src=twsrc%5Etfw\">April 26, 2022</a></blockquote> <script async src=\"https://platform.twitter.com/widgets.js\" charset=\"utf-8\"></script> "
   ]
  },
  {
   "cell_type": "markdown",
   "metadata": {},
   "source": [
    "### Visual Capitalist\n",
    "@VisualCap\n",
    "https://twitter.com/VisualCap"
   ]
  },
  {
   "cell_type": "code",
   "execution_count": 10,
   "metadata": {},
   "outputs": [
    {
     "data": {
      "text/html": [
       "<blockquote class=\"twitter-tweet\"><p lang=\"en\" dir=\"ltr\">Charted: The Gen Z Unemployment Rate, Compared to Older Generations 💼<a href=\"https://t.co/PMeDk53LtL\">https://t.co/PMeDk53LtL</a> <a href=\"https://t.co/rGClO7LIrx\">pic.twitter.com/rGClO7LIrx</a></p>&mdash; Visual Capitalist (@VisualCap) <a href=\"https://twitter.com/VisualCap/status/1520010126190596097?ref_src=twsrc%5Etfw\">April 29, 2022</a></blockquote> <script async src=\"https://platform.twitter.com/widgets.js\" charset=\"utf-8\"></script> \n"
      ],
      "text/plain": [
       "<IPython.core.display.HTML object>"
      ]
     },
     "metadata": {},
     "output_type": "display_data"
    }
   ],
   "source": [
    "%%html\n",
    "<blockquote class=\"twitter-tweet\"><p lang=\"en\" dir=\"ltr\">Charted: The Gen Z Unemployment Rate, Compared to Older Generations 💼<a href=\"https://t.co/PMeDk53LtL\">https://t.co/PMeDk53LtL</a> <a href=\"https://t.co/rGClO7LIrx\">pic.twitter.com/rGClO7LIrx</a></p>&mdash; Visual Capitalist (@VisualCap) <a href=\"https://twitter.com/VisualCap/status/1520010126190596097?ref_src=twsrc%5Etfw\">April 29, 2022</a></blockquote> <script async src=\"https://platform.twitter.com/widgets.js\" charset=\"utf-8\"></script> "
   ]
  },
  {
   "cell_type": "markdown",
   "metadata": {},
   "source": [
    "### World Economic Forum\n",
    "@wec\n",
    "https://twitter.com/wef"
   ]
  },
  {
   "cell_type": "code",
   "execution_count": 12,
   "metadata": {},
   "outputs": [
    {
     "data": {
      "text/html": [
       "<blockquote class=\"twitter-tweet\"><p lang=\"en\" dir=\"ltr\">It’s time for investors to join the ecopreneur revolution. Submit your investment fund benefitting people and planet on UpLink: <a href=\"https://t.co/52V36xjYZW\">https://t.co/52V36xjYZW</a> <a href=\"https://twitter.com/WEFUpLink?ref_src=twsrc%5Etfw\">@WEFUpLink</a> <a href=\"https://twitter.com/Kiverdi?ref_src=twsrc%5Etfw\">@Kiverdi</a> <a href=\"https://t.co/wRmiLpy9Bp\">pic.twitter.com/wRmiLpy9Bp</a></p>&mdash; World Economic Forum (@wef) <a href=\"https://twitter.com/wef/status/1520070410968072192?ref_src=twsrc%5Etfw\">April 29, 2022</a></blockquote> <script async src=\"https://platform.twitter.com/widgets.js\" charset=\"utf-8\"></script>\n"
      ],
      "text/plain": [
       "<IPython.core.display.HTML object>"
      ]
     },
     "metadata": {},
     "output_type": "display_data"
    }
   ],
   "source": [
    "%%html\n",
    "<blockquote class=\"twitter-tweet\"><p lang=\"en\" dir=\"ltr\">It’s time for investors to join the ecopreneur revolution. Submit your investment fund benefitting people and planet on UpLink: <a href=\"https://t.co/52V36xjYZW\">https://t.co/52V36xjYZW</a> <a href=\"https://twitter.com/WEFUpLink?ref_src=twsrc%5Etfw\">@WEFUpLink</a> <a href=\"https://twitter.com/Kiverdi?ref_src=twsrc%5Etfw\">@Kiverdi</a> <a href=\"https://t.co/wRmiLpy9Bp\">pic.twitter.com/wRmiLpy9Bp</a></p>&mdash; World Economic Forum (@wef) <a href=\"https://twitter.com/wef/status/1520070410968072192?ref_src=twsrc%5Etfw\">April 29, 2022</a></blockquote> <script async src=\"https://platform.twitter.com/widgets.js\" charset=\"utf-8\"></script>"
   ]
  },
  {
   "cell_type": "code",
   "execution_count": null,
   "metadata": {},
   "outputs": [],
   "source": []
  }
 ],
 "metadata": {
  "kernelspec": {
   "display_name": "Python 3 (ipykernel)",
   "language": "python",
   "name": "python3"
  },
  "language_info": {
   "codemirror_mode": {
    "name": "ipython",
    "version": 3
   },
   "file_extension": ".py",
   "mimetype": "text/x-python",
   "name": "python",
   "nbconvert_exporter": "python",
   "pygments_lexer": "ipython3",
   "version": "3.11.5"
  }
 },
 "nbformat": 4,
 "nbformat_minor": 4
}
