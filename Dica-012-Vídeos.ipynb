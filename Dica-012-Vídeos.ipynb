{
 "cells": [
  {
   "cell_type": "markdown",
   "metadata": {},
   "source": [
    "<img width=\"200\" style=\"float:right\" src=\"https://github.com/danielscarvalho/Insper-DS-Dicas/blob/master/Insper-Logo.png?raw=true\">"
   ]
  },
  {
   "cell_type": "markdown",
   "metadata": {},
   "source": [
    "# Computação para Ciências dos Dados\n",
    "\n",
    "<sub><a href=\"https://www.insper.edu.br/pos-graduacao/programas-avancados/programa-avancado-em-data-science-e-decisao/\">PÓS-GRADUAÇÃO EM DATA SCIENCE E DECISÃO</a></sub>\n",
    "\n",
    "## Dica do Dia: 012\n",
    "\n",
    "O objetivo desta dica do dia é listar vídeos, séries e documentários interessantes sobre ciências dos dados e computação:\n",
    "\n",
    "> Os links podem ser quebrados em algum momento. Buscar no Google ou YouTube o título do vídeo para poder assisti-lo.\n",
    "\n",
    "### Vídeos"
   ]
  },
  {
   "cell_type": "markdown",
   "metadata": {},
   "source": [
    "- Data Science Pioneers - Conquering the Next Frontier: https://www.datascience.movie/\n",
    "- The Great Hack | Official Trailer | Netflix: https://www.youtube.com/watch?v=iX8GxLP1FHo\n",
    "- Terms and Conditions May Apply: https://www.youtube.com/watch?v=LIiLoT4Po-c\n",
    "- A Era dos Dados: https://www.netflix.com/br/title/81031737\n",
    "- Dataland: https://www.youtube.com/watch?v=m73yqxbxfOI\n",
    "- O Dilema das Redes: https://www.netflix.com/br/title/81254224?trkid=13747225&s=a&t=wha\n",
    "- Revolutions: The Ideas that Changed the World: https://www.bbc.co.uk/programmes/p07kvyp9\n",
    "- Artificial intelligence and algorithms: pros and cons | DW Documentary (AI documentary): https://www.youtube.com/watch?v=s0dMTAQM4cw\n",
    "- How artificial intelligence is changing our society | DW Documentary: https://www.youtube.com/watch?v=-ePZ7OdY-Dw\n",
    "- The Story of Shor's Algorithm, Straight From the Source | Peter Shor - MIT: https://www.youtube.com/watch?v=6qD9XElTpCE\n",
    "- What is information?: https://www.youtube.com/watch?v=a-j9NVlpFXw\n",
    "- Does Math Reveal Reality?: https://www.youtube.com/watch?v=VN19VOMHxkk\n",
    "- The real story of how Enigma was broken - Sir Dermot Turing: https://www.youtube.com/watch?v=qn_BBQEjCxI\n",
    "- Code Bias: https://www.netflix.com/br/title/81328723\n",
    "- Abstract: https://www.netflix.com/br/title/80057883\n",
    "- O Código Bill Gates: https://www.netflix.com/br/title/80184771\n",
    "- The Imitation Game: https://www.youtube.com/watch?v=nuPZUUED5uk\n",
    "- Expresso Futuro: https://www.futura.org.br/expresso-futuro/\n",
    "- O Menino da Internet: A História de Aaron Swartz: https://www.youtube.com/watch?v=qm4NRSa9T2Q\n",
    "- In the Age of AI | FRONTLINE: http://localhost:8888/?token=3f35120a465d46e140f00efbefc4d224d0b3e7bcb006bfa9\n",
    "- Artificial Immortality: https://deadline.com/video/artificial-immortality-watch-the-first-trailer-for-hot-docs-opener\n",
    "- Hackers Find Missing People For Fun: https://www.youtube.com/watch?v=2puBmXfi9Z0\n",
    "- What It's Like To be a Computer: An Interview with GPT-3: https://www.youtube.com/watch?v=PqbB07n_uQ4\n",
    "- THE BIT PLAYER, CLAUDE SHANNON: PROPHET OF INFORMATION: https://thebitplayer.com/\n",
    "- this will AFFECT everyone in 48 hours - Elon Musk Zone: https://www.youtube.com/watch?v=9gk9IPF7NtA/\n",
    "- Mathematics is the queen of Sciences: https://www.youtube.com/watch?v=8mve0UoSxTo\n",
    "- Calculating Ada: The Countess of Computing: https://www.bbc.co.uk/programmes/p030s5bx\n",
    "- Who will win the race to dominate AI? | Business Beyond - DW News: https://www.youtube.com/watch?v=ALjRSf13OX0\n",
    "- Why Deep Learning Now? | AI Revolution Documentary: https://www.youtube.com/watch?v=b3IyDNB_ciI&t=33s\n",
    "- Hans Rosling's 200 Countries, 200 Years, 4 Minutes - The Joy of Stats - BBC Four: https://www.youtube.com/watch?v=jbkSRLYSojo\n",    
    "- The Story of Raspberry Pi: https://www.youtube.com/watch?v=UCt6d0SCxO4\n",
    "- Spare Parts [Official Trailer #2] (2015) - George Lopez Drama: https://www.youtube.com/watch?v=GXOLwIIHuCs\n",   
    "- Why everything you buy is worse now - Vox: https://www.youtube.com/watch?v=DHXBacEH0qo\n",
    "- Why Google Maps Doesn't Show You Unsafe Areas: https://www.youtube.com/watch?v=4i66ht6YHkw\n",
    "- BBS Documentary: https://www.youtube.com/watch?v=Dddbe9OuJLU\n",
    "- Como teoria do caos e efeito borboleta ajudam a explicar Universo (BBC): https://www.youtube.com/watch?v=XXcHDy3QH-E\n",
    "- The Art of Warez Documents the Lost ANSI Art Scene: https://www.juxtapoz.com/news/film/the-art-of-warez-documents-the-lost-ansi-art-scene/\n",
    "- The Emoji Story: https://www.theemojistory.com/ - [You should never have this much fun learning about unicode](https://arstechnica.com/gaming/2021/04/the-emoji-story-you-should-never-have-this-much-fun-learning-about-unicode/)\n",
    "- Shenzhen: The Silicon Valley of Hardware (Full Documentary) | Future Cities: https://www.youtube.com/watch?v=SGJ5cZnoodY\n",
    "- The Social Dilemma: https://www.netflix.com/br-en/title/81254224\n",
    "- Holy Land: Startup Nations (Full Documentary) | Future Cities: https://www.youtube.com/watch?v=I5h8GfxIWVY\n",
    "- Explaned: Coding: https://www.imdb.com/title/tt11167964/?ref_=ttep_ep5\n",
    "- Cybersecurity Documentary - Electronics Hackers Market: https://www.youtube.com/watch?v=KQigJ17RlW0\n",
    "- How did the Apollo flight computers get men to the moon and back ?: https://www.youtube.com/watch?v=ULGi3UkgW30\n",
    "- Social Media Dangers Documentary — Childhood 2.0: https://www.youtube.com/watch?v=He3IJJhFy-I&t=8s\n",
    "- These Keys Shouldn't Exist | Nostalgia Nerd: https://www.youtube.com/watch?v=BktIY7VbrUs\n",
    "- 20 films about math, mathematicians and math geniuses: https://www.yardbarker.com/entertainment/articles/20_films_about_math_mathematicians_and_math_geniuses/s1__28630979\n",
    "- The Algorithm That Transformed The World (FFT): https://www.youtube.com/watch?v=nmgFG7PUHfo\n",
    "- The Science of Where - Unlock Data’s Full Potential: https://www.youtube.com/watch?v=XrU8GX7manc\n"
   ]
  }
 ],
 "metadata": {
  "kernelspec": {
   "display_name": "Python 3 (ipykernel)",
   "language": "python",
   "name": "python3"
  },
  "language_info": {
   "codemirror_mode": {
    "name": "ipython",
    "version": 3
   },
   "file_extension": ".py",
   "mimetype": "text/x-python",
   "name": "python",
   "nbconvert_exporter": "python",
   "pygments_lexer": "ipython3",
   "version": "3.9.12"
  }
 },
 "nbformat": 4,
 "nbformat_minor": 2
}
