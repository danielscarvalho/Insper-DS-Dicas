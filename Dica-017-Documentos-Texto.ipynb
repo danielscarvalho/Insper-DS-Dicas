{
 "cells": [
  {
   "cell_type": "markdown",
   "metadata": {},
   "source": [
    "<img width=\"200\" style=\"float:right\" src=\"https://github.com/danielscarvalho/Insper-DS-Dicas/blob/master/Insper-Logo.png?raw=true\">"
   ]
  },
  {
   "cell_type": "markdown",
   "metadata": {},
   "source": [
    "# Computação para Ciências dos Dados\n",
    "\n",
    "<sub><a href=\"https://www.insper.edu.br/pos-graduacao/programas-avancados/programa-avancado-em-data-science-e-decisao/\">PÓS-\n",
    "GRADUAÇÃO EM DATA SCIENCE E DECISÃO</a></sub>\n",
    "\n",
    "## Dica do Dia: 017\n",
    "\n",
    "O objetivo desta dica do dia é aprender a gerar arquivos de documentos texto como .PDF, .RTF, .DOC e Latex.\n",
    "\n",
    "\n",
    "### Documento Texto\n",
    "\n",
    "Documento texto é o tipo de dado não estruturado mais palatável para os humanos. 80% do volume de dados gerado atualmente trata-se de informação não estruturada, como: sites, e-mails, livros, contratos, documentos, revistas, jornais, *feed* de mídias sociais, mensagens instantâneas como WhastApp e Telegram, etc...\n",
    "\n",
    "Podemos automatizar a criação de documentos em diversos formatos."
   ]
  },
  {
   "cell_type": "markdown",
   "metadata": {},
   "source": [
    "### PDF\n",
    "\n",
    "PDF é um padrão criado pela Adobe baseado no formato PostScript (PS), utilizado no envio de documentos para impressão.\n",
    "Atualmente o PDF é o formato padrão para compartilhamento de documentos, apresentações, etc...\n",
    "\n",
    "> PDFs movem o mundo. Nós inventamos o Portable Document Format (mais conhecido como PDF) para exibir e compartilhar documentos com segurança, independentemente de software, hardware ou sistema operacional e, agora, seus trabalhos mais importantes dependem dele. \\[Adobe\\]"
   ]
  },
  {
   "cell_type": "code",
   "execution_count": 4,
   "metadata": {},
   "outputs": [
    {
     "name": "stdout",
     "output_type": "stream",
     "text": [
      "Collecting fpdf\n",
      "  Downloading fpdf-1.7.2.tar.gz (39 kB)\n",
      "Building wheels for collected packages: fpdf\n",
      "  Building wheel for fpdf (setup.py) ... \u001b[?25ldone\n",
      "\u001b[?25h  Created wheel for fpdf: filename=fpdf-1.7.2-py2.py3-none-any.whl size=40722 sha256=c6eef5080ca211f046e80e268bcccb3c25e01794b41a27343f78b43805f66301\n",
      "  Stored in directory: /home/fito/.cache/pip/wheels/c0/fe/fd/a311c735b01cdc75720387f6803cada9b06cd1f41a625bebb3\n",
      "Successfully built fpdf\n",
      "Installing collected packages: fpdf\n",
      "Successfully installed fpdf-1.7.2\n"
     ]
    }
   ],
   "source": [
    "!pip install fpdf"
   ]
  },
  {
   "cell_type": "code",
   "execution_count": 17,
   "metadata": {},
   "outputs": [
    {
     "data": {
      "text/plain": [
       "''"
      ]
     },
     "execution_count": 17,
     "metadata": {},
     "output_type": "execute_result"
    }
   ],
   "source": [
    "from fpdf import FPDF\n",
    "  \n",
    "# Criar uma instância de um arquivo PDF em memória (variável)  \n",
    "pdf = FPDF()\n",
    "  \n",
    "# Criar a primeira página\n",
    "pdf.add_page()\n",
    "  \n",
    "# Configurar estilo\n",
    "pdf.set_font(\"Arial\", size = 15)\n",
    "  \n",
    "# Criar uma célula de texto\n",
    "pdf.cell(200, 10, txt = \"Insper - Data Science\", \n",
    "         ln = 1, align = 'C')\n",
    "  \n",
    "# Criar outra célula de texto\n",
    "pdf.cell(200, 10, txt = \"Programa de pós graduação em Data Science e decisão\",\n",
    "         ln = 2, align = 'C')\n",
    "\n",
    "# Pula uma linha\n",
    "pdf.ln()\n",
    "\n",
    "texto=\"Muitos dados são gerados diariamente e quase todos eles podem ser analisados e mensurados. Desde o horário em que a pessoa sai de casa em direção ao trabalho, o número de passos que deu até uma loja, o que consumiu e em quanto tempo. No entanto, é necessária uma análise adequada para que esses dados deixem de ser um aglomerado de números e se transformem em informação que faça a diferença no planejamento das empresas. As organizações podem usar informações deste tipo para obter vantagens competitivas. Por exemplo, com base na localização, preferências do consumidor, rotina e outros dados disponíveis, as companhias podem estimar tendências e fazer previsões mais assertivas para o rumo dos negócios.\"\n",
    "\n",
    "# Criar outra célula de texto\n",
    "pdf.multi_cell(0, 5, texto)\n",
    "\n",
    "# Adiciona uma imagem no PDF\n",
    "pdf.image('images.png', 10, 100, 100)\n",
    "\n",
    "# Salvar o arquivo .pdf\n",
    "pdf.output(\"insper-ds.pdf\")   "
   ]
  },
  {
   "cell_type": "code",
   "execution_count": 6,
   "metadata": {},
   "outputs": [
    {
     "name": "stdout",
     "output_type": "stream",
     "text": [
      "Insper-Dica-010.pdf  insper-ds.pdf\r\n"
     ]
    }
   ],
   "source": [
    "!ls *.pdf"
   ]
  },
  {
   "cell_type": "markdown",
   "metadata": {},
   "source": [
    "Referência\n",
    "\n",
    "- https://pyfpdf.readthedocs.io/en/latest/\n",
    "- http://www.fpdf.org/\n",
    "- https://www.adobe.com/br/acrobat/about-adobe-pdf.html"
   ]
  },
  {
   "cell_type": "markdown",
   "metadata": {},
   "source": [
    "### RFT (Rich Text Format)"
   ]
  },
  {
   "cell_type": "markdown",
   "metadata": {},
   "source": [
    "A especificação Rich Text Format (RTF) fornece um formato para troca de texto e gráficos que pode ser usado com diferentes dispositivos de saída, ambientes operacionais e sistemas operacionais. O RTF usa o conjunto de caracteres do American National Standards Institute (ANSI), PC-8, Macintosh ou IBM PC para controlar a representação e a formatação de um documento, tanto na tela quanto na impressão. Com a especificação RTF, documentos criados em diferentes sistemas operacionais e com diferentes aplicativos de software podem ser transferidos entre esses sistemas operacionais e aplicativos. (248 páginas impressas), [Rich Text Format (RTF) Specification,version 1.6](http://latex2rtf.sourceforge.net/rtfspec.html)\n",
    "\n",
    "É um formato texto criado pela Microsoft para troca de documentos entre sistemas diferentes. É possível controlar a aparência do texto utilizado as marcações RTF.\n",
    "\n",
    "Nestes exemplos não vamos utilizar bibliotecas, vamos gerar o texto com as marcações RTF e salvar o arquivos texto com extenção **.rtf** e neste caso os editores de texto como MS Word ou LibreOffice Writer vão abri-los corretamente.\n",
    "\n",
    "Os detalhes da sintaxe do padrão RTF está disponível na especificação, veja referências abaixo"
   ]
  },
  {
   "cell_type": "code",
   "execution_count": 26,
   "metadata": {},
   "outputs": [],
   "source": [
    "TEXTO_RTF1=\"\"\"{\\rtf1\\ansi\\deff0 {\\fonttbl {\\f0 Monotype Corsiva;}}\n",
    "\\qc\\f0\\fs120\\i\\b Hello,\\line World!\n",
    "}\n",
    "\"\"\""
   ]
  },
  {
   "cell_type": "code",
   "execution_count": 27,
   "metadata": {},
   "outputs": [],
   "source": [
    "arquivo = open(\"insper-1.rtf\",\"w\")\n",
    "arquivo.write(TEXTO_RTF1)\n",
    "arquivo.close()"
   ]
  },
  {
   "cell_type": "code",
   "execution_count": 28,
   "metadata": {
    "scrolled": true
   },
   "outputs": [
    {
     "name": "stdout",
     "output_type": "stream",
     "text": [
      "insper-1.rtf\r\n"
     ]
    }
   ],
   "source": [
    "!ls *.rtf"
   ]
  },
  {
   "cell_type": "code",
   "execution_count": 29,
   "metadata": {},
   "outputs": [],
   "source": [
    "TEXTO_RTF2=\"\"\"{\\rtf1\\ansi\\deff0 {\\fonttbl {\\f0 Times;}}\n",
    "\\fs24\n",
    "{\\pard \\fs44 Annalium Romae\\par}\n",
    "{\\pard\n",
    "Urbem Romam a principio reges habuere; libertatem et\n",
    "consulatum L. Brutus instituit. dictaturae ad tempus\n",
    "sumebantur; neque decemviralis potestas ultra biennium,\n",
    "neque tribunorum militum consulare ius diu valuit.\n",
    "\\par}\n",
    "{\\pard\n",
    "Non Cinnae, non Sullae longa dominatio; et Pompei Crassique potentia\n",
    " cito in Caesarem, Lepidi atque Antonii arma in Augustum cessere, qui\n",
    " cuncta discordiis civilibus fessa nomine principis sub imperium accepit.\n",
    "\\par}\n",
    "}\n",
    "\"\"\""
   ]
  },
  {
   "cell_type": "code",
   "execution_count": 30,
   "metadata": {},
   "outputs": [],
   "source": [
    "arquivo = open(\"insper-2.rtf\",\"w\")\n",
    "arquivo.write(TEXTO_RTF2)\n",
    "arquivo.close()"
   ]
  },
  {
   "cell_type": "code",
   "execution_count": 31,
   "metadata": {},
   "outputs": [
    {
     "name": "stdout",
     "output_type": "stream",
     "text": [
      "insper-1.rtf  insper-2.rtf\r\n"
     ]
    }
   ],
   "source": [
    "!ls *.rtf"
   ]
  },
  {
   "cell_type": "markdown",
   "metadata": {},
   "source": [
    "Referência\n",
    "\n",
    "- https://en.wikipedia.org/wiki/Rich_Text_Format\n",
    "- http://latex2rtf.sourceforge.net/rtfspec.html\n",
    "- https://www.biblioscape.com/rtf15_spec.htm\n",
    "- https://www.oreilly.com/library/view/rtf-pocket-guide/9781449302047/ch01.html"
   ]
  },
  {
   "cell_type": "markdown",
   "metadata": {},
   "source": [
    "### DOC & DOCX"
   ]
  },
  {
   "cell_type": "markdown",
   "metadata": {},
   "source": [
    "### Latex"
   ]
  }
 ],
 "metadata": {
  "kernelspec": {
   "display_name": "Python 3",
   "language": "python",
   "name": "python3"
  },
  "language_info": {
   "codemirror_mode": {
    "name": "ipython",
    "version": 3
   },
   "file_extension": ".py",
   "mimetype": "text/x-python",
   "name": "python",
   "nbconvert_exporter": "python",
   "pygments_lexer": "ipython3",
   "version": "3.6.13"
  }
 },
 "nbformat": 4,
 "nbformat_minor": 2
}
