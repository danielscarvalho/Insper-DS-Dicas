{
 "cells": [
  {
   "cell_type": "markdown",
   "metadata": {},
   "source": [
    "<img width=\"200\" style=\"float:right\" src=\"https://github.com/danielscarvalho/Insper-DS-Dicas/blob/master/Insper-Logo.png?raw=true\">"
   ]
  },
  {
   "cell_type": "markdown",
   "metadata": {},
   "source": [
    "# Computação para Ciências dos Dados\n",
    "\n",
    "<sub><a href=\"https://www.insper.edu.br/pos-graduacao/programas-avancados/programa-avancado-em-data-science-e-decisao/\">PÓS-GRADUAÇÃO EM DATA SCIENCE E DECISÃO</a></sub>\n",
    "\n",
    "## Dica do Dia: 009\n",
    "\n",
    "O objetivo desta dica do dia e explorar um pouco mais sobre geração de planilhas Excel/Calc, formatação e uma breve experiência artística com processamento de imagem.\n",
    "\n",
    "> Todos os dias no período de contingência pelo Coronavirus (COVID-19) vamos enviar uma breve dica sobre Python para ciências dos dados em um jupyter notebook, conteúdo adicional ao curso que pode ser utilizado nos projetos"
   ]
  },
  {
   "cell_type": "markdown",
   "metadata": {},
   "source": [
    "Os contadores trabalham com planilhas muito antes da inveção dos computadores.\n",
    "As planilhas eletrônicas são <i>lingua franca</i> no mundo dos negócios, ler e gerar arquivos do Excel/Calc é fundamental nos projetos de ciências dos dados.\n",
    "\n",
    "A [VisiCalc](https://pt.wikipedia.org/wiki/VisiCalc) foi a primeira planiha, criada em 1978, foi uma <i>killer application</i> que impulsionou a adoção de PCs pelas empresas, foi um dos fatores que possibiliou a transformação que temos hoje, para saber mais sobre essa história: http://www.dssresources.com/history/sshistory.html"
   ]
  },
  {
   "cell_type": "markdown",
   "metadata": {},
   "source": [
    "Lembre se de aprender sobre os riscos de utilizar planilhas no ambiente corporativo:\n",
    "\n",
    "- [Horror Stories - European Spreadsheet Risks Interest Group](http://www.eusprig.org/horror-stories.htm)\n",
    "- [Spreadsheet Risks Still Being Ignored by C-Suite: Study - CFO](https://www.cfo.com/budgeting/2019/06/spreadsheet-risks-still-being-ignored-by-c-suite-study/)\n",
    "- [Managing spreadsheet risks - PwC](https://www.pwc.com/gx/en/insurance/solvency-ii/pdf/pwc-countdown-june-11-managing-spreadsheet-risks.pdf)\n",
    "- [Spreadsheet Risk - Warning Warning Spreadsheets in Use](https://theexcelclub.com/spreadsheet-risk/)\n",
    "<div style=\"font-size:40px;text-align:right;\">😱</div>\n",
    "<br>"
   ]
  },
  {
   "cell_type": "markdown",
   "metadata": {},
   "source": [
    "Instalação das bibliotecas que vamos utilizar"
   ]
  },
  {
   "cell_type": "code",
   "execution_count": 3,
   "metadata": {},
   "outputs": [
    {
     "name": "stdout",
     "output_type": "stream",
     "text": [
      "Requirement already satisfied: xlrd in /x4n/opt/anaconda3/lib/python3.6/site-packages (1.2.0)\r\n"
     ]
    }
   ],
   "source": [
    "!pip install xlrd"
   ]
  },
  {
   "cell_type": "code",
   "execution_count": 196,
   "metadata": {
    "scrolled": true
   },
   "outputs": [
    {
     "name": "stdout",
     "output_type": "stream",
     "text": [
      "Requirement already satisfied: pillow in /x4n/opt/anaconda3/lib/python3.6/site-packages (5.4.1)\r\n"
     ]
    }
   ],
   "source": [
    "!pip install pillow"
   ]
  },
  {
   "cell_type": "markdown",
   "metadata": {},
   "source": [
    "Import das bibliotecas\n",
    "\n",
    "### xlrd"
   ]
  },
  {
   "cell_type": "code",
   "execution_count": 205,
   "metadata": {
    "collapsed": true
   },
   "outputs": [],
   "source": [
    "from xlwt import Workbook\n",
    "import xlwt\n",
    "import random"
   ]
  },
  {
   "cell_type": "markdown",
   "metadata": {},
   "source": [
    "Criar uma planilha e uma pasta, e incluir nas células os valores calculados..."
   ]
  },
  {
   "cell_type": "code",
   "execution_count": 206,
   "metadata": {
    "collapsed": true
   },
   "outputs": [],
   "source": [
    "#Cria um objeto com uma planilha nova\n",
    "book = Workbook()\n",
    "\n",
    "#Criar uma pasta na planilha\n",
    "sheet1 = book.add_sheet('Pasta 1')\n",
    "\n",
    "#Loop para criar o conteúdo, planilha de 20 x 20 com a sequência numérica\n",
    "for linha in range(0, 20):\n",
    "    for coluna in range(0, 20):\n",
    "        sheet1.write(linha, coluna, (linha + 1) * (coluna + 1)) #linha, coluna, conteúdo\n",
    "\n",
    "#Salva a planilha, na mesma pasta do notebook\n",
    "book.save('planilha01.xls')"
   ]
  },
  {
   "cell_type": "markdown",
   "metadata": {},
   "source": [
    "Note que no Excel/Calc a planilha inicia na linha __1__ e no código na linha **0** (ZERO)"
   ]
  },
  {
   "cell_type": "markdown",
   "metadata": {},
   "source": [
    "> No ambiente Linux há disponível o [LivreOffice](https://www.libreoffice.org/) com o programa de planilhas Calc (também disponível para Mac e Windows), que é compatível com o Excel e consegue ler e gravar arquivos nos formatos xls e xlsx também, entre outros formatos."
   ]
  },
  {
   "cell_type": "markdown",
   "metadata": {},
   "source": [
    "O objeto string do Python 3.x tem uma ferramenta poderosa para formatar o texto chamado \"format\", para saber mais: https://docs.python.org/pt-br/3/tutorial/inputoutput.html"
   ]
  },
  {
   "cell_type": "code",
   "execution_count": 201,
   "metadata": {
    "scrolled": true
   },
   "outputs": [
    {
     "data": {
      "text/plain": [
       "'Nome=Maria;Valor=123.12;Código:=42'"
      ]
     },
     "execution_count": 201,
     "metadata": {},
     "output_type": "execute_result"
    }
   ],
   "source": [
    "\"Nome={};Valor={};Código:={}\".format(\"Maria\", 123.12, 42)"
   ]
  },
  {
   "cell_type": "markdown",
   "metadata": {},
   "source": [
    "Neste exemplo estamos também incluindo texto para o título e fórmulas da planilha"
   ]
  },
  {
   "cell_type": "code",
   "execution_count": 207,
   "metadata": {
    "collapsed": true
   },
   "outputs": [],
   "source": [
    "book = Workbook()\n",
    "\n",
    "#Criar uma pasta na planilha\n",
    "sheet1 = book.add_sheet('Pasta 1')\n",
    "maxlinha = 21\n",
    "\n",
    "#Cabeçalho:\n",
    "sheet1.write(0, 0, \"#\") #linha, coluna, conteúdo\n",
    "sheet1.write(0, 1, \"Quantidade\")\n",
    "sheet1.write(0, 2, \"Valor\")\n",
    "sheet1.write(0, 3, \"Total\")\n",
    "sheet1.write(0, 4, \"Acumulado\")\n",
    "\n",
    "#Loop para criar o conteúdo, planilha de 20 x 20 com a sequência numérica\n",
    "for linha in range(1, maxlinha):\n",
    "    sheet1.write(linha, 0, linha) #linha, coluna, conteúdo\n",
    "    sheet1.write(linha, 1, random.randint(1,100))\n",
    "    sheet1.write(linha, 2, random.random()*1000) #linha, coluna, conteúdo\n",
    "    sheet1.write(linha, 3, xlwt.Formula('B{}*C{}'.format(linha+1, linha+1)))\n",
    "    \n",
    "    if linha == 1:\n",
    "        sheet1.write(linha, 4, xlwt.Formula('D2'))\n",
    "    else:\n",
    "        sheet1.write(linha, 4, xlwt.Formula('D{}+E{}'.format(linha+1, linha)))\n",
    "\n",
    "#Rodapé, somatório final        \n",
    "sheet1.write(maxlinha,0,\"Total\")\n",
    "sheet1.write(maxlinha,1,xlwt.Formula('SUM(B2:B{})'.format(maxlinha)))\n",
    "sheet1.write(maxlinha,2,xlwt.Formula('SUM(C2:C{})'.format(maxlinha)))\n",
    "sheet1.write(maxlinha,3,xlwt.Formula('SUM(D2:D{})'.format(maxlinha)))\n",
    "sheet1.write(maxlinha,4,xlwt.Formula('SUM(E2:E{})'.format(maxlinha)))\n",
    "\n",
    "#Salva o arquivo\n",
    "book.save('planilha02.xls')"
   ]
  },
  {
   "cell_type": "markdown",
   "metadata": {},
   "source": [
    "**Atividade**: Copie o código assima e inclua formatação na planilha (cor, fonte, etc...) consultando a documentação"
   ]
  },
  {
   "cell_type": "markdown",
   "metadata": {},
   "source": [
    "**Dica**: \n",
    "\n",
    "- Em data science só utlize planilha para transportar dados quanto inevitável, procurar utilizar outros formatos como JSON, XML, TSV, CSV, etc...\n",
    "- Nunca fazer data science em VBA!!!\n",
    "\n",
    "<div style=\"font-size:40px;text-align:right;\">☠</div>"
   ]
  },
  {
   "cell_type": "markdown",
   "metadata": {},
   "source": [
    "- Por outro lado você pode utilizar planilha para fazer **ARTE**!!!\n",
    "\n",
    "<div style=\"font-size:40px;text-align:right;\">👍</div>\n",
    "<br>"
   ]
  },
  {
   "cell_type": "code",
   "execution_count": 208,
   "metadata": {
    "collapsed": true,
    "scrolled": true
   },
   "outputs": [],
   "source": [
    "book = Workbook()\n",
    "\n",
    "sheet1 = book.add_sheet('Arte 1')\n",
    "\n",
    "for i in range(0, 100):\n",
    "    estilo = xlwt.easyxf('pattern: pattern solid;')\n",
    "    estilo.pattern.pattern_fore_colour = i\n",
    "    sheet1.write(i % 24, i // 24, i, estilo)  #linha, coluna, conteúdo, estilo\n",
    "\n",
    "book.save('planilha03.xls') "
   ]
  },
  {
   "cell_type": "markdown",
   "metadata": {},
   "source": [
    "No exemplo a seguir, abra o arquivo planilha03.xlsx no Excel/Calc, selecione toda a planilha e escolha formatação condicional de cor por vador máximo 10 e mínimo -10, ajuste o tamanho das células horizontal para ficar pequeno..."
   ]
  },
  {
   "cell_type": "code",
   "execution_count": 209,
   "metadata": {
    "collapsed": true
   },
   "outputs": [],
   "source": [
    "import math\n",
    "\n",
    "book = Workbook()\n",
    "\n",
    "sheet1 = book.add_sheet('Arte 2')\n",
    "\n",
    "r = 100;\n",
    "\n",
    "for x in range(0, 100):\n",
    "    for y in range(0, 100):\n",
    "        sheet1.write(x, y, math.sin(x*r) * math.cos(y*r))\n",
    "\n",
    "book.save('planilha04.xls') "
   ]
  },
  {
   "cell_type": "markdown",
   "metadata": {},
   "source": [
    "![Arte em planilha](planilha04.png)\n",
    "\n",
    "\n",
    "### xlswriter\n",
    "\n",
    "Há outra biblioteca mais recente, interessante para trabalhar com planilhas versão mais atualizada para arquivo **xlsx**... com recursos mais avançados para formatação..."
   ]
  },
  {
   "cell_type": "code",
   "execution_count": 210,
   "metadata": {
    "collapsed": true
   },
   "outputs": [],
   "source": [
    "from xlsxwriter.workbook import Workbook\n",
    "\n",
    "workbook = Workbook('planilha05.xlsx')\n",
    "worksheet = workbook.add_worksheet('Pasta 1')\n",
    "\n",
    "#Note que aqui podemos utilizar o endereço da célula na planilha\n",
    "worksheet.write('A1', \"Valores\")\n",
    "worksheet.write('A2', 19)\n",
    "worksheet.write('A3', 51)\n",
    "worksheet.write('A4', 20)\n",
    "worksheet.write('A5', 120)\n",
    "worksheet.write_formula('A6','SUM(A2:A5)')\n",
    "\n",
    "format1 = workbook.add_format({'bold': 1, 'italic': 1, 'bg_color': \"yellow\"})\n",
    "format2 = workbook.add_format({'color': 'red'})\n",
    "\n",
    "worksheet.conditional_format('A1:A6', {'type': 'cell',\n",
    "                                       'criteria': '>=',\n",
    "                                       'value': 50,\n",
    "                                       'format': format1})\n",
    "\n",
    "worksheet.conditional_format('A1:A6', {'type': 'cell',\n",
    "                                       'criteria': '=',\n",
    "                                       'value': 20,\n",
    "                                       'format': format2})\n",
    "workbook.close()"
   ]
  },
  {
   "cell_type": "markdown",
   "metadata": {},
   "source": [
    "Neste exemplo os valores são destacados pelas cores"
   ]
  },
  {
   "cell_type": "code",
   "execution_count": 211,
   "metadata": {
    "collapsed": true
   },
   "outputs": [],
   "source": [
    "workbook = Workbook('planilha06.xlsx')\n",
    "worksheet = workbook.add_worksheet('Arte 3')\n",
    "\n",
    "# Light red fill with dark red text.\n",
    "format1 = workbook.add_format({'bg_color':   '#FFC7CE',\n",
    "                               'font_color': '#9C0006'})\n",
    "\n",
    "# Light yellow fill with dark yellow text.\n",
    "format2 = workbook.add_format({'bg_color':   '#FFEB9C',\n",
    "                               'font_color': '#9C6500'})\n",
    "\n",
    "# Green fill with dark green text.\n",
    "format3 = workbook.add_format({'bg_color':   '#C6EFCE',\n",
    "                               'font_color': '#006100'})\n",
    "\n",
    "worksheet.conditional_format('A1:CV100', {'type':     'cell',\n",
    "                                        'criteria': '<=',\n",
    "                                        'value':    0,\n",
    "                                        'format':   format1})\n",
    "\n",
    "worksheet.conditional_format('A1:CV100', {'type':     'cell',\n",
    "                                        'criteria': '>',\n",
    "                                        'value':    0,\n",
    "                                        'format':   format3})\n",
    "\n",
    "#E o format3?? Adicione este elemento no código e veja o resultado!\n",
    "\n",
    "r = 100;\n",
    "\n",
    "for x in range(0, r):\n",
    "    for y in range(0, r):\n",
    "\n",
    "        worksheet.write(x, y, r * (math.sin(x) * math.cos(y)))\n",
    "\n",
    "workbook.close() "
   ]
  },
  {
   "cell_type": "markdown",
   "metadata": {},
   "source": [
    "Outra forma de destacar os dados com cores utilizando gradiente"
   ]
  },
  {
   "cell_type": "code",
   "execution_count": 212,
   "metadata": {
    "collapsed": true
   },
   "outputs": [],
   "source": [
    "workbook = Workbook('planilha07.xlsx')\n",
    "worksheet = workbook.add_worksheet('Arte 4')\n",
    "\n",
    "worksheet.conditional_format('A1:AN40', {'type': '2_color_scale'})\n",
    "\n",
    "val = range(-20,20)\n",
    "\n",
    "for x in range(len(val)):\n",
    "    for y in range(len(val)):\n",
    "        worksheet.write(x, y, (val[x]*val[y])**2) #Parabola\n",
    "        \n",
    "workbook.close() "
   ]
  },
  {
   "cell_type": "markdown",
   "metadata": {},
   "source": [
    "> Na Internet há WEB APIs (WEB Services) para tudo hoje em dia!!\n",
    "\n",
    "Vamos utilizar uma WEB API que traz imagens do ator Bill Murray, você pode especificar o tamanho da imagem e se ela deve ser preto e branco, os parâmetros são passados na URL. Fonte: https://www.fillmurray.com"
   ]
  },
  {
   "cell_type": "code",
   "execution_count": 1,
   "metadata": {
    "scrolled": false
   },
   "outputs": [
    {
     "data": {
      "text/html": [
       "<img src=\"https://www.fillmurray.com/g/200/200\"> <!-- gray scale image -->\n",
       "<img src=\"https://www.fillmurray.com/120/120\">\n",
       "<img src=\"https://www.fillmurray.com/300/200\">\n"
      ],
      "text/plain": [
       "<IPython.core.display.HTML object>"
      ]
     },
     "metadata": {},
     "output_type": "display_data"
    }
   ],
   "source": [
    "%%HTML\n",
    "<img src=\"https://www.fillmurray.com/g/200/200\"> <!-- gray scale image -->\n",
    "<img src=\"https://www.fillmurray.com/120/120\">\n",
    "<img src=\"https://www.fillmurray.com/300/200\">"
   ]
  },
  {
   "cell_type": "markdown",
   "metadata": {},
   "source": [
    "Vamos agora transformar a imagem do Bill Murray em uma planilha e assim explorar as capacidades artísticas com planilhas Excel\\Calc!"
   ]
  },
  {
   "cell_type": "markdown",
   "metadata": {},
   "source": [
    "Importar as bibliotecas, carregar uma imagem 100x100, exibir a imagem para validação..."
   ]
  },
  {
   "cell_type": "code",
   "execution_count": 224,
   "metadata": {
    "collapsed": true
   },
   "outputs": [],
   "source": [
    "import requests\n",
    "from IPython.display import Image as IPImage, display\n",
    "from PIL import Image"
   ]
  },
  {
   "cell_type": "code",
   "execution_count": 222,
   "metadata": {
    "collapsed": true
   },
   "outputs": [],
   "source": [
    "response = requests.get(\"https://www.fillmurray.com/100/100\")"
   ]
  },
  {
   "cell_type": "code",
   "execution_count": 223,
   "metadata": {
    "scrolled": true
   },
   "outputs": [
    {
     "data": {
      "text/plain": [
       "<Response [200]>"
      ]
     },
     "execution_count": 223,
     "metadata": {},
     "output_type": "execute_result"
    }
   ],
   "source": [
    "response"
   ]
  },
  {
   "cell_type": "code",
   "execution_count": 226,
   "metadata": {},
   "outputs": [
    {
     "data": {
      "image/jpeg": "[encoded data removed]",
      "text/plain": [
       "<IPython.core.display.Image object>"
      ]
     },
     "execution_count": 226,
     "metadata": {},
     "output_type": "execute_result"
    }
   ],
   "source": [
    "IPImage(response.content)"
   ]
  },
  {
   "cell_type": "markdown",
   "metadata": {},
   "source": [
    "Obter e validar a imagem, note que não estamos salvando o arquivo, os dados são lidos na memória (variáveis) e processados..."
   ]
  },
  {
   "cell_type": "code",
   "execution_count": 227,
   "metadata": {},
   "outputs": [
    {
     "name": "stdout",
     "output_type": "stream",
     "text": [
      "JPEG RGB (100, 100)\n"
     ]
    }
   ],
   "source": [
    "r = requests.get(\"https://www.fillmurray.com/100/100\", stream=True)\n",
    "r.raw.decode_content = True # handle spurious Content-Encoding\n",
    "im = Image.open(r.raw)\n",
    "\n",
    "print(im.format, im.mode, im.size)"
   ]
  },
  {
   "cell_type": "markdown",
   "metadata": {},
   "source": [
    "As imagens são compostas por pixels. Cada pixel é composto por 3 valores inteiros (números naturais), representando as cores RGB. Há diversas outras formas de representar cores computacionalmente.\n",
    "\n",
    "As imagens tem duas dimenções 800x600, 1024x768, etc...\n",
    "\n",
    "Desta forma uma imagem colorida consiste em uma matriz de por exemplo 800x600x3."
   ]
  },
  {
   "cell_type": "markdown",
   "metadata": {},
   "source": [
    "Processando os dados da imagem, transformando em um array/matriz 100x100 com tuplas de 3 valores inteiros RGB (números naturais)."
   ]
  },
  {
   "cell_type": "code",
   "execution_count": 181,
   "metadata": {
    "collapsed": true
   },
   "outputs": [],
   "source": [
    "pixels = list(im.getdata())\n",
    "width, height = im.size\n",
    "\n",
    "pixels = [pixels[i * width:(i + 1) * width] for i in range(height)]"
   ]
  },
  {
   "cell_type": "code",
   "execution_count": 189,
   "metadata": {},
   "outputs": [
    {
     "data": {
      "text/plain": [
       "100"
      ]
     },
     "execution_count": 189,
     "metadata": {},
     "output_type": "execute_result"
    }
   ],
   "source": [
    "len(pixels)"
   ]
  },
  {
   "cell_type": "code",
   "execution_count": 233,
   "metadata": {},
   "outputs": [
    {
     "data": {
      "text/plain": [
       "100"
      ]
     },
     "execution_count": 233,
     "metadata": {},
     "output_type": "execute_result"
    }
   ],
   "source": [
    "len(pixels[0])"
   ]
  },
  {
   "cell_type": "code",
   "execution_count": 234,
   "metadata": {},
   "outputs": [
    {
     "data": {
      "text/plain": [
       "(53, 50, 43)"
      ]
     },
     "execution_count": 234,
     "metadata": {},
     "output_type": "execute_result"
    }
   ],
   "source": [
    "pixels[0][0]"
   ]
  },
  {
   "cell_type": "markdown",
   "metadata": {},
   "source": [
    "Exemplo de uma imagem com 4x4 pixels: 4x4x3 quatro linhas, quatro colunas, cores RGB (3 valores)\n",
    "\n",
    "<img src=\"img-example.png\" width=\"100\"/>\n",
    "\n",
    "```python\n",
    "img = [[(255, 255, 255),(0, 0, 255),(0, 255, 0),(0,0,0)],\n",
    "       [(255,   0,   0),(0, 0, 255),(0, 255, 0),(0,0,0)],\n",
    "       [(255,   0,   0),(0, 0, 255),(0, 255, 0),(100,100,100)],\n",
    "       [(255,   0,   0),(0, 0, 255),(0, 255, 0),(100,100,100)]]\n",
    "```\n",
    "<br>\n",
    "<pre>\n",
    "Base decimal:     0, 1, 2, 3, 4, 5, 6, 7, 8, 9\n",
    "Base hexadecimal: 0, 1, 2, 3, 4, 5, 6, 7, 8, 9, A, B, C, D, E, F\n",
    "</pre>\n",
    "\n",
    "Para cada canal de cores: 255 (FF) é o maior tom (branco), e 0 (0) é o menor tom (preto)"
   ]
  },
  {
   "cell_type": "code",
   "execution_count": null,
   "metadata": {
    "collapsed": true
   },
   "outputs": [],
   "source": [
    "pixels #long output"
   ]
  },
  {
   "cell_type": "markdown",
   "metadata": {},
   "source": [
    "Função para converter as cores dos pixels recebidos em tuplas com 3 valores (RGB) decimais para o formato hexadecimal\n",
    "\n",
    "- #FFFFFF ➔ Branco\n",
    "- #000000 ➔ Preto\n",
    "- #606060 ➔ Um tom de cinza\n",
    "- #FF0000 ➔ Vermelho (R - Red)\n",
    "- #00FF00 ➔ Verde (G - Green)\n",
    "- #0000FF ➔ Azul (B - Blue)\n",
    "- #8E44AD ➔ Tom de roxo\n",
    "\n",
    "Experimente escolher as cores visualmente: https://htmlcolorcodes.com/"
   ]
  },
  {
   "cell_type": "code",
   "execution_count": 183,
   "metadata": {
    "collapsed": true
   },
   "outputs": [],
   "source": [
    "def rgb_to_hex(rgb):\n",
    "    return '#%02x%02x%02x' % rgb"
   ]
  },
  {
   "cell_type": "code",
   "execution_count": 185,
   "metadata": {
    "scrolled": true
   },
   "outputs": [
    {
     "data": {
      "text/plain": [
       "'#373529'"
      ]
     },
     "execution_count": 185,
     "metadata": {},
     "output_type": "execute_result"
    }
   ],
   "source": [
    "rgb_to_hex((55,53,41))"
   ]
  },
  {
   "cell_type": "code",
   "execution_count": 235,
   "metadata": {},
   "outputs": [
    {
     "data": {
      "text/plain": [
       "'#35322b'"
      ]
     },
     "execution_count": 235,
     "metadata": {},
     "output_type": "execute_result"
    }
   ],
   "source": [
    "rgb_to_hex(pixels[0][0])"
   ]
  },
  {
   "cell_type": "markdown",
   "metadata": {},
   "source": [
    "Aqui a mágica acontece!! 🧙\n",
    "\n",
    "Vamos ler os dados das cores de cada pixel da imagem, converter para hexadecial e usar como fundo da células da planilha"
   ]
  },
  {
   "cell_type": "code",
   "execution_count": 195,
   "metadata": {
    "collapsed": true
   },
   "outputs": [],
   "source": [
    "workbook = Workbook('planilha08.xlsx')\n",
    "worksheet = workbook.add_worksheet('Arte 5 - Bill Murray')\n",
    "\n",
    "#Note que estamos usamdo uma imagem de 100 x 100 pixels\n",
    "image_size=100;\n",
    "\n",
    "for x in range(image_size):\n",
    "    for y in range(image_size):\n",
    "        cell_format = workbook.add_format({'bg_color': rgb_to_hex(pixels[x][y])}) #estilo\n",
    "        worksheet.write(x, y, \"\", cell_format)\n",
    "        \n",
    "workbook.close() "
   ]
  },
  {
   "cell_type": "markdown",
   "metadata": {},
   "source": [
    "![Arte com planilha](planilha08.jpg)"
   ]
  },
  {
   "cell_type": "markdown",
   "metadata": {},
   "source": [
    "> É assim que um cientista de dados utiliza planilhas!!! 💥\n",
    "\n",
    "Se você não gosta do [Bill Murray](https://pt.wikipedia.org/wiki/Bill_Murray), pode utilizar outra WEB API de imagens:\n",
    "\n",
    "- Nicolas Cage: https://www.placecage.com/\n",
    "- Steven Segal: https://www.stevensegallery.com/\n",
    "- Gatinhos: https://thecatapi.com/\n",
    "- Cachorrinhos: https://dog.ceo/dog-api/\n",
    "\n",
    "Há até **cat** as a services: https://cataas.com/#/\n",
    "\n",
    "Sobre arte no Excel:\n",
    "\n",
    "- https://www.thisiscolossal.com/2017/12/tatsuo-horiuchi-excel-artist/\n",
    "- https://mymodernmet.com/excel-art/\n",
    "- https://mashable.com/2014/10/26/microsoft-excel-art/\n",
    "\n",
    "Note que neste notebook estamos utilizando diversos icones 🤪, são caracteres unicode, formatamos usando HTML e CSS no markdown.\n",
    "\n",
    "```html\n",
    "<div style=\"font-size:40px;text-align:right;\">🤠</div>\n",
    "```\n",
    "\n",
    "ou\n",
    "\n",
    "```html\n",
    "<em style=\"font-size:40px;text-align:right;\">😎</em>\n",
    "```\n",
    "\n",
    "É possível encontrar estes icones (caracteres) nas tabelas UNICODE e colar no texto, ou utilizar os códigos HTML: &amp;#9813; ou &amp;#9813; ou &amp;#x2655; para o caractere ♕ por exemplo. O browser renderiza diversos caracteres UNICODE como icones.  "
   ]
  },
  {
   "cell_type": "markdown",
   "metadata": {},
   "source": [
    "**Atividade**: Crie uma planilha 20x20 com números aleatórios. Crie uma planilha com uma imagem bitmap (0 e 1) e utilize formatação condicional para gerar visual colorido."
   ]
  },
  {
   "cell_type": "markdown",
   "metadata": {},
   "source": [
    "Quando buscar por dicas na Internet, verifique qual a biblioteca que está sendo utilizada __xlrd__ ou **xlswriter** na documentação ou forum.\n",
    "\n",
    "Para saber mais:\n",
    "\n",
    "- https://xlrd.readthedocs.io/en/latest/\n",
    "- https://xlsxwriter.readthedocs.io/#\n",
    "- https://www.geeksforgeeks.org/writing-excel-sheet-using-python/\n",
    "- https://en.wikipedia.org/wiki/Digital_image\n",
    "- https://unicode.org/emoji/charts/full-emoji-list.html\n",
    "- https://unicode-table.com/pt/\n",
    "- https://unicode-table.com/pt/sets/arrow-symbols/\n",
    "- https://www.w3schools.com/charsets/ref_utf_symbols.asp\n",
    "- https://twitter.com/MicrosoftBr/status/1604847012389830662"
   ]
  },
  {
   "cell_type": "markdown",
   "metadata": {},
   "source": [
    "PS: Você pode impressionar a pessoa amada com um único e exclusivo <i>portrait</i> em planilha\n",
    "\n",
    "🤡"
   ]
  }
 ],
 "metadata": {
  "kernelspec": {
   "display_name": "Python 3",
   "language": "python",
   "name": "python3"
  },
  "language_info": {
   "codemirror_mode": {
    "name": "ipython",
    "version": 3
   },
   "file_extension": ".py",
   "mimetype": "text/x-python",
   "name": "python",
   "nbconvert_exporter": "python",
   "pygments_lexer": "ipython3",
   "version": "3.6.13"
  }
 },
 "nbformat": 4,
 "nbformat_minor": 2
}
