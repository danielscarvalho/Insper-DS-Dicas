{
 "cells": [
  {
   "cell_type": "markdown",
   "metadata": {},
   "source": [
    "<img width=\"200\" style=\"float:right\" src=\"https://github.com/danielscarvalho/Insper-DS-Dicas/blob/master/Insper-Logo.png?raw=true\">"
   ]
  },
  {
   "cell_type": "markdown",
   "metadata": {},
   "source": [
    "# Computação para Ciências dos Dados\n",
    "\n",
    "<sub><a href=\"https://www.insper.edu.br/pos-graduacao/programas-avancados/programa-avancado-em-data-science-e-decisao/\">PÓS-\n",
    "GRADUAÇÃO EM DATA SCIENCE E DECISÃO</a></sub>\n",
    "\n",
    "## Dica do Dia: 001\n",
    "\n",
    "O objetivo desta dica do dia é aprender a gerar o gráfico Tree Map para análise visual dos dados, por meio de exemplos\n",
    "\n",
    "> Todos os dias no período de contingência pelo Coronavirus (COVID-19) vamos enviar uma breve dica sobre Python para ciências dos dados em um jupyter notebook, conteúdo adicional ao curso que pode ser utilizado nos projetos\n",
    "\n",
    "### Gráfico: Tree Map\n",
    "\n",
    "Os mapas de árvore (Tree Map) são visualizações em estrutura hierárquica de um diagrama de árvore, exibe as quantidades para cada categoria conforme o tamanho da área. A cada categoria é atribuída uma área retangular com seus retângulos de subcategoria aninhados dentro do gráfico."
   ]
  },
  {
   "cell_type": "markdown",
   "metadata": {},
   "source": [
    "Instalar o algoritmo do treemap: squarify"
   ]
  },
  {
   "cell_type": "code",
   "execution_count": null,
   "metadata": {
    "scrolled": false
   },
   "outputs": [],
   "source": [
    "# Nota: dependendo do seu Sistema Operacional, você terá que utilizar o \"pip3\"\n",
    "!pip install squarify"
   ]
  },
  {
   "cell_type": "markdown",
   "metadata": {},
   "source": [
    "Importar as libs"
   ]
  },
  {
   "cell_type": "code",
   "execution_count": 21,
   "metadata": {},
   "outputs": [],
   "source": [
    "import matplotlib.pyplot as plt \n",
    "import squarify    "
   ]
  },
  {
   "cell_type": "markdown",
   "metadata": {},
   "source": [
    "Exemplo 1:"
   ]
  },
  {
   "cell_type": "markdown",
   "metadata": {},
   "source": [
    "Uso padrão da biblioteca squarify. Precisamos informar: \n",
    "  - os tamanhos dos quadrados (sizes), e \n",
    "  - a que eles se referem (labels). "
   ]
  },
  {
   "cell_type": "code",
   "execution_count": 22,
   "metadata": {
    "scrolled": true
   },
   "outputs": [
    {
     "data": {
      "image/png": "[encoded data removed]",
      "text/plain": [
       "<Figure size 432x288 with 1 Axes>"
      ]
     },
     "metadata": {
      "needs_background": "light"
     },
     "output_type": "display_data"
    }
   ],
   "source": [
    "squarify.plot(sizes=[100, 12, 44, 4, 2, 10], \n",
    "              label=[\"A\", \"B\", \"C\", \"D\", \"E\", \"F\"]) \n",
    "\n",
    "# Remove os eixos e mostra o gráfico\n",
    "plt.axis('off') \n",
    "plt.show()"
   ]
  },
  {
   "cell_type": "markdown",
   "metadata": {},
   "source": [
    "Exemplo 2:"
   ]
  },
  {
   "cell_type": "code",
   "execution_count": null,
   "metadata": {},
   "outputs": [],
   "source": [
    "import pandas as pd"
   ]
  },
  {
   "cell_type": "markdown",
   "metadata": {},
   "source": [
    "Aqui criamos um dataframe chamado \"df\", a partir de um Dicionário\n",
    "(indicado entre {}).<BR> O dicionário é uma estrutura de dados que relaciona \n",
    "pares de CHAVES e VALORES, equivalente a um JSON.<BR> Nosso dicionário contém 2 colunas. A primeira \n",
    "chama-se \"nb_people\" e a segunda \"group\".<BR>Os valores são informados por\n",
    "listas (indicadas pelos []). "
   ]
  },
  {
   "cell_type": "code",
   "execution_count": null,
   "metadata": {},
   "outputs": [],
   "source": [
    "df = pd.DataFrame({'nb_people':[10, 4, 4, 11], \n",
    "                   'group':[\"A\", \"B\", \"C\", \"D\"]}) "
   ]
  },
  {
   "cell_type": "markdown",
   "metadata": {},
   "source": [
    "Plotamos com squarify os valores da coluna \"nb_people\" usando os valores \n",
    "da coluna \"group\" como labels.<BR> Também mudamos a transparência (com o parâmetro\n",
    "alpha) e explicitamos as cores por meio de uma lista de nomes de cores. "
   ]
  },
  {
   "cell_type": "code",
   "execution_count": 23,
   "metadata": {
    "scrolled": false
   },
   "outputs": [
    {
     "data": {
      "image/png": "[encoded data removed]",
      "text/plain": [
       "<Figure size 432x288 with 1 Axes>"
      ]
     },
     "metadata": {
      "needs_background": "light"
     },
     "output_type": "display_data"
    }
   ],
   "source": [
    "squarify.plot(sizes=df['nb_people'], \n",
    "              label=df['group'], \n",
    "              alpha=.8,\n",
    "              color=[\"gray\", \"green\", \"blue\", \"red\"]) \n",
    "\n",
    "plt.axis('off') \n",
    "plt.show() "
   ]
  },
  {
   "cell_type": "markdown",
   "metadata": {},
   "source": [
    "Exemplo 3:"
   ]
  },
  {
   "cell_type": "code",
   "execution_count": 24,
   "metadata": {},
   "outputs": [],
   "source": [
    "import random\n",
    "import math"
   ]
  },
  {
   "cell_type": "markdown",
   "metadata": {},
   "source": [
    "Cria uma lista de 20 elementos, sendo números aleatórios distribuídos \n",
    "entre 0 e 100, sendo que a maioria deles estão próximos de 100. Veja \n",
    "mais em: https://docs.scipy.org/doc/numpy-1.13.0/reference/generated/numpy.random.triangular.html\n",
    "\n",
    "Além disso, arredonda o número retornado para o menor inteiro mais próximo,\n",
    "usando a função \"floor()\" da biblioteca \"math\". "
   ]
  },
  {
   "cell_type": "code",
   "execution_count": 25,
   "metadata": {},
   "outputs": [],
   "source": [
    "val = [math.floor(random.triangular(0, 100, 100)) for i in range(20)]"
   ]
  },
  {
   "cell_type": "code",
   "execution_count": 26,
   "metadata": {
    "scrolled": false
   },
   "outputs": [
    {
     "data": {
      "image/png": "[encoded data removed]",
      "text/plain": [
       "<Figure size 432x288 with 1 Axes>"
      ]
     },
     "metadata": {
      "needs_background": "light"
     },
     "output_type": "display_data"
    }
   ],
   "source": [
    "squarify.plot(sizes=val, \n",
    "              alpha=.9 ) \n",
    "\n",
    "#plt.axis('off') \n",
    "plt.show()"
   ]
  },
  {
   "cell_type": "markdown",
   "metadata": {},
   "source": [
    "Exemplo 4:\n",
    "\n",
    "Gerar gráfico com base nos dados da notícia a seguir:\n",
    "\n",
    "6000 Companies Hiring Data Scientists:<br>\n",
    "https://www.datasciencecentral.com/profiles/blogs/6000-companies-hiring-data-scientists"
   ]
  },
  {
   "cell_type": "code",
   "execution_count": null,
   "metadata": {},
   "outputs": [],
   "source": [
    "import pandas as pd"
   ]
  },
  {
   "cell_type": "markdown",
   "metadata": {},
   "source": [
    "\"fileurl\" é uma variável que armazena uma string, no caso, a URL para um arquivo Excel. \n",
    "O caracter 'r' na frente da string é uma indicação para o Python tratá-la como uma string \n",
    "pura (raw), considerando caracteres reservados como caracteres comuns. "
   ]
  },
  {
   "cell_type": "code",
   "execution_count": 27,
   "metadata": {},
   "outputs": [],
   "source": [
    "fileurl   = r'https://storage.ning.com/topology/rest/1.0/file/get/2808319155?profile=original'\n",
    "\n",
    "# Usa a função \"read_excel\" do Pandas para ler um arquivo Excel e salvar o conteúdo em um dataframe\n",
    "df_ds_jobs = pd.read_excel(fileurl)"
   ]
  },
  {
   "cell_type": "markdown",
   "metadata": {},
   "source": [
    "Retorna uma amostra aleatoria de 10 elementos do dataframe.<br> \n",
    "Esta função é difirente de retornar os primeiros 10 elementos\n",
    "usando head(10).<br>Experimente!"
   ]
  },
  {
   "cell_type": "code",
   "execution_count": 28,
   "metadata": {},
   "outputs": [
    {
     "data": {
      "text/html": [
       "<div>\n",
       "<style scoped>\n",
       "    .dataframe tbody tr th:only-of-type {\n",
       "        vertical-align: middle;\n",
       "    }\n",
       "\n",
       "    .dataframe tbody tr th {\n",
       "        vertical-align: top;\n",
       "    }\n",
       "\n",
       "    .dataframe thead th {\n",
       "        text-align: right;\n",
       "    }\n",
       "</style>\n",
       "<table border=\"1\" class=\"dataframe\">\n",
       "  <thead>\n",
       "    <tr style=\"text-align: right;\">\n",
       "      <th></th>\n",
       "      <th>Company</th>\n",
       "      <th>Number of Connections</th>\n",
       "    </tr>\n",
       "  </thead>\n",
       "  <tbody>\n",
       "    <tr>\n",
       "      <th>6143</th>\n",
       "      <td>streetprofile Ltd</td>\n",
       "      <td>1</td>\n",
       "    </tr>\n",
       "    <tr>\n",
       "      <th>1862</th>\n",
       "      <td>Culturelink</td>\n",
       "      <td>1</td>\n",
       "    </tr>\n",
       "    <tr>\n",
       "      <th>4629</th>\n",
       "      <td>SHI</td>\n",
       "      <td>1</td>\n",
       "    </tr>\n",
       "    <tr>\n",
       "      <th>3279</th>\n",
       "      <td>Kneese Consulting</td>\n",
       "      <td>1</td>\n",
       "    </tr>\n",
       "    <tr>\n",
       "      <th>47</th>\n",
       "      <td>Electronic Arts</td>\n",
       "      <td>8</td>\n",
       "    </tr>\n",
       "    <tr>\n",
       "      <th>215</th>\n",
       "      <td>Nokia</td>\n",
       "      <td>3</td>\n",
       "    </tr>\n",
       "    <tr>\n",
       "      <th>5727</th>\n",
       "      <td>Vertica Systems</td>\n",
       "      <td>1</td>\n",
       "    </tr>\n",
       "    <tr>\n",
       "      <th>3469</th>\n",
       "      <td>Los Angeles Dismantler for Porsche</td>\n",
       "      <td>1</td>\n",
       "    </tr>\n",
       "    <tr>\n",
       "      <th>1647</th>\n",
       "      <td>Cincinnati Test Systems</td>\n",
       "      <td>1</td>\n",
       "    </tr>\n",
       "    <tr>\n",
       "      <th>440</th>\n",
       "      <td>Institute for Development and Research in Bank...</td>\n",
       "      <td>2</td>\n",
       "    </tr>\n",
       "  </tbody>\n",
       "</table>\n",
       "</div>"
      ],
      "text/plain": [
       "                                                Company  Number of Connections\n",
       "6143                                  streetprofile Ltd                      1\n",
       "1862                                        Culturelink                      1\n",
       "4629                                                SHI                      1\n",
       "3279                                  Kneese Consulting                      1\n",
       "47                                      Electronic Arts                      8\n",
       "215                                               Nokia                      3\n",
       "5727                                    Vertica Systems                      1\n",
       "3469                 Los Angeles Dismantler for Porsche                      1\n",
       "1647                            Cincinnati Test Systems                      1\n",
       "440   Institute for Development and Research in Bank...                      2"
      ]
     },
     "execution_count": 28,
     "metadata": {},
     "output_type": "execute_result"
    }
   ],
   "source": [
    "df_ds_jobs.sample(10)"
   ]
  },
  {
   "cell_type": "markdown",
   "metadata": {},
   "source": [
    "Visualizar as **10 primeiras** categorias:"
   ]
  },
  {
   "cell_type": "code",
   "execution_count": 29,
   "metadata": {},
   "outputs": [
    {
     "data": {
      "image/png": "[encoded data removed]",
      "text/plain": [
       "<Figure size 432x288 with 1 Axes>"
      ]
     },
     "metadata": {
      "needs_background": "light"
     },
     "output_type": "display_data"
    }
   ],
   "source": [
    "df_10_first_jobs = df_ds_jobs[:10]\n",
    "\n",
    "squarify.plot(sizes=df_10_first_jobs['Number of Connections'], \n",
    "              label=df_10_first_jobs['Company'], \n",
    "              alpha=.8) \n",
    "\n",
    "plt.axis('off') \n",
    "plt.show() "
   ]
  },
  {
   "cell_type": "markdown",
   "metadata": {},
   "source": [
    "Visualizar 10 empresas **aleatoriamente**:"
   ]
  },
  {
   "cell_type": "code",
   "execution_count": 30,
   "metadata": {},
   "outputs": [
    {
     "data": {
      "image/png": "[encoded data removed]",
      "text/plain": [
       "<Figure size 432x288 with 1 Axes>"
      ]
     },
     "metadata": {
      "needs_background": "light"
     },
     "output_type": "display_data"
    }
   ],
   "source": [
    "df_10jobs=df_ds_jobs.sample(10)\n",
    "\n",
    "squarify.plot(sizes=df_10jobs['Number of Connections'], \n",
    "              label=df_10jobs['Company'], \n",
    "              alpha=.8) \n",
    "\n",
    "plt.axis('off') \n",
    "plt.show() "
   ]
  },
  {
   "cell_type": "markdown",
   "metadata": {},
   "source": [
    "__Atividade:__ Com base no exemplo 4, encontrar informações relevantes para sua área de atuação, importar e gerar o gráfico Tree Map para análise visual dos dados"
   ]
  },
  {
   "cell_type": "markdown",
   "metadata": {},
   "source": [
    "Para saber mais:\n",
    "\n",
    "- https://python-graph-gallery.com/\n",
    "- https://github.com/laserson/squarify"
   ]
  }
 ],
 "metadata": {
  "kernelspec": {
   "display_name": "Python 3",
   "language": "python",
   "name": "python3"
  },
  "language_info": {
   "codemirror_mode": {
    "name": "ipython",
    "version": 3
   },
   "file_extension": ".py",
   "mimetype": "text/x-python",
   "name": "python",
   "nbconvert_exporter": "python",
   "pygments_lexer": "ipython3",
   "version": "3.6.13"
  }
 },
 "nbformat": 4,
 "nbformat_minor": 2
}
