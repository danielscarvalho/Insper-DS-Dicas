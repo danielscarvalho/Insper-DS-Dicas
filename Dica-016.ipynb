{
 "cells": [
  {
   "cell_type": "markdown",
   "id": "0ef0938c",
   "metadata": {},
   "source": [
    "<img width=\"200\" style=\"float:right\" src=\"https://github.com/danielscarvalho/Insper-DS-Dicas/blob/master/Insper-Logo.png?raw=true\">"
   ]
  },
  {
   "cell_type": "markdown",
   "id": "a32c6ab7",
   "metadata": {},
   "source": [
    "# Computação para Ciências dos Dados\n",
    "\n",
    "<sub><a href=\"https://www.insper.edu.br/pos-graduacao/programas-avancados/programa-avancado-em-data-science-e-decisao/\">PÓS-\n",
    "GRADUAÇÃO EM DATA SCIENCE E DECISÃO</a></sub>\n",
    "\n",
    "## Dica do Dia: 016\n",
    "\n",
    "Dicas formatos de arquivos e texto UNICODE (UTF-8):"
   ]
  },
  {
   "cell_type": "markdown",
   "id": "34fbff8b",
   "metadata": {},
   "source": [
    "### UNICODE (UTF-8)\n",
    "\n",
    "Há diversos formatos e estrutura de dados baseados em arquivos texto tal como: .txt, .csv, .tsv, .json, .xml, etc...\n",
    "\n",
    "Código fonte e arquivos em lote também: .py, .sh, .js, .java, .html, .bat, .SQL, etc...\n",
    "\n",
    "Os arquivos texto contêm dados do tipo string, que por sua vez utiliza um *character set* (tabela de caracteres), os mais comuns no Brasil são [ASCII](https://whatis.techtarget.com/definition/ASCII-American-Standard-Code-for-Information-Interchange), [ISO-8859-1](https://en.wikipedia.org/wiki/ISO/IEC_8859-1) e [UTF-8](https://en.wikipedia.org/wiki/UTF-8). Porém existem diversas tabelas de caracteres, utilizadas no mundo conforme os caracteres de diferentes idiomas.\n",
    "\n",
    "A tabela ASCII utiliza 7 bits úteis, e utiliza 8 bits para representar os caracteres da lingua inglesa. Não contêm os nossos acentos do Português entre outros."
   ]
  },
  {
   "cell_type": "code",
   "execution_count": 11,
   "id": "52e8e6fd",
   "metadata": {},
   "outputs": [],
   "source": [
    "core = \"Vai Corinthians!!!\".encode(\"ascii\")"
   ]
  },
  {
   "cell_type": "code",
   "execution_count": 12,
   "id": "022069dc",
   "metadata": {},
   "outputs": [
    {
     "data": {
      "text/plain": [
       "18"
      ]
     },
     "execution_count": 12,
     "metadata": {},
     "output_type": "execute_result"
    }
   ],
   "source": [
    "len(core)"
   ]
  },
  {
   "cell_type": "code",
   "execution_count": 14,
   "id": "f6589f86",
   "metadata": {},
   "outputs": [
    {
     "data": {
      "text/plain": [
       "'Vai Corinthians!!!'"
      ]
     },
     "execution_count": 14,
     "metadata": {},
     "output_type": "execute_result"
    }
   ],
   "source": [
    "core.decode()"
   ]
  },
  {
   "cell_type": "code",
   "execution_count": 15,
   "id": "cd376545",
   "metadata": {},
   "outputs": [
    {
     "data": {
      "text/plain": [
       "bytes"
      ]
     },
     "execution_count": 15,
     "metadata": {},
     "output_type": "execute_result"
    }
   ],
   "source": [
    "type(core)"
   ]
  },
  {
   "cell_type": "code",
   "execution_count": 16,
   "id": "d51afb28",
   "metadata": {},
   "outputs": [
    {
     "data": {
      "text/plain": [
       "str"
      ]
     },
     "execution_count": 16,
     "metadata": {},
     "output_type": "execute_result"
    }
   ],
   "source": [
    "type(core.decode())"
   ]
  },
  {
   "cell_type": "markdown",
   "id": "4412aeb9",
   "metadata": {},
   "source": [
    "Muito utilizado nos países de linguas latinas como Portugues, Francês, Espanhol, etc... O ISO-8859-1, também conhecido como [Latin-1](https://kb.iu.edu/d/aepu), utiliza 1 byte por caractere e contem todos os acentos adequados como ç, é, ü, ñ, etc. Consiste na própria tabela ASCII de forma extendida, 8 bits úteis por caractere (1 byte)."
   ]
  },
  {
   "cell_type": "code",
   "execution_count": 22,
   "id": "4ac17343",
   "metadata": {},
   "outputs": [],
   "source": [
    "tmp = \"Acentuação gráfica do português\".encode(\"iso-8859-1\")"
   ]
  },
  {
   "cell_type": "code",
   "execution_count": 23,
   "id": "63160c36",
   "metadata": {
    "scrolled": true
   },
   "outputs": [
    {
     "data": {
      "text/plain": [
       "31"
      ]
     },
     "execution_count": 23,
     "metadata": {},
     "output_type": "execute_result"
    }
   ],
   "source": [
    "len(tmp)"
   ]
  },
  {
   "cell_type": "code",
   "execution_count": 24,
   "id": "f611bcac",
   "metadata": {},
   "outputs": [
    {
     "data": {
      "text/plain": [
       "bytes"
      ]
     },
     "execution_count": 24,
     "metadata": {},
     "output_type": "execute_result"
    }
   ],
   "source": [
    "type(tmp)"
   ]
  },
  {
   "cell_type": "code",
   "execution_count": 26,
   "id": "857e9e58",
   "metadata": {},
   "outputs": [
    {
     "data": {
      "text/plain": [
       "'Acentuação gráfica do português'"
      ]
     },
     "execution_count": 26,
     "metadata": {},
     "output_type": "execute_result"
    }
   ],
   "source": [
    "tmp.decode(\"iso-8859-1\")"
   ]
  },
  {
   "cell_type": "markdown",
   "id": "a308e8db",
   "metadata": {},
   "source": [
    "O padrã mais recente o qual devemos utilizar é o UNICODE, com o caracter set UTF-8, isso facilia a comunicação e troca de dados na Internet de forma global."
   ]
  },
  {
   "cell_type": "markdown",
   "id": "a7234bb2",
   "metadata": {},
   "source": [
    "O UTF-8 ocupa 1 byte para os caracteres do inglês (ASCII), 2 bytes para os caracteres latinos (Lating-1), e assim por diante. O UNICODE suporta todos os caractetes e símbulos de todos os países, inclusive EMOJIS que ocupam 4 bytes cada um."
   ]
  },
  {
   "cell_type": "code",
   "execution_count": 32,
   "id": "ea822338",
   "metadata": {},
   "outputs": [],
   "source": [
    "texto = \"informação, nação, ecológico, não\".encode(\"utf8\")"
   ]
  },
  {
   "cell_type": "code",
   "execution_count": 33,
   "id": "e3495a0f",
   "metadata": {},
   "outputs": [
    {
     "data": {
      "text/plain": [
       "39"
      ]
     },
     "execution_count": 33,
     "metadata": {},
     "output_type": "execute_result"
    }
   ],
   "source": [
    "len(texto)"
   ]
  },
  {
   "cell_type": "code",
   "execution_count": 34,
   "id": "c2cd41d4",
   "metadata": {},
   "outputs": [
    {
     "data": {
      "text/plain": [
       "bytes"
      ]
     },
     "execution_count": 34,
     "metadata": {},
     "output_type": "execute_result"
    }
   ],
   "source": [
    "type(texto)"
   ]
  },
  {
   "cell_type": "code",
   "execution_count": 36,
   "id": "d2739357",
   "metadata": {},
   "outputs": [
    {
     "data": {
      "text/plain": [
       "b'informa\\xc3\\xa7\\xc3\\xa3o, na\\xc3\\xa7\\xc3\\xa3o, ecol\\xc3\\xb3gico, n\\xc3\\xa3o'"
      ]
     },
     "execution_count": 36,
     "metadata": {},
     "output_type": "execute_result"
    }
   ],
   "source": [
    "texto"
   ]
  },
  {
   "cell_type": "code",
   "execution_count": 38,
   "id": "c3138039",
   "metadata": {},
   "outputs": [],
   "source": [
    "info = \"\"\"Informação\n",
    "João Avaré\n",
    "😃🐻🍔\n",
    "\"\"\""
   ]
  },
  {
   "cell_type": "code",
   "execution_count": 39,
   "id": "507e8302",
   "metadata": {},
   "outputs": [
    {
     "data": {
      "text/plain": [
       "26"
      ]
     },
     "execution_count": 39,
     "metadata": {},
     "output_type": "execute_result"
    }
   ],
   "source": [
    "len(info)"
   ]
  },
  {
   "cell_type": "code",
   "execution_count": 47,
   "id": "62352184",
   "metadata": {},
   "outputs": [
    {
     "name": "stdout",
     "output_type": "stream",
     "text": [
      "10 Informação\n",
      "4 João\n",
      "5 Avaré\n",
      "3 😃🐻🍔\n"
     ]
    }
   ],
   "source": [
    "for linha in info.split():\n",
    "    print(len(linha), linha)"
   ]
  },
  {
   "cell_type": "code",
   "execution_count": 40,
   "id": "55f894b8",
   "metadata": {
    "scrolled": true
   },
   "outputs": [
    {
     "data": {
      "text/plain": [
       "b'Informa\\xc3\\xa7\\xc3\\xa3o\\nJo\\xc3\\xa3o Avar\\xc3\\xa9\\n\\xf0\\x9f\\x98\\x83\\xf0\\x9f\\x90\\xbb\\xf0\\x9f\\x8d\\x94\\n'"
      ]
     },
     "execution_count": 40,
     "metadata": {},
     "output_type": "execute_result"
    }
   ],
   "source": [
    "info.encode(\"utf8\")"
   ]
  },
  {
   "cell_type": "markdown",
   "id": "bf3b99fe",
   "metadata": {},
   "source": [
    "Note que os acentos latinos ocupam 2 bytes, e os emojis 4 bytes"
   ]
  },
  {
   "cell_type": "code",
   "execution_count": 46,
   "id": "c045d1a1",
   "metadata": {},
   "outputs": [
    {
     "name": "stdout",
     "output_type": "stream",
     "text": [
      "b'Informa\\xc3\\xa7\\xc3\\xa3o'\n",
      "b'Jo\\xc3\\xa3o'\n",
      "b'Avar\\xc3\\xa9'\n",
      "b'\\xf0\\x9f\\x98\\x83\\xf0\\x9f\\x90\\xbb\\xf0\\x9f\\x8d\\x94'\n"
     ]
    }
   ],
   "source": [
    "for linha in info.split():\n",
    "    print(linha.encode(\"utf8\"))"
   ]
  },
  {
   "cell_type": "markdown",
   "id": "90bbdf5b",
   "metadata": {},
   "source": [
    "### CSV"
   ]
  },
  {
   "cell_type": "markdown",
   "id": "9b3ac001",
   "metadata": {},
   "source": [
    "CSV é um formato cartesiano muito comum, é como uma planilha, onde é utilizado arquivo texto com os campos separados por vírgula, strings entre aspas dulas (as vezes), e a quebra de linha (\\n - Linux, Unix, \\n\\r - Windows) para os registros.\n",
    "\n",
    "Há um detalhe importante, os arquivos CSV quando gerados no exterior normalmente utiliza realmente a virgula como separador, e o ponto como separação da parte fracionaria dos números. Porém no Brasil utilizamos o ponto e vírgula como separador dos registros e a vírgula como separador de decimal nos números.\n",
    "\n",
    "CSV separador por vírgula, estilo americano (exterior)\n",
    "\n",
    "```\n",
    "João Silva, 23, 1000.50\n",
    "Maria Pereira, 32, 1250.50\n",
    "Fernanda Mooca, 43, 4200.34\n",
    "```\n",
    "\n",
    "CSV separado por ponto e vírgula, e usando aspas duplas para delimitar o string, usado no Brasil e países latinos\n",
    "```\n",
    "\"João Silva\"; 23; 1000,50\n",
    "\"Maria Pereira\"; 32; 1250,50\n",
    "\"Fernanda Mooca\"; 43; 4200,34\n",
    "```\n",
    "\n",
    "Nossos projetos de ciências dos dados no Brasil em muitos casos utilizam os dois padrões de CSV no mesmo projeto. Podemos indicar qual é o separador que estamos utilizando no CSV."
   ]
  },
  {
   "cell_type": "markdown",
   "id": "71dc5e14",
   "metadata": {},
   "source": [
    "### Picke\n"
   ]
  },
  {
   "cell_type": "markdown",
   "id": "8f1b5ba8",
   "metadata": {},
   "source": [
    "### Parcket "
   ]
  },
  {
   "cell_type": "code",
   "execution_count": 41,
   "id": "01c2bcd4",
   "metadata": {
    "scrolled": true
   },
   "outputs": [
    {
     "name": "stdout",
     "output_type": "stream",
     "text": [
      "--2022-04-04 13:57:25--  https://www.kaggle.com/bapanes/train-tf/download\n",
      "Resolving www.kaggle.com (www.kaggle.com)... 35.244.233.98\n",
      "Connecting to www.kaggle.com (www.kaggle.com)|35.244.233.98|:443... connected.\n",
      "HTTP request sent, awaiting response... 302 Found\n",
      "Location: /account/login?titleType=dataset-downloads&showDatasetDownloadSkip=False&messageId=datasetsWelcome&returnUrl=%2Fdatasets%2Fbapanes%2Ftrain-tf%3Fresource%3Ddownload [following]\n",
      "--2022-04-04 13:57:25--  https://www.kaggle.com/account/login?titleType=dataset-downloads&showDatasetDownloadSkip=False&messageId=datasetsWelcome&returnUrl=%2Fdatasets%2Fbapanes%2Ftrain-tf%3Fresource%3Ddownload\n",
      "Reusing existing connection to www.kaggle.com:443.\n",
      "HTTP request sent, awaiting response... 200 OK\n",
      "Length: unspecified [text/html]\n",
      "Saving to: ‘download.1’\n",
      "\n",
      "download.1              [ <=>                ]   6,43K  --.-KB/s    in 0s      \n",
      "\n",
      "2022-04-04 13:57:25 (22,1 MB/s) - ‘download.1’ saved [6585]\n",
      "\n"
     ]
    }
   ],
   "source": [
    "\n",
    "\n",
    "!wget https://www.kaggle.com/bapanes/train-tf/download"
   ]
  },
  {
   "cell_type": "markdown",
   "id": "19f2f91f",
   "metadata": {},
   "source": [
    "### Para saber mais:\n",
    "\n",
    "- https://www.datacamp.com/community/tutorials/pickle-python-tutorial\n",
    "- https://www.kdnuggets.com/2021/08/csv-files-storage-better-option.html"
   ]
  }
 ],
 "metadata": {
  "kernelspec": {
   "display_name": "Python 3 (ipykernel)",
   "language": "python",
   "name": "python3"
  },
  "language_info": {
   "codemirror_mode": {
    "name": "ipython",
    "version": 3
   },
   "file_extension": ".py",
   "mimetype": "text/x-python",
   "name": "python",
   "nbconvert_exporter": "python",
   "pygments_lexer": "ipython3",
   "version": "3.11.5"
  }
 },
 "nbformat": 4,
 "nbformat_minor": 5
}
