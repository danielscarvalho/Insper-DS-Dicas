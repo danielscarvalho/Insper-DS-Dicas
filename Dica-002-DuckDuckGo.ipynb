{
 "cells": [
  {
   "cell_type": "markdown",
   "metadata": {},
   "source": [
    "<img width=\"200\" style=\"float:right\" src=\"https://github.com/danielscarvalho/Insper-DS-Dicas/blob/master/Insper-Logo.png?raw=true\">"
   ]
  },
  {
   "cell_type": "markdown",
   "metadata": {},
   "source": [
    "# Computação para Ciências dos Dados\n",
    "\n",
    "<sub><a href=\"https://www.insper.edu.br/pos-graduacao/programas-avancados/programa-avancado-em-data-science-e-decisao/\">PÓS-GRADUAÇÃO EM DATA SCIENCE E DECISÃO</a></sub>\n",
    "\n",
    "## Dica do Dia: 002\n",
    "\n",
    "O objetivo desta dica do dia é consumir a WEB API do DuckDuckGo, entender a estrutura de dados JSON (dict) e aprender mais sobre requests (HTTP) URL e tecnologias relacionadas com a WEB\n",
    "\n",
    "> Todos os dias no período de contingência pelo Coronavirus (COVID-19) vamos enviar uma breve dica sobre Python para ciências dos dados em um jupyter notebook, conteúdo adicional ao curso que pode ser utilizado nos projetos\n",
    "\n",
    "### WEB API: DuckDuckGo\n",
    "\n",
    "DuckDuckGo https://duckduckgo.com/ é um serviço de busca online análogo ao Google, Bing e a fins, que fornece uma WEB API. Podemos fazer consultas e obter os dados em formato JSON (dicionário do Python - dict)"
   ]
  },
  {
   "cell_type": "markdown",
   "metadata": {},
   "source": [
    "Precisamos da biblioteca requests para consumir (acessar) a WEB API via protocolo HTTP:"
   ]
  },
  {
   "cell_type": "code",
   "execution_count": 1,
   "metadata": {},
   "outputs": [
    {
     "name": "stdout",
     "output_type": "stream",
     "text": [
      "Requirement already satisfied: requests in c:\\programdata\\anaconda3\\lib\\site-packages (2.22.0)\n",
      "Requirement already satisfied: chardet<3.1.0,>=3.0.2 in c:\\programdata\\anaconda3\\lib\\site-packages (from requests) (3.0.4)\n",
      "Requirement already satisfied: urllib3!=1.25.0,!=1.25.1,<1.26,>=1.21.1 in c:\\programdata\\anaconda3\\lib\\site-packages (from requests) (1.24.2)\n",
      "Requirement already satisfied: idna<2.9,>=2.5 in c:\\programdata\\anaconda3\\lib\\site-packages (from requests) (2.8)\n",
      "Requirement already satisfied: certifi>=2017.4.17 in c:\\programdata\\anaconda3\\lib\\site-packages (from requests) (2019.11.28)\n"
     ]
    }
   ],
   "source": [
    "# Nota: dependendo do seu Sistema Operacional, você terá que utilizar o \"pip3\"\n",
    "!pip install requests"
   ]
  },
  {
   "cell_type": "code",
   "execution_count": 2,
   "metadata": {},
   "outputs": [],
   "source": [
    "import requests"
   ]
  },
  {
   "cell_type": "markdown",
   "metadata": {},
   "source": [
    "No site do DuckDuckGo há destalhes de como fazer a chamada de API, veja a URL abaixo...\n",
    "\n",
    "No parâmetro \"q\" da URL enviamos o texto da nossa consulta..."
   ]
  },
  {
   "cell_type": "code",
   "execution_count": 3,
   "metadata": {},
   "outputs": [],
   "source": [
    "response=requests.get(\"https://api.duckduckgo.com/?q=Insper&format=json&pretty=1\")"
   ]
  },
  {
   "cell_type": "markdown",
   "metadata": {},
   "source": [
    "O protocolo HTTP trabalha com os dados em formato texto, precisamos transformar na estrutura de dados JSON (dict) do Python"
   ]
  },
  {
   "cell_type": "code",
   "execution_count": 4,
   "metadata": {},
   "outputs": [],
   "source": [
    "#JSON (JavaScript Object Notation) = Python Dictionary (dict)\n",
    "\n",
    "data=response.json()"
   ]
  },
  {
   "cell_type": "markdown",
   "metadata": {},
   "source": [
    "A estrutura de dados dict (JSON) trabalha com o princípio de chave (key) e valor (value), os tipos de dados são: string, número, array (vetor), objeto (outro JSON encadeado)"
   ]
  },
  {
   "cell_type": "code",
   "execution_count": 5,
   "metadata": {},
   "outputs": [
    {
     "data": {
      "text/plain": [
       "{'Abstract': 'Insper is a Brazilian higher education institution focusing on business, economics and engineering. It was started in São Paulo in 1987-88. Indeed, Insper was first called Ibmec and started in Rio in mid 80s.',\n",
       " 'Heading': 'Insper',\n",
       " 'Definition': '',\n",
       " 'AnswerType': '',\n",
       " 'ImageHeight': 0,\n",
       " 'Type': 'A',\n",
       " 'AbstractSource': 'Wikipedia',\n",
       " 'ImageIsLogo': 0,\n",
       " 'Entity': '',\n",
       " 'Infobox': '',\n",
       " 'Image': '',\n",
       " 'AbstractText': 'Insper is a Brazilian higher education institution focusing on business, economics and engineering. It was started in São Paulo in 1987-88. Indeed, Insper was first called Ibmec and started in Rio in mid 80s.',\n",
       " 'RelatedTopics': [{'Result': '<a href=\"https://duckduckgo.com/c/Private_universities_and_colleges_in_Brazil\">Private universities and colleges in Brazil</a>',\n",
       "   'FirstURL': 'https://duckduckgo.com/c/Private_universities_and_colleges_in_Brazil',\n",
       "   'Text': 'Private universities and colleges in Brazil',\n",
       "   'Icon': {'Width': '', 'Height': '', 'URL': ''}},\n",
       "  {'Result': '<a href=\"https://duckduckgo.com/c/Business_schools_in_Brazil\">Business schools in Brazil</a>',\n",
       "   'FirstURL': 'https://duckduckgo.com/c/Business_schools_in_Brazil',\n",
       "   'Icon': {'URL': '', 'Height': '', 'Width': ''},\n",
       "   'Text': 'Business schools in Brazil'},\n",
       "  {'Icon': {'URL': '', 'Width': '', 'Height': ''},\n",
       "   'Text': 'Universities and colleges in São Paulo (state)',\n",
       "   'Result': '<a href=\"https://duckduckgo.com/c/Universities_and_colleges_in_S%C3%A3o_Paulo_(state)\">Universities and colleges in São Paulo (state)</a>',\n",
       "   'FirstURL': 'https://duckduckgo.com/c/Universities_and_colleges_in_S%C3%A3o_Paulo_(state)'}],\n",
       " 'ImageWidth': 0,\n",
       " 'DefinitionURL': '',\n",
       " 'DefinitionSource': '',\n",
       " 'Redirect': '',\n",
       " 'AbstractURL': 'https://en.wikipedia.org/wiki/Insper',\n",
       " 'Results': [],\n",
       " 'Answer': '',\n",
       " 'meta': {'created_date': None,\n",
       "  'js_callback_name': 'wikipedia',\n",
       "  'example_query': 'nikola tesla',\n",
       "  'producer': None,\n",
       "  'description': 'Wikipedia',\n",
       "  'maintainer': {'github': 'duckduckgo'},\n",
       "  'dev_date': None,\n",
       "  'src_domain': 'en.wikipedia.org',\n",
       "  'status': 'live',\n",
       "  'developer': [{'name': 'DDG Team',\n",
       "    'url': 'http://www.duckduckhack.com',\n",
       "    'type': 'ddg'}],\n",
       "  'production_state': 'online',\n",
       "  'src_url': None,\n",
       "  'repo': 'fathead',\n",
       "  'signal_from': 'wikipedia_fathead',\n",
       "  'name': 'Wikipedia',\n",
       "  'src_options': {'min_abstract_length': '20',\n",
       "   'is_fanon': 0,\n",
       "   'skip_qr': '',\n",
       "   'language': 'en',\n",
       "   'skip_icon': 0,\n",
       "   'source_skip': '',\n",
       "   'directory': '',\n",
       "   'is_wikipedia': 1,\n",
       "   'skip_image_name': 0,\n",
       "   'skip_end': '0',\n",
       "   'is_mediawiki': 1,\n",
       "   'src_info': '',\n",
       "   'skip_abstract': 0,\n",
       "   'skip_abstract_paren': 0},\n",
       "  'src_name': 'Wikipedia',\n",
       "  'topic': ['productivity'],\n",
       "  'perl_module': 'DDG::Fathead::Wikipedia',\n",
       "  'unsafe': 0,\n",
       "  'designer': None,\n",
       "  'is_stackexchange': None,\n",
       "  'live_date': None,\n",
       "  'attribution': None,\n",
       "  'dev_milestone': 'live',\n",
       "  'src_id': 1,\n",
       "  'blockgroup': None,\n",
       "  'tab': 'About',\n",
       "  'id': 'wikipedia_fathead'}}"
      ]
     },
     "execution_count": 5,
     "metadata": {},
     "output_type": "execute_result"
    }
   ],
   "source": [
    "data"
   ]
  },
  {
   "cell_type": "markdown",
   "metadata": {},
   "source": [
    "Podemos navegar na estrutura de dados dict (JSON) com o Python e obter partes específicas"
   ]
  },
  {
   "cell_type": "code",
   "execution_count": 6,
   "metadata": {},
   "outputs": [
    {
     "data": {
      "text/plain": [
       "'Insper is a Brazilian higher education institution focusing on business, economics and engineering. It was started in São Paulo in 1987-88. Indeed, Insper was first called Ibmec and started in Rio in mid 80s.'"
      ]
     },
     "execution_count": 6,
     "metadata": {},
     "output_type": "execute_result"
    }
   ],
   "source": [
    "data[\"Abstract\"]"
   ]
  },
  {
   "cell_type": "code",
   "execution_count": 7,
   "metadata": {},
   "outputs": [
    {
     "data": {
      "text/plain": [
       "[{'Result': '<a href=\"https://duckduckgo.com/c/Private_universities_and_colleges_in_Brazil\">Private universities and colleges in Brazil</a>',\n",
       "  'FirstURL': 'https://duckduckgo.com/c/Private_universities_and_colleges_in_Brazil',\n",
       "  'Text': 'Private universities and colleges in Brazil',\n",
       "  'Icon': {'Width': '', 'Height': '', 'URL': ''}},\n",
       " {'Result': '<a href=\"https://duckduckgo.com/c/Business_schools_in_Brazil\">Business schools in Brazil</a>',\n",
       "  'FirstURL': 'https://duckduckgo.com/c/Business_schools_in_Brazil',\n",
       "  'Icon': {'URL': '', 'Height': '', 'Width': ''},\n",
       "  'Text': 'Business schools in Brazil'},\n",
       " {'Icon': {'URL': '', 'Width': '', 'Height': ''},\n",
       "  'Text': 'Universities and colleges in São Paulo (state)',\n",
       "  'Result': '<a href=\"https://duckduckgo.com/c/Universities_and_colleges_in_S%C3%A3o_Paulo_(state)\">Universities and colleges in São Paulo (state)</a>',\n",
       "  'FirstURL': 'https://duckduckgo.com/c/Universities_and_colleges_in_S%C3%A3o_Paulo_(state)'}]"
      ]
     },
     "execution_count": 7,
     "metadata": {},
     "output_type": "execute_result"
    }
   ],
   "source": [
    "data[\"RelatedTopics\"]"
   ]
  },
  {
   "cell_type": "markdown",
   "metadata": {},
   "source": [
    "Podemos também converter dado em formato JSON (dict) para um dataframe Pandas:"
   ]
  },
  {
   "cell_type": "code",
   "execution_count": 8,
   "metadata": {},
   "outputs": [],
   "source": [
    "import pandas as pd"
   ]
  },
  {
   "cell_type": "code",
   "execution_count": 9,
   "metadata": {},
   "outputs": [],
   "source": [
    "df_rt = pd.DataFrame(data[\"RelatedTopics\"])"
   ]
  },
  {
   "cell_type": "code",
   "execution_count": 10,
   "metadata": {},
   "outputs": [
    {
     "data": {
      "text/html": [
       "<div>\n",
       "<style scoped>\n",
       "    .dataframe tbody tr th:only-of-type {\n",
       "        vertical-align: middle;\n",
       "    }\n",
       "\n",
       "    .dataframe tbody tr th {\n",
       "        vertical-align: top;\n",
       "    }\n",
       "\n",
       "    .dataframe thead th {\n",
       "        text-align: right;\n",
       "    }\n",
       "</style>\n",
       "<table border=\"1\" class=\"dataframe\">\n",
       "  <thead>\n",
       "    <tr style=\"text-align: right;\">\n",
       "      <th></th>\n",
       "      <th>FirstURL</th>\n",
       "      <th>Icon</th>\n",
       "      <th>Result</th>\n",
       "      <th>Text</th>\n",
       "    </tr>\n",
       "  </thead>\n",
       "  <tbody>\n",
       "    <tr>\n",
       "      <th>0</th>\n",
       "      <td>https://duckduckgo.com/c/Private_universities_...</td>\n",
       "      <td>{'Width': '', 'Height': '', 'URL': ''}</td>\n",
       "      <td>&lt;a href=\"https://duckduckgo.com/c/Private_univ...</td>\n",
       "      <td>Private universities and colleges in Brazil</td>\n",
       "    </tr>\n",
       "    <tr>\n",
       "      <th>1</th>\n",
       "      <td>https://duckduckgo.com/c/Business_schools_in_B...</td>\n",
       "      <td>{'URL': '', 'Height': '', 'Width': ''}</td>\n",
       "      <td>&lt;a href=\"https://duckduckgo.com/c/Business_sch...</td>\n",
       "      <td>Business schools in Brazil</td>\n",
       "    </tr>\n",
       "    <tr>\n",
       "      <th>2</th>\n",
       "      <td>https://duckduckgo.com/c/Universities_and_coll...</td>\n",
       "      <td>{'URL': '', 'Width': '', 'Height': ''}</td>\n",
       "      <td>&lt;a href=\"https://duckduckgo.com/c/Universities...</td>\n",
       "      <td>Universities and colleges in São Paulo (state)</td>\n",
       "    </tr>\n",
       "  </tbody>\n",
       "</table>\n",
       "</div>"
      ],
      "text/plain": [
       "                                            FirstURL  \\\n",
       "0  https://duckduckgo.com/c/Private_universities_...   \n",
       "1  https://duckduckgo.com/c/Business_schools_in_B...   \n",
       "2  https://duckduckgo.com/c/Universities_and_coll...   \n",
       "\n",
       "                                     Icon  \\\n",
       "0  {'Width': '', 'Height': '', 'URL': ''}   \n",
       "1  {'URL': '', 'Height': '', 'Width': ''}   \n",
       "2  {'URL': '', 'Width': '', 'Height': ''}   \n",
       "\n",
       "                                              Result  \\\n",
       "0  <a href=\"https://duckduckgo.com/c/Private_univ...   \n",
       "1  <a href=\"https://duckduckgo.com/c/Business_sch...   \n",
       "2  <a href=\"https://duckduckgo.com/c/Universities...   \n",
       "\n",
       "                                             Text  \n",
       "0     Private universities and colleges in Brazil  \n",
       "1                      Business schools in Brazil  \n",
       "2  Universities and colleges in São Paulo (state)  "
      ]
     },
     "execution_count": 10,
     "metadata": {},
     "output_type": "execute_result"
    }
   ],
   "source": [
    "df_rt"
   ]
  },
  {
   "cell_type": "markdown",
   "metadata": {},
   "source": [
    "Alternativamente, podemos obter o resultado da chamada da WEB API via HTTP direto para o formato JSON (dict), conforme o comando abaixo. \n",
    "\n",
    "Você identificou qual foi o termo usado na busca? "
   ]
  },
  {
   "cell_type": "code",
   "execution_count": 11,
   "metadata": {},
   "outputs": [
    {
     "data": {
      "text/plain": [
       "{'AnswerType': '',\n",
       " 'Abstract': '',\n",
       " 'Definition': '',\n",
       " 'Heading': 'Madonna',\n",
       " 'Type': 'D',\n",
       " 'ImageHeight': 0,\n",
       " 'DefinitionURL': '',\n",
       " 'DefinitionSource': '',\n",
       " 'Image': '',\n",
       " 'Infobox': '',\n",
       " 'ImageIsLogo': 0,\n",
       " 'Entity': '',\n",
       " 'AbstractSource': 'Wikipedia',\n",
       " 'ImageWidth': 0,\n",
       " 'RelatedTopics': [{'Icon': {'URL': 'https://duckduckgo.com/i/8c21d72a.jpg',\n",
       "    'Width': '',\n",
       "    'Height': ''},\n",
       "   'Text': 'Madonna (entertainer) An American singer, songwriter, and actress.',\n",
       "   'FirstURL': 'https://duckduckgo.com/Madonna_(entertainer)',\n",
       "   'Result': '<a href=\"https://duckduckgo.com/Madonna_(entertainer)\">Madonna (entertainer)</a>An American singer, songwriter, and actress.'},\n",
       "  {'Text': 'Madonna Sebastian An Indian actress and singer who has mainly acted in Malayalam and Tamil films.',\n",
       "   'Icon': {'Height': '', 'Width': '', 'URL': ''},\n",
       "   'Result': '<a href=\"https://duckduckgo.com/Madonna_Sebastian\">Madonna Sebastian</a>An Indian actress and singer who has mainly acted in Malayalam and Tamil films.',\n",
       "   'FirstURL': 'https://duckduckgo.com/Madonna_Sebastian'},\n",
       "  {'Icon': {'URL': 'https://duckduckgo.com/i/77daa368.jpg',\n",
       "    'Height': '',\n",
       "    'Width': ''},\n",
       "   'Text': 'Madonna (Madonna album) The debut album by American singer Madonna, released on July 27, 1983 by Sire Records.',\n",
       "   'FirstURL': 'https://duckduckgo.com/Madonna_(Madonna_album)',\n",
       "   'Result': '<a href=\"https://duckduckgo.com/Madonna_(Madonna_album)\">Madonna (Madonna album)</a>The debut album by American singer Madonna, released on July 27, 1983 by Sire Records.'},\n",
       "  {'Result': '<a href=\"https://duckduckgo.com/Mary%2C_mother_of_Jesus\">Mary, mother of Jesus</a>A first-century BC Galilean Jewish woman of Nazareth, and the mother of Jesus, according to the...',\n",
       "   'FirstURL': 'https://duckduckgo.com/Mary%2C_mother_of_Jesus',\n",
       "   'Icon': {'Height': '', 'Width': '', 'URL': ''},\n",
       "   'Text': 'Mary, mother of Jesus A first-century BC Galilean Jewish woman of Nazareth, and the mother of Jesus, according to the...'},\n",
       "  {'Name': 'Art',\n",
       "   'Topics': [{'Text': 'Madonna (art) A representation of Mary, either alone or with her child Jesus.',\n",
       "     'Icon': {'Height': '',\n",
       "      'Width': '',\n",
       "      'URL': 'https://duckduckgo.com/i/3dad92af.jpg'},\n",
       "     'Result': '<a href=\"https://duckduckgo.com/Madonna_(art)\">Madonna (art)</a>A representation of Mary, either alone or with her child Jesus.',\n",
       "     'FirstURL': 'https://duckduckgo.com/Madonna_(art)'},\n",
       "    {'Text': 'Madonna (Munch painting) The usual title given to several versions of a composition, by the Norwegian expressionist...',\n",
       "     'Icon': {'Height': '', 'Width': '', 'URL': ''},\n",
       "     'FirstURL': 'https://duckduckgo.com/Madonna_(Munch_painting)',\n",
       "     'Result': '<a href=\"https://duckduckgo.com/Madonna_(Munch_painting)\">Madonna (Munch painting)</a>The usual title given to several versions of a composition, by the Norwegian expressionist...'}]},\n",
       "  {'Topics': [{'Text': 'Madonna (1999 film) A 1999 Croatian film directed by Neven Hitrec and starring Ljubomir Kerekeš, Lucija Šerbedžija...',\n",
       "     'Icon': {'Width': '', 'Height': '', 'URL': ''},\n",
       "     'FirstURL': 'https://duckduckgo.com/Madonna_(1999_film)',\n",
       "     'Result': '<a href=\"https://duckduckgo.com/Madonna_(1999_film)\">Madonna (1999 film)</a>A 1999 Croatian film directed by Neven Hitrec and starring Ljubomir Kerekeš, Lucija Šerbedžija...'},\n",
       "    {'FirstURL': 'https://duckduckgo.com/Madonna_(2015_film)',\n",
       "     'Result': '<a href=\"https://duckduckgo.com/Madonna_(2015_film)\">Madonna (2015 film)</a>A 2015 South Korean mystery-drama film written and directed by Shin Su-won.',\n",
       "     'Icon': {'Height': '', 'Width': '', 'URL': ''},\n",
       "     'Text': 'Madonna (2015 film) A 2015 South Korean mystery-drama film written and directed by Shin Su-won.'}],\n",
       "   'Name': 'Film'},\n",
       "  {'Name': 'Music',\n",
       "   'Topics': [{'Result': '<a href=\"https://duckduckgo.com/Madonna_(Alisha_Chinai_album)\">Madonna (Alisha Chinai album)</a> A 1989 Hindi-language platinum-selling pop album by Indipop star Alisha Chinai.',\n",
       "     'FirstURL': 'https://duckduckgo.com/Madonna_(Alisha_Chinai_album)',\n",
       "     'Text': 'Madonna (Alisha Chinai album) A 1989 Hindi-language platinum-selling pop album by Indipop star Alisha Chinai.',\n",
       "     'Icon': {'URL': '', 'Height': '', 'Width': ''}},\n",
       "    {'FirstURL': 'https://duckduckgo.com/Madonna_(...And_You_Will_Know_Us_by_the_Trail_of_Dead_album)',\n",
       "     'Result': '<a href=\"https://duckduckgo.com/Madonna_(...And_You_Will_Know_Us_by_the_Trail_of_Dead_album)\">Madonna (...And You Will Know Us by the Trail of Dead album)</a>The second studio album by the American band...And You Will Know Us by the Trail of Dead.',\n",
       "     'Text': 'Madonna (...And You Will Know Us by the Trail of Dead album) The second studio album by the American band...And You Will Know Us by the Trail of Dead.',\n",
       "     'Icon': {'URL': 'https://duckduckgo.com/i/6aca7726.jpg',\n",
       "      'Width': '',\n",
       "      'Height': ''}},\n",
       "    {'Icon': {'URL': '', 'Height': '', 'Width': ''},\n",
       "     'Text': 'Madonna (EP) The second mini-album by South Korean girl group Secret.',\n",
       "     'FirstURL': 'https://duckduckgo.com/Madonna_(EP)',\n",
       "     'Result': '<a href=\"https://duckduckgo.com/Madonna_(EP)\">Madonna (EP)</a>The second mini-album by South Korean girl group Secret.'}]},\n",
       "  {'Topics': [{'Result': '<a href=\"https://duckduckgo.com/Madonna_di_Campiglio\">Madonna di Campiglio</a>A village and a ski resort in northeast Italy. It is a frazione of the comune of Pinzolo.',\n",
       "     'FirstURL': 'https://duckduckgo.com/Madonna_di_Campiglio',\n",
       "     'Icon': {'URL': 'https://duckduckgo.com/i/f02808da.jpg',\n",
       "      'Width': '',\n",
       "      'Height': ''},\n",
       "     'Text': 'Madonna di Campiglio A village and a ski resort in northeast Italy. It is a frazione of the comune of Pinzolo.'},\n",
       "    {'Icon': {'URL': '', 'Width': '', 'Height': ''},\n",
       "     'Text': \"Madonna di Campagna A quarter of Turin, Piedmont, Italy, and a subway station on Turin's Airport Line.\",\n",
       "     'FirstURL': 'https://duckduckgo.com/Madonna_di_Campagna',\n",
       "     'Result': '<a href=\"https://duckduckgo.com/Madonna_di_Campagna\">Madonna di Campagna</a> A quarter of Turin, Piedmont, Italy, and a subway station on Turin\\'s Airport Line.'},\n",
       "    {'Text': 'Madonna, Maryland An unincorporated community in Harford County, Maryland, United States.',\n",
       "     'Icon': {'Height': '', 'Width': '', 'URL': ''},\n",
       "     'Result': '<a href=\"https://duckduckgo.com/Madonna%2C_Maryland\">Madonna, Maryland</a>An unincorporated community in Harford County, Maryland, United States.',\n",
       "     'FirstURL': 'https://duckduckgo.com/Madonna%2C_Maryland'}],\n",
       "   'Name': 'Places'},\n",
       "  {'Topics': [{'Icon': {'URL': 'https://duckduckgo.com/i/eb64670d.jpg',\n",
       "      'Width': '',\n",
       "      'Height': ''},\n",
       "     'Text': 'Madonna (book) A biography by English author Andrew Morton, chronicling the life of American recording artist...',\n",
       "     'Result': '<a href=\"https://duckduckgo.com/Madonna_(book)\">Madonna (book)</a>A biography by English author Andrew Morton, chronicling the life of American recording artist...',\n",
       "     'FirstURL': 'https://duckduckgo.com/Madonna_(book)'},\n",
       "    {'Text': 'Berkeley Madonna A mathematical modelling software package, developed at the University of California at Berkeley...',\n",
       "     'Icon': {'URL': '', 'Height': '', 'Width': ''},\n",
       "     'FirstURL': 'https://duckduckgo.com/Berkeley_Madonna',\n",
       "     'Result': '<a href=\"https://duckduckgo.com/Berkeley_Madonna\">Berkeley Madonna</a>A mathematical modelling software package, developed at the University of California at Berkeley...'}],\n",
       "   'Name': 'Other uses'},\n",
       "  {'Name': 'People',\n",
       "   'Topics': [{'Icon': {'URL': '', 'Height': '', 'Width': ''},\n",
       "     'Text': 'Madonna Blyth An Australian field hockey player who competed in the 2008, 2012 Summer Olympics and 2016 Summer...',\n",
       "     'Result': '<a href=\"https://duckduckgo.com/Madonna_Blyth\">Madonna Blyth</a>An Australian field hockey player who competed in the 2008, 2012 Summer Olympics and 2016 Summer...',\n",
       "     'FirstURL': 'https://duckduckgo.com/Madonna_Blyth'},\n",
       "    {'Icon': {'Width': '',\n",
       "      'Height': '',\n",
       "      'URL': 'https://duckduckgo.com/i/267bafb8.jpg'},\n",
       "     'Text': 'Madonna Buder Madonna Buder, S.F.C.C., also known as the Iron Nun, is a Roman Catholic religious sister and...',\n",
       "     'Result': '<a href=\"https://duckduckgo.com/Madonna_Buder\">Madonna Buder</a>Madonna Buder, S.F.C.C., also known as the Iron Nun, is a Roman Catholic religious sister and...',\n",
       "     'FirstURL': 'https://duckduckgo.com/Madonna_Buder'},\n",
       "    {'Result': '<a href=\"https://duckduckgo.com/Madonna_Constantine\">Madonna Constantine</a>Madonna G. Constantine was an American psychology and education professor who formerly taught at...',\n",
       "     'FirstURL': 'https://duckduckgo.com/Madonna_Constantine',\n",
       "     'Text': 'Madonna Constantine Madonna G. Constantine was an American psychology and education professor who formerly taught at...',\n",
       "     'Icon': {'Width': '', 'Height': '', 'URL': ''}},\n",
       "    {'Icon': {'Width': 16,\n",
       "      'Height': 16,\n",
       "      'URL': 'https://duckduckgo.com/i/twitter.com.ico'},\n",
       "     'Text': \"Madonna Decena A Filipino performer and club singer in UK who landed a spot in the semi-finals of Britain's Got...\",\n",
       "     'Result': '<a href=\"https://duckduckgo.com/Madonna_Decena\">Madonna Decena</a>A Filipino performer and club singer in UK who landed a spot in the semi-finals of Britain\\'s Got...',\n",
       "     'FirstURL': 'https://duckduckgo.com/Madonna_Decena'},\n",
       "    {'FirstURL': 'https://duckduckgo.com/Madonna_Wayne_Gacy',\n",
       "     'Result': '<a href=\"https://duckduckgo.com/Madonna_Wayne_Gacy\">Madonna Wayne Gacy</a>Stephen Gregory Bier Jr., formerly known by his stage name Madonna Wayne Gacy and by the nickname...',\n",
       "     'Icon': {'URL': 'https://duckduckgo.com/i/15b06253.jpg',\n",
       "      'Width': '',\n",
       "      'Height': ''},\n",
       "     'Text': 'Madonna Wayne Gacy Stephen Gregory Bier Jr., formerly known by his stage name Madonna Wayne Gacy and by the nickname...'},\n",
       "    {'Result': '<a href=\"https://duckduckgo.com/Madonna_Gimotea\">Madonna Gimotea</a>A retired female gymnast from Canada, who competed for her native country in the rhythmic...',\n",
       "     'FirstURL': 'https://duckduckgo.com/Madonna_Gimotea',\n",
       "     'Text': 'Madonna Gimotea A retired female gymnast from Canada, who competed for her native country in the rhythmic...',\n",
       "     'Icon': {'URL': '', 'Height': '', 'Width': ''}},\n",
       "    {'Text': 'Madonna Harris A New Zealand multi-sportswoman who has competed for New Zealand at both the Summer and Winter...',\n",
       "     'Icon': {'URL': '', 'Width': '', 'Height': ''},\n",
       "     'Result': '<a href=\"https://duckduckgo.com/Madonna_Harris\">Madonna Harris</a>A New Zealand multi-sportswoman who has competed for New Zealand at both the Summer and Winter...',\n",
       "     'FirstURL': 'https://duckduckgo.com/Madonna_Harris'},\n",
       "    {'Text': 'Madonna King An Australian journalist, author and media commentator.',\n",
       "     'Icon': {'URL': '', 'Height': '', 'Width': ''},\n",
       "     'FirstURL': 'https://duckduckgo.com/Madonna_King',\n",
       "     'Result': '<a href=\"https://duckduckgo.com/Madonna_King\">Madonna King</a> An Australian journalist, author and media commentator.'},\n",
       "    {'FirstURL': 'https://duckduckgo.com/Madonna_Oriente',\n",
       "     'Result': '<a href=\"https://duckduckgo.com/Madonna_Oriente\">Madonna Oriente</a>Madonna Oriente or Signora Oriente, also known as La Signora del Gioco, are names of an alleged...',\n",
       "     'Icon': {'URL': '', 'Width': '', 'Height': ''},\n",
       "     'Text': 'Madonna Oriente Madonna Oriente or Signora Oriente, also known as La Signora del Gioco, are names of an alleged...'},\n",
       "    {'Text': 'Madonna Sebastian An Indian actress and singer who has mainly acted in Malayalam and Tamil films.',\n",
       "     'Icon': {'Width': '', 'Height': '', 'URL': ''},\n",
       "     'Result': '<a href=\"https://duckduckgo.com/Madonna_Sebastian\">Madonna Sebastian</a>An Indian actress and singer who has mainly acted in Malayalam and Tamil films.',\n",
       "     'FirstURL': 'https://duckduckgo.com/Madonna_Sebastian'},\n",
       "    {'Result': '<a href=\"https://duckduckgo.com/Madonna_Soctomah\">Madonna Soctomah</a>Madonna M. Soctomah is a Passamaquoddy politician from Maine.',\n",
       "     'FirstURL': 'https://duckduckgo.com/Madonna_Soctomah',\n",
       "     'Icon': {'Height': '', 'Width': '', 'URL': ''},\n",
       "     'Text': 'Madonna Soctomah Madonna M. Soctomah is a Passamaquoddy politician from Maine.'},\n",
       "    {'Result': '<a href=\"https://duckduckgo.com/Madonna_Staunton\">Madonna Staunton</a>An artist and poet who lived in Brisbane.',\n",
       "     'FirstURL': 'https://duckduckgo.com/Madonna_Staunton',\n",
       "     'Text': 'Madonna Staunton An artist and poet who lived in Brisbane.',\n",
       "     'Icon': {'URL': '', 'Height': '', 'Width': ''}},\n",
       "    {'Icon': {'URL': '', 'Height': '', 'Width': ''},\n",
       "     'Text': 'Madonna Swan An American Indian woman Lakota.',\n",
       "     'FirstURL': 'https://duckduckgo.com/Madonna_Swan',\n",
       "     'Result': '<a href=\"https://duckduckgo.com/Madonna_Swan\">Madonna Swan</a>An American Indian woman Lakota.'},\n",
       "    {'Icon': {'URL': 'https://duckduckgo.com/i/www.madonnatassi.com.ico',\n",
       "      'Width': 16,\n",
       "      'Height': 16},\n",
       "     'Text': 'Madonna Tassi A Canadian vocalist.',\n",
       "     'Result': '<a href=\"https://duckduckgo.com/Madonna_Tassi\">Madonna Tassi</a> A Canadian vocalist.',\n",
       "     'FirstURL': 'https://duckduckgo.com/Madonna_Tassi'},\n",
       "    {'Result': '<a href=\"https://duckduckgo.com/Madonna_Thunder_Hawk\">Madonna Thunder Hawk</a>A Native American civil rights activist best known as a leader in the American Indian Movement...',\n",
       "     'FirstURL': 'https://duckduckgo.com/Madonna_Thunder_Hawk',\n",
       "     'Text': 'Madonna Thunder Hawk A Native American civil rights activist best known as a leader in the American Indian Movement...',\n",
       "     'Icon': {'URL': '', 'Width': '', 'Height': ''}},\n",
       "    {'FirstURL': 'https://duckduckgo.com/Armando_Madonna',\n",
       "     'Result': '<a href=\"https://duckduckgo.com/Armando_Madonna\">Armando Madonna</a> An Italian football manager and former player.',\n",
       "     'Text': 'Armando Madonna An Italian football manager and former player.',\n",
       "     'Icon': {'URL': '', 'Height': '', 'Width': ''}},\n",
       "    {'FirstURL': 'https://duckduckgo.com/Jon_C._Madonna',\n",
       "     'Result': '<a href=\"https://duckduckgo.com/Jon_C._Madonna\">Jon C. Madonna</a>Jon C. Madonna, deceased, was chairman and chief executive officer of KPMG, in New York City.',\n",
       "     'Icon': {'Width': '', 'Height': '', 'URL': ''},\n",
       "     'Text': 'Jon C. Madonna Jon C. Madonna, deceased, was chairman and chief executive officer of KPMG, in New York City.'},\n",
       "    {'Icon': {'Width': '',\n",
       "      'Height': '',\n",
       "      'URL': 'https://duckduckgo.com/i/0b662f71.jpg'},\n",
       "     'Text': 'G. Terry Madonna G. Terry Madonna is Professor of Public Affairs and Director of the Center for Politics and...',\n",
       "     'Result': '<a href=\"https://duckduckgo.com/G._Terry_Madonna\">G. Terry Madonna</a>G. Terry Madonna is Professor of Public Affairs and Director of the Center for Politics and...',\n",
       "     'FirstURL': 'https://duckduckgo.com/G._Terry_Madonna'},\n",
       "    {'Icon': {'Height': '', 'Width': '', 'URL': ''},\n",
       "     'Text': 'Matthew Madonna A former street boss of the Lucchese crime family.',\n",
       "     'FirstURL': 'https://duckduckgo.com/Matthew_Madonna',\n",
       "     'Result': '<a href=\"https://duckduckgo.com/Matthew_Madonna\">Matthew Madonna</a> A former street boss of the Lucchese crime family.'},\n",
       "    {'Result': '<a href=\"https://duckduckgo.com/Paul_Madonna\">Paul Madonna</a> An American artist.',\n",
       "     'FirstURL': 'https://duckduckgo.com/Paul_Madonna',\n",
       "     'Icon': {'URL': 'https://duckduckgo.com/i/www.paulmadonna.com.ico',\n",
       "      'Height': 16,\n",
       "      'Width': 16},\n",
       "     'Text': 'Paul Madonna An American artist.'},\n",
       "    {'FirstURL': 'https://duckduckgo.com/Nicola_Madonna',\n",
       "     'Result': '<a href=\"https://duckduckgo.com/Nicola_Madonna\">Nicola Madonna</a> An Italian footballer. He plays for Giana Erminio.',\n",
       "     'Text': 'Nicola Madonna An Italian footballer. He plays for Giana Erminio.',\n",
       "     'Icon': {'URL': '', 'Height': '', 'Width': ''}}]},\n",
       "  {'Topics': [{'FirstURL': 'https://duckduckgo.com/Lady_Madonna',\n",
       "     'Result': '\"<a href=\"https://duckduckgo.com/Lady_Madonna\">Lady Madonna</a>\" A song by the English rock band the Beatles, written by Paul McCartney and credited to...',\n",
       "     'Icon': {'URL': 'https://duckduckgo.com/i/66dbe8a7.jpg',\n",
       "      'Width': '',\n",
       "      'Height': ''},\n",
       "     'Text': '\"Lady Madonna \" A song by the English rock band the Beatles, written by Paul McCartney and credited to...'},\n",
       "    {'Icon': {'Height': '',\n",
       "      'Width': '',\n",
       "      'URL': 'https://duckduckgo.com/i/f89e2a82.png'},\n",
       "     'Text': 'Madona A town with town rights in the Vidzeme region of Latvia and is the center of the Madona...',\n",
       "     'Result': '<a href=\"https://duckduckgo.com/Madona\">Madona</a>A town with town rights in the Vidzeme region of Latvia and is the center of the Madona...',\n",
       "     'FirstURL': 'https://duckduckgo.com/Madona'}],\n",
       "   'Name': 'See also'}],\n",
       " 'AbstractText': '',\n",
       " 'Answer': '',\n",
       " 'meta': {'attribution': None,\n",
       "  'dev_milestone': 'live',\n",
       "  'tab': 'About',\n",
       "  'id': 'wikipedia_fathead',\n",
       "  'blockgroup': None,\n",
       "  'src_id': 1,\n",
       "  'live_date': None,\n",
       "  'is_stackexchange': None,\n",
       "  'unsafe': 0,\n",
       "  'designer': None,\n",
       "  'perl_module': 'DDG::Fathead::Wikipedia',\n",
       "  'topic': ['productivity'],\n",
       "  'src_name': 'Wikipedia',\n",
       "  'src_options': {'source_skip': '',\n",
       "   'directory': '',\n",
       "   'min_abstract_length': '20',\n",
       "   'is_fanon': 0,\n",
       "   'language': 'en',\n",
       "   'skip_qr': '',\n",
       "   'skip_icon': 0,\n",
       "   'is_mediawiki': 1,\n",
       "   'src_info': '',\n",
       "   'skip_abstract': 0,\n",
       "   'skip_abstract_paren': 0,\n",
       "   'is_wikipedia': 1,\n",
       "   'skip_image_name': 0,\n",
       "   'skip_end': '0'},\n",
       "  'repo': 'fathead',\n",
       "  'signal_from': 'wikipedia_fathead',\n",
       "  'name': 'Wikipedia',\n",
       "  'src_url': None,\n",
       "  'status': 'live',\n",
       "  'developer': [{'type': 'ddg',\n",
       "    'name': 'DDG Team',\n",
       "    'url': 'http://www.duckduckhack.com'}],\n",
       "  'src_domain': 'en.wikipedia.org',\n",
       "  'dev_date': None,\n",
       "  'production_state': 'online',\n",
       "  'description': 'Wikipedia',\n",
       "  'maintainer': {'github': 'duckduckgo'},\n",
       "  'created_date': None,\n",
       "  'producer': None,\n",
       "  'example_query': 'nikola tesla',\n",
       "  'js_callback_name': 'wikipedia'},\n",
       " 'Redirect': '',\n",
       " 'Results': [],\n",
       " 'AbstractURL': 'https://en.wikipedia.org/wiki/Madonna'}"
      ]
     },
     "execution_count": 11,
     "metadata": {},
     "output_type": "execute_result"
    }
   ],
   "source": [
    "requests.get(\"https://api.duckduckgo.com/?format=json&pretty=1&q=Madonna\").json()"
   ]
  },
  {
   "cell_type": "markdown",
   "metadata": {},
   "source": [
    "Vamos exibir parte do resultado da célula acima. Lembre-se que podemos recuperar o valor de uma célula por meio do seu número identificador. Exemplo: se estamos na célula 12 e queremos o resultado da célula 11, devemos chamá-la por \"\\_11\". Portanto, antes de executar as próximas células, verifique se está chamando o retorno da célula correta! =) "
   ]
  },
  {
   "cell_type": "code",
   "execution_count": 12,
   "metadata": {},
   "outputs": [
    {
     "data": {
      "text/html": [
       "<div>\n",
       "<style scoped>\n",
       "    .dataframe tbody tr th:only-of-type {\n",
       "        vertical-align: middle;\n",
       "    }\n",
       "\n",
       "    .dataframe tbody tr th {\n",
       "        vertical-align: top;\n",
       "    }\n",
       "\n",
       "    .dataframe thead th {\n",
       "        text-align: right;\n",
       "    }\n",
       "</style>\n",
       "<table border=\"1\" class=\"dataframe\">\n",
       "  <thead>\n",
       "    <tr style=\"text-align: right;\">\n",
       "      <th></th>\n",
       "      <th>FirstURL</th>\n",
       "      <th>Icon</th>\n",
       "      <th>Name</th>\n",
       "      <th>Result</th>\n",
       "      <th>Text</th>\n",
       "      <th>Topics</th>\n",
       "    </tr>\n",
       "  </thead>\n",
       "  <tbody>\n",
       "    <tr>\n",
       "      <th>0</th>\n",
       "      <td>https://duckduckgo.com/Madonna_(entertainer)</td>\n",
       "      <td>{'URL': 'https://duckduckgo.com/i/8c21d72a.jpg...</td>\n",
       "      <td>NaN</td>\n",
       "      <td>&lt;a href=\"https://duckduckgo.com/Madonna_(enter...</td>\n",
       "      <td>Madonna (entertainer) An American singer, song...</td>\n",
       "      <td>NaN</td>\n",
       "    </tr>\n",
       "    <tr>\n",
       "      <th>1</th>\n",
       "      <td>https://duckduckgo.com/Madonna_Sebastian</td>\n",
       "      <td>{'Height': '', 'Width': '', 'URL': ''}</td>\n",
       "      <td>NaN</td>\n",
       "      <td>&lt;a href=\"https://duckduckgo.com/Madonna_Sebast...</td>\n",
       "      <td>Madonna Sebastian An Indian actress and singer...</td>\n",
       "      <td>NaN</td>\n",
       "    </tr>\n",
       "    <tr>\n",
       "      <th>2</th>\n",
       "      <td>https://duckduckgo.com/Madonna_(Madonna_album)</td>\n",
       "      <td>{'URL': 'https://duckduckgo.com/i/77daa368.jpg...</td>\n",
       "      <td>NaN</td>\n",
       "      <td>&lt;a href=\"https://duckduckgo.com/Madonna_(Madon...</td>\n",
       "      <td>Madonna (Madonna album) The debut album by Ame...</td>\n",
       "      <td>NaN</td>\n",
       "    </tr>\n",
       "    <tr>\n",
       "      <th>3</th>\n",
       "      <td>https://duckduckgo.com/Mary%2C_mother_of_Jesus</td>\n",
       "      <td>{'Height': '', 'Width': '', 'URL': ''}</td>\n",
       "      <td>NaN</td>\n",
       "      <td>&lt;a href=\"https://duckduckgo.com/Mary%2C_mother...</td>\n",
       "      <td>Mary, mother of Jesus A first-century BC Galil...</td>\n",
       "      <td>NaN</td>\n",
       "    </tr>\n",
       "    <tr>\n",
       "      <th>4</th>\n",
       "      <td>NaN</td>\n",
       "      <td>NaN</td>\n",
       "      <td>Art</td>\n",
       "      <td>NaN</td>\n",
       "      <td>NaN</td>\n",
       "      <td>[{'Text': 'Madonna (art) A representation of M...</td>\n",
       "    </tr>\n",
       "    <tr>\n",
       "      <th>5</th>\n",
       "      <td>NaN</td>\n",
       "      <td>NaN</td>\n",
       "      <td>Film</td>\n",
       "      <td>NaN</td>\n",
       "      <td>NaN</td>\n",
       "      <td>[{'Text': 'Madonna (1999 film) A 1999 Croatian...</td>\n",
       "    </tr>\n",
       "    <tr>\n",
       "      <th>6</th>\n",
       "      <td>NaN</td>\n",
       "      <td>NaN</td>\n",
       "      <td>Music</td>\n",
       "      <td>NaN</td>\n",
       "      <td>NaN</td>\n",
       "      <td>[{'Result': '&lt;a href=\"https://duckduckgo.com/M...</td>\n",
       "    </tr>\n",
       "    <tr>\n",
       "      <th>7</th>\n",
       "      <td>NaN</td>\n",
       "      <td>NaN</td>\n",
       "      <td>Places</td>\n",
       "      <td>NaN</td>\n",
       "      <td>NaN</td>\n",
       "      <td>[{'Result': '&lt;a href=\"https://duckduckgo.com/M...</td>\n",
       "    </tr>\n",
       "    <tr>\n",
       "      <th>8</th>\n",
       "      <td>NaN</td>\n",
       "      <td>NaN</td>\n",
       "      <td>Other uses</td>\n",
       "      <td>NaN</td>\n",
       "      <td>NaN</td>\n",
       "      <td>[{'Icon': {'URL': 'https://duckduckgo.com/i/eb...</td>\n",
       "    </tr>\n",
       "    <tr>\n",
       "      <th>9</th>\n",
       "      <td>NaN</td>\n",
       "      <td>NaN</td>\n",
       "      <td>People</td>\n",
       "      <td>NaN</td>\n",
       "      <td>NaN</td>\n",
       "      <td>[{'Icon': {'URL': '', 'Height': '', 'Width': '...</td>\n",
       "    </tr>\n",
       "    <tr>\n",
       "      <th>10</th>\n",
       "      <td>NaN</td>\n",
       "      <td>NaN</td>\n",
       "      <td>See also</td>\n",
       "      <td>NaN</td>\n",
       "      <td>NaN</td>\n",
       "      <td>[{'FirstURL': 'https://duckduckgo.com/Lady_Mad...</td>\n",
       "    </tr>\n",
       "  </tbody>\n",
       "</table>\n",
       "</div>"
      ],
      "text/plain": [
       "                                          FirstURL  \\\n",
       "0     https://duckduckgo.com/Madonna_(entertainer)   \n",
       "1         https://duckduckgo.com/Madonna_Sebastian   \n",
       "2   https://duckduckgo.com/Madonna_(Madonna_album)   \n",
       "3   https://duckduckgo.com/Mary%2C_mother_of_Jesus   \n",
       "4                                              NaN   \n",
       "5                                              NaN   \n",
       "6                                              NaN   \n",
       "7                                              NaN   \n",
       "8                                              NaN   \n",
       "9                                              NaN   \n",
       "10                                             NaN   \n",
       "\n",
       "                                                 Icon        Name  \\\n",
       "0   {'URL': 'https://duckduckgo.com/i/8c21d72a.jpg...         NaN   \n",
       "1              {'Height': '', 'Width': '', 'URL': ''}         NaN   \n",
       "2   {'URL': 'https://duckduckgo.com/i/77daa368.jpg...         NaN   \n",
       "3              {'Height': '', 'Width': '', 'URL': ''}         NaN   \n",
       "4                                                 NaN         Art   \n",
       "5                                                 NaN        Film   \n",
       "6                                                 NaN       Music   \n",
       "7                                                 NaN      Places   \n",
       "8                                                 NaN  Other uses   \n",
       "9                                                 NaN      People   \n",
       "10                                                NaN    See also   \n",
       "\n",
       "                                               Result  \\\n",
       "0   <a href=\"https://duckduckgo.com/Madonna_(enter...   \n",
       "1   <a href=\"https://duckduckgo.com/Madonna_Sebast...   \n",
       "2   <a href=\"https://duckduckgo.com/Madonna_(Madon...   \n",
       "3   <a href=\"https://duckduckgo.com/Mary%2C_mother...   \n",
       "4                                                 NaN   \n",
       "5                                                 NaN   \n",
       "6                                                 NaN   \n",
       "7                                                 NaN   \n",
       "8                                                 NaN   \n",
       "9                                                 NaN   \n",
       "10                                                NaN   \n",
       "\n",
       "                                                 Text  \\\n",
       "0   Madonna (entertainer) An American singer, song...   \n",
       "1   Madonna Sebastian An Indian actress and singer...   \n",
       "2   Madonna (Madonna album) The debut album by Ame...   \n",
       "3   Mary, mother of Jesus A first-century BC Galil...   \n",
       "4                                                 NaN   \n",
       "5                                                 NaN   \n",
       "6                                                 NaN   \n",
       "7                                                 NaN   \n",
       "8                                                 NaN   \n",
       "9                                                 NaN   \n",
       "10                                                NaN   \n",
       "\n",
       "                                               Topics  \n",
       "0                                                 NaN  \n",
       "1                                                 NaN  \n",
       "2                                                 NaN  \n",
       "3                                                 NaN  \n",
       "4   [{'Text': 'Madonna (art) A representation of M...  \n",
       "5   [{'Text': 'Madonna (1999 film) A 1999 Croatian...  \n",
       "6   [{'Result': '<a href=\"https://duckduckgo.com/M...  \n",
       "7   [{'Result': '<a href=\"https://duckduckgo.com/M...  \n",
       "8   [{'Icon': {'URL': 'https://duckduckgo.com/i/eb...  \n",
       "9   [{'Icon': {'URL': '', 'Height': '', 'Width': '...  \n",
       "10  [{'FirstURL': 'https://duckduckgo.com/Lady_Mad...  "
      ]
     },
     "execution_count": 12,
     "metadata": {},
     "output_type": "execute_result"
    }
   ],
   "source": [
    "pd.DataFrame(_11['RelatedTopics'])"
   ]
  },
  {
   "cell_type": "code",
   "execution_count": 13,
   "metadata": {},
   "outputs": [
    {
     "data": {
      "text/plain": [
       "''"
      ]
     },
     "execution_count": 13,
     "metadata": {},
     "output_type": "execute_result"
    }
   ],
   "source": [
    "_11['Image']"
   ]
  },
  {
   "cell_type": "markdown",
   "metadata": {},
   "source": [
    "Na célula acima, espera-se que VALOR associado à CHAVE \"Image\" seja vazio (\"\"). \n",
    "\n",
    "## Exemplo 1: Ferramenta de busca\n",
    "Vamos criar uma pequena ferramenta de busca: a palavra digitada no input é concatenada na string da URL e a busca é enviada ao DuckDuckGo, que retorna um JSON com o resultado. Mostramos os campos `Abstract` e, quando disponível, o campo `Image`.\n",
    "\n",
    "**IMPORTANTE**: notem que nosso código está baseado em um loop infinito, com uma condição bem específica de busca para rompê-lo. Você identificou qual? Se o loop não for interrompido, você não conseguirá executar as células subsequentes a menos que reinicie o kernel do notebook, conforme vimos em sala de aula. "
   ]
  },
  {
   "cell_type": "code",
   "execution_count": 14,
   "metadata": {},
   "outputs": [],
   "source": [
    "import matplotlib.image as mpimg\n",
    "import matplotlib.pyplot as plt"
   ]
  },
  {
   "cell_type": "markdown",
   "metadata": {},
   "source": [
    "Criar um dataframe vazio para armazenar o dado das buscas..."
   ]
  },
  {
   "cell_type": "code",
   "execution_count": 15,
   "metadata": {},
   "outputs": [],
   "source": [
    "df_ddg = pd.DataFrame(columns=['Query', 'Abstract','Image'])"
   ]
  },
  {
   "cell_type": "code",
   "execution_count": 16,
   "metadata": {
    "scrolled": true
   },
   "outputs": [
    {
     "name": "stdout",
     "output_type": "stream",
     "text": [
      "NASDAQ\n",
      "\n",
      " The Nasdaq Stock Market is an American stock exchange. It is the second-largest exchange in the world by market capitalization, behind only the New York Stock Exchange located in the same city. The exchange platform is owned by Nasdaq, Inc., which also owns the Nasdaq Nordic and Nasdaq Baltic stock market network and several other U.S. stock and options exchanges. \n",
      " https://duckduckgo.com/i/4cd6278e.png\n"
     ]
    },
    {
     "data": {
      "image/png": "[encoded data removed]",
      "text/plain": [
       "<Figure size 432x288 with 1 Axes>"
      ]
     },
     "metadata": {
      "needs_background": "light"
     },
     "output_type": "display_data"
    },
    {
     "name": "stdout",
     "output_type": "stream",
     "text": [
      "Sônia Braga\n",
      "\n",
      " Sônia Maria Campos Braga is a Brazilian-American actress. She is known in the English-speaking world for her Golden Globe Award nominated performances in Kiss of the Spider Woman and Moon over Parador. She also received a BAFTA Award nomination in 1981 for Dona Flor and Her Two Husbands. For the 1994 television film The Burning Season, she was nominated for an Emmy Award and a third Golden Globe Award. Her other television and film credits include The Cosby Show, Sex and the City, American Family, Alias, Aquarius and Bacurau. \n",
      " https://duckduckgo.com/i/337ebf12.png\n"
     ]
    },
    {
     "data": {
      "image/png": "[encoded data removed]",
      "text/plain": [
       "<Figure size 432x288 with 1 Axes>"
      ]
     },
     "metadata": {
      "needs_background": "light"
     },
     "output_type": "display_data"
    },
    {
     "name": "stdout",
     "output_type": "stream",
     "text": [
      "Michel Fornaciali\n",
      "\n",
      "  \n",
      " \n",
      "\n"
     ]
    }
   ],
   "source": [
    "while True: #Loop infinito\n",
    "    query = input()\n",
    "    if query == '':\n",
    "        break\n",
    "    data = requests.get(\"https://api.duckduckgo.com/?format=json&q=\" + query).json()\n",
    "    img_url = data[\"Image\"]\n",
    "    abst = data[\"Abstract\"]\n",
    "    df_ddg=df_ddg.append({'Query':query,'Abstract':abst,'Image':img_url},ignore_index=True)\n",
    "    print(\"\\n\", abst,\"\\n\", img_url)\n",
    "    if len(img_url) > 0:\n",
    "        image = mpimg.imread(img_url)\n",
    "        plt.imshow(image)\n",
    "        plt.axis('off') \n",
    "        plt.show()\n"
   ]
  },
  {
   "cell_type": "code",
   "execution_count": 17,
   "metadata": {},
   "outputs": [
    {
     "data": {
      "text/html": [
       "<div>\n",
       "<style scoped>\n",
       "    .dataframe tbody tr th:only-of-type {\n",
       "        vertical-align: middle;\n",
       "    }\n",
       "\n",
       "    .dataframe tbody tr th {\n",
       "        vertical-align: top;\n",
       "    }\n",
       "\n",
       "    .dataframe thead th {\n",
       "        text-align: right;\n",
       "    }\n",
       "</style>\n",
       "<table border=\"1\" class=\"dataframe\">\n",
       "  <thead>\n",
       "    <tr style=\"text-align: right;\">\n",
       "      <th></th>\n",
       "      <th>Query</th>\n",
       "      <th>Abstract</th>\n",
       "      <th>Image</th>\n",
       "    </tr>\n",
       "  </thead>\n",
       "  <tbody>\n",
       "    <tr>\n",
       "      <th>0</th>\n",
       "      <td>NASDAQ</td>\n",
       "      <td>The Nasdaq Stock Market is an American stock e...</td>\n",
       "      <td>https://duckduckgo.com/i/4cd6278e.png</td>\n",
       "    </tr>\n",
       "    <tr>\n",
       "      <th>1</th>\n",
       "      <td>Sônia Braga</td>\n",
       "      <td>Sônia Maria Campos Braga is a Brazilian-Americ...</td>\n",
       "      <td>https://duckduckgo.com/i/337ebf12.png</td>\n",
       "    </tr>\n",
       "    <tr>\n",
       "      <th>2</th>\n",
       "      <td>Michel Fornaciali</td>\n",
       "      <td></td>\n",
       "      <td></td>\n",
       "    </tr>\n",
       "  </tbody>\n",
       "</table>\n",
       "</div>"
      ],
      "text/plain": [
       "               Query                                           Abstract  \\\n",
       "0             NASDAQ  The Nasdaq Stock Market is an American stock e...   \n",
       "1        Sônia Braga  Sônia Maria Campos Braga is a Brazilian-Americ...   \n",
       "2  Michel Fornaciali                                                      \n",
       "\n",
       "                                   Image  \n",
       "0  https://duckduckgo.com/i/4cd6278e.png  \n",
       "1  https://duckduckgo.com/i/337ebf12.png  \n",
       "2                                         "
      ]
     },
     "execution_count": 17,
     "metadata": {},
     "output_type": "execute_result"
    }
   ],
   "source": [
    "df_ddg"
   ]
  },
  {
   "cell_type": "markdown",
   "metadata": {},
   "source": [
    "## Exemplo 2: Exercitando uso de Web API & Pandas\n",
    "Aqui vamos obter dados com chamada de WEB API do GitHub e carregá-los em um dataframe Pandas:\n"
   ]
  },
  {
   "cell_type": "code",
   "execution_count": 19,
   "metadata": {},
   "outputs": [],
   "source": [
    "githubuser=requests.get(\" https://api.github.com/users/danielscarvalho\").json()"
   ]
  },
  {
   "cell_type": "code",
   "execution_count": 47,
   "metadata": {},
   "outputs": [
    {
     "data": {
      "text/plain": [
       "{'login': 'danielscarvalho',\n",
       " 'id': 916663,\n",
       " 'node_id': 'MDQ6VXNlcjkxNjY2Mw==',\n",
       " 'avatar_url': 'https://avatars2.githubusercontent.com/u/916663?v=4',\n",
       " 'gravatar_id': '',\n",
       " 'url': 'https://api.github.com/users/danielscarvalho',\n",
       " 'html_url': 'https://github.com/danielscarvalho',\n",
       " 'followers_url': 'https://api.github.com/users/danielscarvalho/followers',\n",
       " 'following_url': 'https://api.github.com/users/danielscarvalho/following{/other_user}',\n",
       " 'gists_url': 'https://api.github.com/users/danielscarvalho/gists{/gist_id}',\n",
       " 'starred_url': 'https://api.github.com/users/danielscarvalho/starred{/owner}{/repo}',\n",
       " 'subscriptions_url': 'https://api.github.com/users/danielscarvalho/subscriptions',\n",
       " 'organizations_url': 'https://api.github.com/users/danielscarvalho/orgs',\n",
       " 'repos_url': 'https://api.github.com/users/danielscarvalho/repos',\n",
       " 'events_url': 'https://api.github.com/users/danielscarvalho/events{/privacy}',\n",
       " 'received_events_url': 'https://api.github.com/users/danielscarvalho/received_events',\n",
       " 'type': 'User',\n",
       " 'site_admin': False,\n",
       " 'name': 'Daniel de Souza Carvalho',\n",
       " 'company': 'Advisor Tecnologia',\n",
       " 'blog': 'danielscarvalho.blogspot.com.br',\n",
       " 'location': 'Brazil, São Paulo',\n",
       " 'email': None,\n",
       " 'hireable': None,\n",
       " 'bio': 'Developer: Wolfram Language (Mathematica), Data Science, Java, \\r\\n SQL, HTML5, CSS3, JavaScript,  Python, Git & GitHub, Sys Architect, MSc Computer Engineering',\n",
       " 'public_repos': 126,\n",
       " 'public_gists': 3,\n",
       " 'followers': 54,\n",
       " 'following': 81,\n",
       " 'created_at': '2011-07-15T02:32:34Z',\n",
       " 'updated_at': '2020-03-13T07:35:12Z'}"
      ]
     },
     "execution_count": 47,
     "metadata": {},
     "output_type": "execute_result"
    }
   ],
   "source": [
    "githubuser"
   ]
  },
  {
   "cell_type": "markdown",
   "metadata": {},
   "source": [
    "O parâmetro T retorna a transposta do dataframe.\n",
    "\n",
    "O parâmetro do DataFrame tem que receber uma lista, neste caso temos apenas uma linha."
   ]
  },
  {
   "cell_type": "code",
   "execution_count": 20,
   "metadata": {},
   "outputs": [
    {
     "data": {
      "text/html": [
       "<div>\n",
       "<style scoped>\n",
       "    .dataframe tbody tr th:only-of-type {\n",
       "        vertical-align: middle;\n",
       "    }\n",
       "\n",
       "    .dataframe tbody tr th {\n",
       "        vertical-align: top;\n",
       "    }\n",
       "\n",
       "    .dataframe thead th {\n",
       "        text-align: right;\n",
       "    }\n",
       "</style>\n",
       "<table border=\"1\" class=\"dataframe\">\n",
       "  <thead>\n",
       "    <tr style=\"text-align: right;\">\n",
       "      <th></th>\n",
       "      <th>0</th>\n",
       "    </tr>\n",
       "  </thead>\n",
       "  <tbody>\n",
       "    <tr>\n",
       "      <th>avatar_url</th>\n",
       "      <td>https://avatars2.githubusercontent.com/u/91666...</td>\n",
       "    </tr>\n",
       "    <tr>\n",
       "      <th>bio</th>\n",
       "      <td>Developer: Wolfram Language (Mathematica), Dat...</td>\n",
       "    </tr>\n",
       "    <tr>\n",
       "      <th>blog</th>\n",
       "      <td>danielscarvalho.blogspot.com.br</td>\n",
       "    </tr>\n",
       "    <tr>\n",
       "      <th>company</th>\n",
       "      <td>Advisor Tecnologia</td>\n",
       "    </tr>\n",
       "    <tr>\n",
       "      <th>created_at</th>\n",
       "      <td>2011-07-15T02:32:34Z</td>\n",
       "    </tr>\n",
       "    <tr>\n",
       "      <th>email</th>\n",
       "      <td>None</td>\n",
       "    </tr>\n",
       "    <tr>\n",
       "      <th>events_url</th>\n",
       "      <td>https://api.github.com/users/danielscarvalho/e...</td>\n",
       "    </tr>\n",
       "    <tr>\n",
       "      <th>followers</th>\n",
       "      <td>55</td>\n",
       "    </tr>\n",
       "    <tr>\n",
       "      <th>followers_url</th>\n",
       "      <td>https://api.github.com/users/danielscarvalho/f...</td>\n",
       "    </tr>\n",
       "    <tr>\n",
       "      <th>following</th>\n",
       "      <td>82</td>\n",
       "    </tr>\n",
       "    <tr>\n",
       "      <th>following_url</th>\n",
       "      <td>https://api.github.com/users/danielscarvalho/f...</td>\n",
       "    </tr>\n",
       "    <tr>\n",
       "      <th>gists_url</th>\n",
       "      <td>https://api.github.com/users/danielscarvalho/g...</td>\n",
       "    </tr>\n",
       "    <tr>\n",
       "      <th>gravatar_id</th>\n",
       "      <td></td>\n",
       "    </tr>\n",
       "    <tr>\n",
       "      <th>hireable</th>\n",
       "      <td>None</td>\n",
       "    </tr>\n",
       "    <tr>\n",
       "      <th>html_url</th>\n",
       "      <td>https://github.com/danielscarvalho</td>\n",
       "    </tr>\n",
       "    <tr>\n",
       "      <th>id</th>\n",
       "      <td>916663</td>\n",
       "    </tr>\n",
       "    <tr>\n",
       "      <th>location</th>\n",
       "      <td>Brazil, São Paulo</td>\n",
       "    </tr>\n",
       "    <tr>\n",
       "      <th>login</th>\n",
       "      <td>danielscarvalho</td>\n",
       "    </tr>\n",
       "    <tr>\n",
       "      <th>name</th>\n",
       "      <td>Daniel de Souza Carvalho</td>\n",
       "    </tr>\n",
       "    <tr>\n",
       "      <th>node_id</th>\n",
       "      <td>MDQ6VXNlcjkxNjY2Mw==</td>\n",
       "    </tr>\n",
       "    <tr>\n",
       "      <th>organizations_url</th>\n",
       "      <td>https://api.github.com/users/danielscarvalho/orgs</td>\n",
       "    </tr>\n",
       "    <tr>\n",
       "      <th>public_gists</th>\n",
       "      <td>3</td>\n",
       "    </tr>\n",
       "    <tr>\n",
       "      <th>public_repos</th>\n",
       "      <td>127</td>\n",
       "    </tr>\n",
       "    <tr>\n",
       "      <th>received_events_url</th>\n",
       "      <td>https://api.github.com/users/danielscarvalho/r...</td>\n",
       "    </tr>\n",
       "    <tr>\n",
       "      <th>repos_url</th>\n",
       "      <td>https://api.github.com/users/danielscarvalho/r...</td>\n",
       "    </tr>\n",
       "    <tr>\n",
       "      <th>site_admin</th>\n",
       "      <td>False</td>\n",
       "    </tr>\n",
       "    <tr>\n",
       "      <th>starred_url</th>\n",
       "      <td>https://api.github.com/users/danielscarvalho/s...</td>\n",
       "    </tr>\n",
       "    <tr>\n",
       "      <th>subscriptions_url</th>\n",
       "      <td>https://api.github.com/users/danielscarvalho/s...</td>\n",
       "    </tr>\n",
       "    <tr>\n",
       "      <th>type</th>\n",
       "      <td>User</td>\n",
       "    </tr>\n",
       "    <tr>\n",
       "      <th>updated_at</th>\n",
       "      <td>2020-03-16T18:20:16Z</td>\n",
       "    </tr>\n",
       "    <tr>\n",
       "      <th>url</th>\n",
       "      <td>https://api.github.com/users/danielscarvalho</td>\n",
       "    </tr>\n",
       "  </tbody>\n",
       "</table>\n",
       "</div>"
      ],
      "text/plain": [
       "                                                                     0\n",
       "avatar_url           https://avatars2.githubusercontent.com/u/91666...\n",
       "bio                  Developer: Wolfram Language (Mathematica), Dat...\n",
       "blog                                   danielscarvalho.blogspot.com.br\n",
       "company                                             Advisor Tecnologia\n",
       "created_at                                        2011-07-15T02:32:34Z\n",
       "email                                                             None\n",
       "events_url           https://api.github.com/users/danielscarvalho/e...\n",
       "followers                                                           55\n",
       "followers_url        https://api.github.com/users/danielscarvalho/f...\n",
       "following                                                           82\n",
       "following_url        https://api.github.com/users/danielscarvalho/f...\n",
       "gists_url            https://api.github.com/users/danielscarvalho/g...\n",
       "gravatar_id                                                           \n",
       "hireable                                                          None\n",
       "html_url                            https://github.com/danielscarvalho\n",
       "id                                                              916663\n",
       "location                                             Brazil, São Paulo\n",
       "login                                                  danielscarvalho\n",
       "name                                          Daniel de Souza Carvalho\n",
       "node_id                                           MDQ6VXNlcjkxNjY2Mw==\n",
       "organizations_url    https://api.github.com/users/danielscarvalho/orgs\n",
       "public_gists                                                         3\n",
       "public_repos                                                       127\n",
       "received_events_url  https://api.github.com/users/danielscarvalho/r...\n",
       "repos_url            https://api.github.com/users/danielscarvalho/r...\n",
       "site_admin                                                       False\n",
       "starred_url          https://api.github.com/users/danielscarvalho/s...\n",
       "subscriptions_url    https://api.github.com/users/danielscarvalho/s...\n",
       "type                                                              User\n",
       "updated_at                                        2020-03-16T18:20:16Z\n",
       "url                       https://api.github.com/users/danielscarvalho"
      ]
     },
     "execution_count": 20,
     "metadata": {},
     "output_type": "execute_result"
    }
   ],
   "source": [
    "pd.DataFrame([githubuser]).T"
   ]
  },
  {
   "cell_type": "markdown",
   "metadata": {},
   "source": [
    "__Atividade:__ Analizar com detalhes a estrutura do JSON (dict) retornado pelo WEB API do DuckDuckGo e faça um refinamento da aplicação em um novo notebook visualizando mais informações interessantes, observar no browser (navegador) a mensagem JSON:\n",
    "https://api.duckduckgo.com/?q=Brazil&format=json&pretty=1"
   ]
  },
  {
   "cell_type": "markdown",
   "metadata": {},
   "source": [
    "Para saber mais:\n",
    "\n",
    "- https://duckduckgo.com/api\n",
    "- https://docs.python.org/3/tutorial/datastructures.html#dictionaries\n",
    "- https://requests.readthedocs.io/en/master/\n",
    "- https://penseallen.github.io/PensePython2e/11-dicionarios.html\n",
    "- https://developer.mozilla.org/pt-BR/docs/Web/HTTP\n",
    "- https://www.w3schools.com/js/js_json_intro.asp"
   ]
  }
 ],
 "metadata": {
  "kernelspec": {
   "display_name": "Python 3",
   "language": "python",
   "name": "python3"
  },
  "language_info": {
   "codemirror_mode": {
    "name": "ipython",
    "version": 3
   },
   "file_extension": ".py",
   "mimetype": "text/x-python",
   "name": "python",
   "nbconvert_exporter": "python",
   "pygments_lexer": "ipython3",
   "version": "3.6.13"
  }
 },
 "nbformat": 4,
 "nbformat_minor": 2
}
