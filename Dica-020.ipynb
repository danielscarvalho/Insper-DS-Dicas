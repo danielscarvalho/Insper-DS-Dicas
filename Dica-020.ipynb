{
 "cells": [
  {
   "cell_type": "markdown",
   "id": "2273e4f7",
   "metadata": {},
   "source": [
    "<img width=\"200\" style=\"float:right\" src=\"https://github.com/danielscarvalho/Insper-DS-Dicas/blob/master/Insper-Logo.png?raw=true\">"
   ]
  },
  {
   "cell_type": "markdown",
   "id": "716e28c1",
   "metadata": {},
   "source": [
    "# Computação para Ciências dos Dados\n",
    "\n",
    "<sub><a href=\"https://www.insper.edu.br/pos-graduacao/programas-avancados/programa-avancado-em-data-science-e-decisao/\">PÓS-\n",
    "GRADUAÇÃO EM DATA SCIENCE E DECISÃO</a></sub>\n",
    "\n",
    "## Dica do Dia: 020\n",
    "\n",
    "Números aleatórios e hashcodes:"
   ]
  },
  {
   "cell_type": "markdown",
   "id": "4ae630bd",
   "metadata": {},
   "source": [
    "### Bash style (no Linux, Unix e Mac)"
   ]
  },
  {
   "cell_type": "markdown",
   "id": "06c6c837",
   "metadata": {},
   "source": [
    "Na linha de comando do Linux, Unix ou Mac temos no bash uma quantidade enorme de comandos sofisticados que podemos usar em ciências dos dados. São os mesmos recursos que temos disponíveis nos servidores em nuvem (VPS - Linux).\n",
    "Note que com **!** no início de uma célula de código no Jupyter Notebook, podemos usar os comandos do sistema operacional e ver o resultado na célula de output.\n",
    "\n",
    "Podemos gerar números aleatórios, hashcodes, etc... com os comandos do Linux (Bash)"
   ]
  },
  {
   "cell_type": "code",
   "execution_count": 1,
   "id": "3a818dd8",
   "metadata": {
    "scrolled": true
   },
   "outputs": [
    {
     "name": "stdout",
     "output_type": "stream",
     "text": [
      "Linux acme-lab 5.15.0-41-generic #44~20.04.1-Ubuntu SMP Fri Jun 24 13:27:29 UTC 2022 x86_64 x86_64 x86_64 GNU/Linux\r\n"
     ]
    }
   ],
   "source": [
    "!uname -a"
   ]
  },
  {
   "cell_type": "code",
   "execution_count": 49,
   "id": "9f224fc4",
   "metadata": {
    "scrolled": true
   },
   "outputs": [
    {
     "name": "stdout",
     "output_type": "stream",
     "text": [
      "1649098690\r\n"
     ]
    }
   ],
   "source": [
    "!date +%s"
   ]
  },
  {
   "cell_type": "code",
   "execution_count": 50,
   "id": "874dd789",
   "metadata": {},
   "outputs": [
    {
     "name": "stdout",
     "output_type": "stream",
     "text": [
      "20278\r\n"
     ]
    }
   ],
   "source": [
    "!echo $RANDOM"
   ]
  },
  {
   "cell_type": "code",
   "execution_count": 51,
   "id": "fab90374",
   "metadata": {
    "scrolled": false
   },
   "outputs": [
    {
     "name": "stdout",
     "output_type": "stream",
     "text": [
      "1649098710\r\n"
     ]
    }
   ],
   "source": [
    "!echo $(date +%s)"
   ]
  },
  {
   "cell_type": "code",
   "execution_count": 55,
   "id": "b98cbea2",
   "metadata": {
    "scrolled": true
   },
   "outputs": [
    {
     "name": "stdout",
     "output_type": "stream",
     "text": [
      "16490987545468\r\n"
     ]
    }
   ],
   "source": [
    "!echo $(date +%s)$RANDOM"
   ]
  },
  {
   "cell_type": "code",
   "execution_count": 56,
   "id": "336f118a",
   "metadata": {},
   "outputs": [
    {
     "name": "stdout",
     "output_type": "stream",
     "text": [
      "JK+CIeADhq5ShkYYgzvDdUsx2vB0u3awBuhO6D8Dtss=\r\n"
     ]
    }
   ],
   "source": [
    "!openssl rand -base64 32"
   ]
  },
  {
   "cell_type": "code",
   "execution_count": 75,
   "id": "856620ea",
   "metadata": {
    "scrolled": false
   },
   "outputs": [
    {
     "name": "stdout",
     "output_type": "stream",
     "text": [
      "V-aqJ8EFaXEMWIMQ2h3vyCfZ-lKmLNJktr: write error: Broken pipe\r\n",
      "tr: write error\r\n",
      "cat: write error: Broken pipe\r\n"
     ]
    }
   ],
   "source": [
    "!cat /dev/urandom | tr -dc _A-Z-a-z-0-9 | head -c32"
   ]
  },
  {
   "cell_type": "code",
   "execution_count": 74,
   "id": "7474a9f1",
   "metadata": {
    "scrolled": false
   },
   "outputs": [
    {
     "name": "stdout",
     "output_type": "stream",
     "text": [
      "84C4EDAF6923@!18!57E27!69CCC1FC#tr: write error: Broken pipe\r\n",
      "tr: write error\r\n",
      "cat: write error: Broken pipe\r\n"
     ]
    }
   ],
   "source": [
    "!cat /dev/urandom | tr -dc '0123456789ABCDEF!@#$%' | head -c32"
   ]
  },
  {
   "cell_type": "markdown",
   "id": "cd7c4de1",
   "metadata": {},
   "source": [
    "### Random em Python\n",
    "\n",
    "Biblioteca pardão"
   ]
  },
  {
   "cell_type": "code",
   "execution_count": 1,
   "id": "b5f28852",
   "metadata": {},
   "outputs": [],
   "source": [
    "import random"
   ]
  },
  {
   "cell_type": "code",
   "execution_count": 2,
   "id": "c43a6da2",
   "metadata": {},
   "outputs": [
    {
     "data": {
      "text/plain": [
       "0.03505070852746073"
      ]
     },
     "execution_count": 2,
     "metadata": {},
     "output_type": "execute_result"
    }
   ],
   "source": [
    "random.random()"
   ]
  },
  {
   "cell_type": "code",
   "execution_count": 4,
   "id": "3a2cb235",
   "metadata": {},
   "outputs": [
    {
     "data": {
      "text/plain": [
       "[167.45188142666677,\n",
       " 988.0172463923375,\n",
       " 307.2082084024563,\n",
       " 421.9882481984314,\n",
       " 410.3993263918857,\n",
       " 943.9069609858996,\n",
       " 120.59845896242494,\n",
       " 564.3730572889707,\n",
       " 666.4168496256373,\n",
       " 827.3201631520432]"
      ]
     },
     "execution_count": 4,
     "metadata": {},
     "output_type": "execute_result"
    }
   ],
   "source": [
    "rlist=[]\n",
    "\n",
    "for r in range(10):\n",
    "    rlist.append(random.random()*1000)\n",
    "    \n",
    "rlist"
   ]
  },
  {
   "cell_type": "markdown",
   "id": "b81ef65e",
   "metadata": {},
   "source": [
    "### Para saber mais:\n",
    "\n",
    "- https://passwordsgenerator.net/\n",
    "- https://www.ing.iac.es//~docs/external/bash/abs-guide/randomvar.html\n",
    "- https://linux.die.net/man/4/urandom\n",
    "- https://www.geeksforgeeks.org/random-shell-variable-in-linux-with-examples/\n",
    "- https://www.howtogeek.com/howto/30184/10-ways-to-generate-a-random-password-from-the-command-line/"
   ]
  }
 ],
 "metadata": {
  "kernelspec": {
   "display_name": "Python 3 (ipykernel)",
   "language": "python",
   "name": "python3"
  },
  "language_info": {
   "codemirror_mode": {
    "name": "ipython",
    "version": 3
   },
   "file_extension": ".py",
   "mimetype": "text/x-python",
   "name": "python",
   "nbconvert_exporter": "python",
   "pygments_lexer": "ipython3",
   "version": "3.9.12"
  }
 },
 "nbformat": 4,
 "nbformat_minor": 5
}
