{
 "cells": [
  {
   "cell_type": "markdown",
   "id": "2273e4f7",
   "metadata": {},
   "source": [
    "<img width=\"200\" style=\"float:right\" src=\"https://github.com/danielscarvalho/Insper-DS-Dicas/blob/master/Insper-Logo.png?raw=true\">"
   ]
  },
  {
   "cell_type": "markdown",
   "id": "716e28c1",
   "metadata": {},
   "source": [
    "# Computação para Ciências dos Dados\n",
    "\n",
    "<sub><a href=\"https://www.insper.edu.br/pos-graduacao/programas-avancados/programa-avancado-em-data-science-e-decisao/\">PÓS-\n",
    "GRADUAÇÃO EM DATA SCIENCE E DECISÃO</a></sub>\n",
    "\n",
    "## Dica do Dia: 019\n",
    "\n",
    "Linux, Bash (shell) e computação em nuvem (cloud).\n",
    "\n",
    "É importante para cientistas de dados conhecer o Linux e a linha de comando (CLI - Command Line Interface), pois os ambientes em nuvem onde realizamos o deploy de modelos, dashboards e WEB APIs usam Linux como base.\n",
    "\n",
    "Na linha de comando temos total controle da máquina e acesso a recursos avançados dos sitema.\n",
    "\n",
    "O Linux consiste no Kernel do sistema operacional. Para acessar o kernel utilizamos o shell (Linha de comando) sendo Bash o shell mais popular atualmente. Além do shell temos ambientes gráficos como o Kde e o Gnome, e aplicações gráficas como o Browser, navegador de arquivos, IDEs com Spyder, etc... que são utilizadas no desktop, ambiente usuário. No servidor utilizamos a linha de comando.\n",
    "\n",
    "<img src=\"https://flylib.com/books/3/224/1/html/2/images/0201433079/graphics/01fig01.gif\">\n",
    "\n",
    "Fonte: [Advanced Programming in the UNIX Environment, 2ed - Addison-Wesley Professional Computing Series](https://flylib.com/books/en/3.224.1.22/1/)\n",
    "\n",
    "Temos algumas opções para nosso ambiente Linux local:\n",
    "\n",
    "1. Instalar o Linux no desktop (uso somente Linux a mais de 10 anos)\n",
    "2. Instalar o Oracle Virtual Box e criar uma máquina virtual (VM - Virtual Machine) com Linux (ou VMWare entre outros)\n",
    "3. Instalar o WSL (Windows Subsystem for Linux) no Windows<br>\n",
    "&nbsp;&nbsp;&nbsp;Veja como instalar o WSL: https://www.youtube.com/watch?v=wPmmWKfSVYo\n",
    "\n",
    "E instalar o Anaconda neste ambiente Linux local.\n",
    "\n",
    "Recomendo [Ubuntu](https://ubuntu.com/) como distribuição Linux para cientistas de dados, developers, engenheiros e pessoal de negócios.\n",
    "\n",
    "O ambiente Linux local temos o ambiente gráfico (GUI), exceto para WSL. E no ambiente em nuvem (VPS) remoto temos o ambiente em linha de comando (CLI) que podemos acessar via **ssh** de forma criptografada passando o nome do usuário e o IP do servidor remoto.\n",
    "\n",
    "<pre>\n",
    "ssh mary@192.168.1.22\n",
    "</pre>\n",
    "\n",
    "Podemos fazer o desenvolvimento e todo o projeto no ambiente local com Linux e depois fazer o deploy em produção na nuvem (VM - VPS - Virtual Private Server).\n",
    "\n",
    "> At 90th while in college and working at PwC as DBA, I did many official UNIX training for Solaris and Digital Unix. I still use all this knowledge daily with Linux and in the cloud!!\n",
    "\n",
    "Para aprender a linha de comando do Linux (o Bash) pense em long prazo, não é necessário \"decorar\" comandos porque há material online de qualidade disponível aos montes!! E diversos scripts prontos para as mais diversas atividades. Muitos robôs (software robots) são feitos no Linux.\n",
    "\n",
    "Leia um livro sobre Linux, ou faça um tutorial (veja abaixo nas referências), e depois \"mãos à obra\"! :-)"
   ]
  },
  {
   "cell_type": "markdown",
   "id": "03e225d4",
   "metadata": {},
   "source": [
    "Nos anos 90 os fabricantes de servidores RISC mantinham suas próprias versões de sistema opearcional UNIX.\n",
    "Podemos notar que ao longo do tempo o sistema Linux foi amadurecendo e se tornou padrão de SO para os servidores plataforma Intel, o que dominou o mercado e proporcionou a computação em nuvem, com custo baixo e com a mesma qualidade dos sistemas UNIX."
   ]
  },
  {
   "cell_type": "markdown",
   "id": "0358fd13",
   "metadata": {},
   "source": [
    "<img src=\"img/Operating_systems_used_on_top_500_supercomputers.svg.png\" width=\"600px\">\n",
    "\n",
    "Fonte: https://en.wikipedia.org/wiki/Usage_share_of_operating_systems"
   ]
  },
  {
   "cell_type": "markdown",
   "id": "851e0810",
   "metadata": {},
   "source": [
    "\n",
    "O sistema operacional UNIX/Linux tem uma arquitetura simples, o sistema de arquivos é organizado da seguinte forma:\n",
    "\n",
    "<img src=\"img/directory-filesystem-hierarchy-standard.jpg\" width=\"600px\">"
   ]
  },
  {
   "cell_type": "markdown",
   "id": "d6c02b29",
   "metadata": {},
   "source": [
    "O Linux também _caiu na graça_ dos developers e cientistas de dados, que usam Mac (SO baseado no UNIX BSD) ou Linux. Desta forma a Microsoft a partir do Windows 10, criou o \"Windows Subsystem for Linux\", que permite utilizar o kernel do Linux em paralelo com o Windows..."
   ]
  },
  {
   "cell_type": "markdown",
   "id": "4ae630bd",
   "metadata": {},
   "source": [
    "### Bash no Linux, Unix e Mac"
   ]
  },
  {
   "cell_type": "markdown",
   "id": "06c6c837",
   "metadata": {},
   "source": [
    "Na linha de comando do Linux, Unix ou Mac temos no Bash e uma quantidade enorme de comandos sofisticados que podemos usar em ciências dos dados. São os mesmos recursos que temos disponíveis nos servidores em nuvem (VPS - Linux).\n",
    "\n",
    "O Bash também é uma linguagem de programação, e podemos criar arquivos texto **.sh** com sequencias de comandos e automatizar processo facilmente. (Programa em lote, batch)"
   ]
  },
  {
   "cell_type": "markdown",
   "id": "af5cf4b5",
   "metadata": {},
   "source": [
    "No Jupyter Notebook, na célula de código, podemos usar o caractere **!** no início de uma célula para executar comandos do sistema operacional, no caso Linux Ubuntu.\n",
    "\n",
    "Neste exemplo o comando **uname -a** mostra qual a versão do sistema em uso, versão do kernel, etc..."
   ]
  },
  {
   "cell_type": "code",
   "execution_count": 1,
   "id": "bc4990b2",
   "metadata": {
    "scrolled": false
   },
   "outputs": [
    {
     "name": "stdout",
     "output_type": "stream",
     "text": [
      "Linux acme-lab 5.15.0-41-generic #44~20.04.1-Ubuntu SMP Fri Jun 24 13:27:29 UTC 2022 x86_64 x86_64 x86_64 GNU/Linux\r\n"
     ]
    }
   ],
   "source": [
    "!uname -a"
   ]
  },
  {
   "cell_type": "code",
   "execution_count": 3,
   "id": "6af793f9",
   "metadata": {},
   "outputs": [],
   "source": [
    "!touch info.txt"
   ]
  },
  {
   "cell_type": "code",
   "execution_count": 4,
   "id": "e4cc6014",
   "metadata": {},
   "outputs": [
    {
     "name": "stdout",
     "output_type": "stream",
     "text": [
      "-rw-rw-r-- 1 fito fito 40 jul 25 14:45 info.txt\r\n"
     ]
    }
   ],
   "source": [
    "!ls -l info.txt"
   ]
  },
  {
   "cell_type": "code",
   "execution_count": 5,
   "id": "c4d1bcd0",
   "metadata": {},
   "outputs": [],
   "source": [
    "!echo \"Vai Corinthians\" > core.txt"
   ]
  },
  {
   "cell_type": "code",
   "execution_count": 6,
   "id": "2aa9a54b",
   "metadata": {
    "scrolled": true
   },
   "outputs": [
    {
     "name": "stdout",
     "output_type": "stream",
     "text": [
      "-rw-rw-r-- 1 fito fito 16 jul 25 14:45 core.txt\r\n",
      "-rw-rw-r-- 1 fito fito 40 jul 25 14:45 info.txt\r\n"
     ]
    }
   ],
   "source": [
    "!ls -l *.txt"
   ]
  },
  {
   "attachments": {},
   "cell_type": "markdown",
   "id": "bbde9508",
   "metadata": {},
   "source": [
    "O Linux herdou a segurança do sistema UNIX. Os arquivos tem um dono, um grupo e seus devidos acessos:\n",
    "\n",
    "<img src=\"https://vk9-sec.com/wp-content/uploads/2020/03/the-4-directory-permissions-in-linux.jpeg\">"
   ]
  },
  {
   "cell_type": "markdown",
   "id": "77c825d9",
   "metadata": {},
   "source": [
    "> O separador de diretórios (pastas) do Linux, Mac, Android, WEB e UNIX é o **/** (barra - slash) e no Windows é **\\\\** (barra invertida - backslash). Isso é sempre fonte de confusão."
   ]
  },
  {
   "cell_type": "markdown",
   "id": "cd97db81",
   "metadata": {},
   "source": [
    "> Outra fonte de confusão, os arquivos texto no Linux, Mac e UNIX a quebra de linha é obtida com LF (\\n) e o Windows utiliza dois caracteres LF+CR (\\r\\n)"
   ]
  },
  {
   "cell_type": "markdown",
   "id": "23113907",
   "metadata": {},
   "source": [
    "Entendendo o Bash e o ambiente CLI, você passa a ter a habilidade de utilizar qualquer sistema computacional, desde um PC com Linux, servidores, VMs, VSPs, clusters, nuvem, big data, server farms, super computadores ou até sistemas embarcados, distribuídos e IoT como [Raspberry Pi](https://www.raspberrypi.com):\n",
    "\n",
    "<img src=\"https://assets.raspberrypi.com/static/51035ec4c2f8f630b3d26c32e90c93f1/2b8d7/zero2-hero.webp\" width=\"400px\">"
   ]
  },
  {
   "cell_type": "markdown",
   "id": "b81ef65e",
   "metadata": {},
   "source": [
    "### Para saber mais:\n",
    "\n",
    "- Bash: https://books.goalkicker.com/BashBook/\n",
    "- Linux:  https://books.goalkicker.com/LinuxBook/\n",
    "- The Linux command line for beginners - https://ubuntu.com/tutorials/command-line-for-beginners\n",
    "- Documentação do Subsistema Windows para Linux - https://docs.microsoft.com/pt-br/windows/wsl/\n",
    "- UNIX/Linux Tutorial: https://www.tutorialspoint.com/unix/index.htm\n",
    "- UNIX/Linux Tutorial: https://www.guru99.com/unix-linux-tutorial.html"
   ]
  },
  {
   "cell_type": "markdown",
   "id": "2aba2fbe",
   "metadata": {},
   "source": [
    "### Observação\n",
    "\n",
    "É bastante comum encontrar pessoas de TI que não gostam do Linux e falam mau do Linux, que é complexo, etc... mas é bem commun também notar que estas pessas nunca testaram, usaram, estudaram ou até mesmo viram o sistema Linux!\n",
    "\n",
    "Isso ocorre porque grandes empresas utilizam de [FUD](https://en.wikipedia.org/wiki/Fear,_uncertainty,_and_doubt) (Fear, uncertainty, and doubt) para desqualificar outras tecnologias que são superiores ou concorrentes ameaçadores. Não há \"santo\" em tecnologia, há muita grana na mesa, e perder dinheiro para ferramentas gratuitas pode ser aterrorizante e irreversível!\n",
    "\n",
    "A estabilidade, segurança flexibilidade, leveza e simplicidade do sistema Linux é tão sofisticado que foi largamente adotada pelos developers e é a base dos sistemas em nuvem.\n",
    "\n",
    "<img src=\"https://i.redd.it/5po7h7rbulc01.jpg\" width=\"600px\">"
   ]
  }
 ],
 "metadata": {
  "kernelspec": {
   "display_name": "Python 3 (ipykernel)",
   "language": "python",
   "name": "python3"
  },
  "language_info": {
   "codemirror_mode": {
    "name": "ipython",
    "version": 3
   },
   "file_extension": ".py",
   "mimetype": "text/x-python",
   "name": "python",
   "nbconvert_exporter": "python",
   "pygments_lexer": "ipython3",
   "version": "3.9.12"
  }
 },
 "nbformat": 4,
 "nbformat_minor": 5
}
