{
 "cells": [
  {
   "cell_type": "markdown",
   "id": "2273e4f7",
   "metadata": {},
   "source": [
    "<img width=\"200\" style=\"float:right\" src=\"https://github.com/danielscarvalho/Insper-DS-Dicas/blob/master/Insper-Logo.png?raw=true\">"
   ]
  },
  {
   "cell_type": "markdown",
   "id": "716e28c1",
   "metadata": {},
   "source": [
    "# Computação para Ciências dos Dados\n",
    "\n",
    "<sub><a href=\"https://www.insper.edu.br/pos-graduacao/programas-avancados/programa-avancado-em-data-science-e-decisao/\">PÓS-\n",
    "GRADUAÇÃO EM DATA SCIENCE E DECISÃO</a></sub>\n",
    "\n",
    "## Dica do Dia: 019\n",
    "\n",
    "Linux, Bash e computação em nuvem (cloud):\n",
    "\n",
    "> At 90ths while in college and working at PwC as DBA, I did many official UNIX training for Solaris and Digital Unix. All this knowledge I am still using at daily basis with Linux and at the cloud!!"
   ]
  },
  {
   "cell_type": "markdown",
   "id": "47adf51d",
   "metadata": {},
   "source": [
    "Podemos notar que ao longo do tempo o sistema Linux foi amadurecendo e se tornou padrão de SO para os servidores plataforma Intel, o que dominou e proporcionou a computação em nuvem"
   ]
  },
  {
   "cell_type": "markdown",
   "id": "9ce1d7ab",
   "metadata": {},
   "source": [
    "<img src=\"img/Operating_systems_used_on_top_500_supercomputers.svg.png\" width=\"600px\">\n",
    "\n",
    "Fonte: https://en.wikipedia.org/wiki/Usage_share_of_operating_systems"
   ]
  },
  {
   "cell_type": "markdown",
   "id": "d30193d1",
   "metadata": {},
   "source": [
    "\n",
    "O sistema operacional UNIX/Linux tem uma arquitetura simples, o sistema de arquivos é organizado da seguinte forma:\n",
    "\n",
    "<img src=\"img/directory-filesystem-hierarchy-standard.jpg\" width=\"600px\">"
   ]
  },
  {
   "cell_type": "markdown",
   "id": "b3050fa1",
   "metadata": {},
   "source": [
    "O Linux também caiu na graça dos developers e cientistas de dados, que usam Mac (SO baseado no UNIX BSD) ou Linux. Desta forma a Microsoft a partir do Windows 10, criou o \"Windows Subsystem for Linux\", que permite utilizar o kernel do Linux em paralelo com o Windows..."
   ]
  },
  {
   "cell_type": "markdown",
   "id": "4ae630bd",
   "metadata": {},
   "source": [
    "### Bash style (no Linux, Unix e Mac)"
   ]
  },
  {
   "cell_type": "markdown",
   "id": "06c6c837",
   "metadata": {},
   "source": [
    "Na linha de comando do Linux, Unix ou Mac temos no bash uma quantidade enorme de comandos sofisticados que podemos usar em ciências dos dados. São os mesmos recursos que temos disponíveis nos servidores em nuvem (VPS - Linux).\n",
    "Note que com **!** no início de uma célula de código no Jupyter Notebook, podemos usar os comandos do sistema operacional e ver o resultado na célula de output.\n",
    "\n",
    "Podemos gerar números aleatórios, hashcodes, etc... com os comandos do Linux (Bash)"
   ]
  },
  {
   "cell_type": "markdown",
   "id": "7999094e",
   "metadata": {},
   "source": [
    "No Jupyter Notebook, na célula de código, podemos usar o caractere **!** no início de uma célula para executar comandos do sistema operacional, no caso Linux Ubuntu.\n",
    "\n",
    "Neste exemplo o comando **uname -a** mostra qual a versão do sistema em uso, versão do kernel, etc..."
   ]
  },
  {
   "cell_type": "code",
   "execution_count": 1,
   "id": "c7bf6843",
   "metadata": {
    "scrolled": false
   },
   "outputs": [
    {
     "name": "stdout",
     "output_type": "stream",
     "text": [
      "Linux acme-lab 5.15.0-41-generic #44~20.04.1-Ubuntu SMP Fri Jun 24 13:27:29 UTC 2022 x86_64 x86_64 x86_64 GNU/Linux\r\n"
     ]
    }
   ],
   "source": [
    "!uname -a"
   ]
  },
  {
   "cell_type": "markdown",
   "id": "b81ef65e",
   "metadata": {},
   "source": [
    "### Para saber mais:\n",
    "\n",
    "- Bash: https://books.goalkicker.com/BashBook/\n",
    "- Linux:  https://books.goalkicker.com/LinuxBook/\n",
    "- The Linux command line for beginners - https://ubuntu.com/tutorials/command-line-for-beginners\n",
    "- Documentação do Subsistema Windows para Linux - https://docs.microsoft.com/pt-br/windows/wsl/\n",
    "- UNIX/Linux Tutorial: https://www.tutorialspoint.com/unix/index.htm\n",
    "- UNIX/Linux Tutorial: https://www.guru99.com/unix-linux-tutorial.html"
   ]
  },
  {
   "cell_type": "markdown",
   "id": "78d2bd5f",
   "metadata": {},
   "source": [
    "### Observação\n",
    "\n",
    "É bastante comum encontrar pessoas de TI que não gostam do Linux e falam mau do Linux, que é complexo, etc... mas é bem commun também notar que estas pessas nunca testaram, usaram, estudaram ou viram o sistema Linux!\n",
    "\n",
    "Isso ocorre porque grandes empresas utilizam de [FUD](https://en.wikipedia.org/wiki/Fear,_uncertainty,_and_doubt) (Fear, uncertainty, and doubt) para desqualificar outras tecnologias que são superiores ou concorrentes ameaçadores. Não há \"santo\" em tecnologia, há muita grana na mesa, e perder dinheiro para ferramentas gratuitas pode ser aterrorizante e irreversível!\n",
    "\n",
    "A estabilidade, segurança flexibilidade, leveza e simplicidade do sistema Linux é tão sofisticado que foi largamente adotada pelos developers e é a base dos sistemas em nuvem.\n",
    "\n",
    "<img src=\"https://i.redd.it/5po7h7rbulc01.jpg\" width=\"600px\">"
   ]
  }
 ],
 "metadata": {
  "kernelspec": {
   "display_name": "Python 3 (ipykernel)",
   "language": "python",
   "name": "python3"
  },
  "language_info": {
   "codemirror_mode": {
    "name": "ipython",
    "version": 3
   },
   "file_extension": ".py",
   "mimetype": "text/x-python",
   "name": "python",
   "nbconvert_exporter": "python",
   "pygments_lexer": "ipython3",
   "version": "3.9.12"
  }
 },
 "nbformat": 4,
 "nbformat_minor": 5
}
