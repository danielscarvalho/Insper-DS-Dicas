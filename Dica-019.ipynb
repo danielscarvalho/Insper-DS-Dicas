{
 "cells": [
  {
   "cell_type": "markdown",
   "id": "2273e4f7",
   "metadata": {},
   "source": [
    "<img width=\"200\" style=\"float:right\" src=\"https://github.com/danielscarvalho/Insper-DS-Dicas/blob/master/Insper-Logo.png?raw=true\">"
   ]
  },
  {
   "cell_type": "markdown",
   "id": "716e28c1",
   "metadata": {},
   "source": [
    "# Computação para Ciências dos Dados\n",
    "\n",
    "<sub><a href=\"https://www.insper.edu.br/pos-graduacao/programas-avancados/programa-avancado-em-data-science-e-decisao/\">PÓS-\n",
    "GRADUAÇÃO EM DATA SCIENCE E DECISÃO</a></sub>\n",
    "\n",
    "## Dica do Dia: 019\n",
    "\n",
    "Linux, Bash e computação em nuvem (cloud):\n",
    "\n",
    "É importante para cientistas de dados conhecer o Linux e a linha de comando (CLI - Command Line Interface), pois os ambientes em nuvem onde realizamos o deploy de modelos, dashboards e WEB APIs usam Linux como base.\n",
    "\n",
    "Temos algumas opções para nosso ambiente Linux local:\n",
    "\n",
    "1. Instalar o Linux no desktop (eu já uso somente Linux a mais de 10 anos)\n",
    "2. Instalar o Oracle Virtual Box e criar uma máquina virtual (VM - Virtual Machine) com Linux (ou VMWare entre outros)\n",
    "3. Instalar o WSL (Windows Subsystem for Linux) no Windows<br>\n",
    "&nbsp;&nbsp;&nbsp;Veja como instalar o WSL: https://www.youtube.com/watch?v=wPmmWKfSVYo\n",
    "\n",
    "E instalar o Anaconda neste ambiente Linux local.\n",
    "\n",
    "Recomendo Ubuntu como distribuição Linux para cientistas de dados, developers, engenheiros e pessoal de negócios.\n",
    "\n",
    "O ambiente Linux local temos o ambiente gráfico (GUI), exceto para WSL. E no ambiente em nuvem (VPS) remoto temos o ambiente em linha de comando (CLI) que podemos acessar via **ssh** de forma criptografada passando o nome do usuário e o IP do servidor remoto.\n",
    "\n",
    "<pre>\n",
    "ssh mary@192.168.1.22\n",
    "</pre>\n",
    "\n",
    "Podemos fazer o desenvolvimento e todo o projeto no ambiente local com Linux e depois fazer o deploy em produção na nuvem (VM - VPS - Virtual Private Server).\n",
    "\n",
    "> At 90th while in college and working at PwC as DBA, I did many official UNIX training for Solaris and Digital Unix. I still use all this knowledge daily with Linux and in the cloud!!\n",
    "\n",
    "Para aprender a linha de comando do Linux (o Bash) pense em long prazo, não é necessário \"decorar\" comandos porque há material online de qualidade disponível aos montes!! E diversos scripts prontos para as mais diversas atividades. Muitos robôs (software robots) são feitos no Linux.\n",
    "\n",
    "Leia um livro sobre Linux, ou faça um tutorial (veja abaixo nas referências), e depois \"mãos à obra\"! :-)"
   ]
  },
  {
   "cell_type": "markdown",
   "id": "6a8b19fc",
   "metadata": {},
   "source": [
    "Nos anos 90 os fabricantes de servidores RISC mantinham suas próprias versões de sistema opearcional UNIX.\n",
    "Podemos notar que ao longo do tempo o sistema Linux foi amadurecendo e se tornou padrão de SO para os servidores plataforma Intel, o que dominou o mercado e proporcionou a computação em nuvem, com custo baixo e com a mesma qualidade dos sistemas UNIX."
   ]
  },
  {
   "cell_type": "markdown",
   "id": "203dc1ed",
   "metadata": {},
   "source": [
    "<img src=\"img/Operating_systems_used_on_top_500_supercomputers.svg.png\" width=\"600px\">\n",
    "\n",
    "Fonte: https://en.wikipedia.org/wiki/Usage_share_of_operating_systems"
   ]
  },
  {
   "cell_type": "markdown",
   "id": "f11bc785",
   "metadata": {},
   "source": [
    "\n",
    "O sistema operacional UNIX/Linux tem uma arquitetura simples, o sistema de arquivos é organizado da seguinte forma:\n",
    "\n",
    "<img src=\"img/directory-filesystem-hierarchy-standard.jpg\" width=\"600px\">"
   ]
  },
  {
   "cell_type": "markdown",
   "id": "8b3548d5",
   "metadata": {},
   "source": [
    "O Linux também caiu na graça dos developers e cientistas de dados, que usam Mac (SO baseado no UNIX BSD) ou Linux. Desta forma a Microsoft a partir do Windows 10, criou o \"Windows Subsystem for Linux\", que permite utilizar o kernel do Linux em paralelo com o Windows..."
   ]
  },
  {
   "cell_type": "markdown",
   "id": "4ae630bd",
   "metadata": {},
   "source": [
    "### Bash no Linux, Unix e Mac"
   ]
  },
  {
   "cell_type": "markdown",
   "id": "06c6c837",
   "metadata": {},
   "source": [
    "Na linha de comando do Linux, Unix ou Mac temos no Bash e uma quantidade enorme de comandos sofisticados que podemos usar em ciências dos dados. São os mesmos recursos que temos disponíveis nos servidores em nuvem (VPS - Linux)."
   ]
  },
  {
   "cell_type": "markdown",
   "id": "a27f1939",
   "metadata": {},
   "source": [
    "No Jupyter Notebook, na célula de código, podemos usar o caractere **!** no início de uma célula para executar comandos do sistema operacional, no caso Linux Ubuntu.\n",
    "\n",
    "Neste exemplo o comando **uname -a** mostra qual a versão do sistema em uso, versão do kernel, etc..."
   ]
  },
  {
   "cell_type": "code",
   "execution_count": 1,
   "id": "27f643ff",
   "metadata": {
    "scrolled": true
   },
   "outputs": [
    {
     "name": "stdout",
     "output_type": "stream",
     "text": [
      "Linux acme-lab 5.15.0-41-generic #44~20.04.1-Ubuntu SMP Fri Jun 24 13:27:29 UTC 2022 x86_64 x86_64 x86_64 GNU/Linux\r\n"
     ]
    }
   ],
   "source": [
    "!uname -a"
   ]
  },
  {
   "cell_type": "markdown",
   "id": "b81ef65e",
   "metadata": {},
   "source": [
    "### Para saber mais:\n",
    "\n",
    "- Bash: https://books.goalkicker.com/BashBook/\n",
    "- Linux:  https://books.goalkicker.com/LinuxBook/\n",
    "- The Linux command line for beginners - https://ubuntu.com/tutorials/command-line-for-beginners\n",
    "- Documentação do Subsistema Windows para Linux - https://docs.microsoft.com/pt-br/windows/wsl/\n",
    "- UNIX/Linux Tutorial: https://www.tutorialspoint.com/unix/index.htm\n",
    "- UNIX/Linux Tutorial: https://www.guru99.com/unix-linux-tutorial.html"
   ]
  },
  {
   "cell_type": "markdown",
   "id": "0133cc32",
   "metadata": {},
   "source": [
    "### Observação\n",
    "\n",
    "É bastante comum encontrar pessoas de TI que não gostam do Linux e falam mau do Linux, que é complexo, etc... mas é bem commun também notar que estas pessas nunca testaram, usaram, estudaram ou até mesmo viram o sistema Linux!\n",
    "\n",
    "Isso ocorre porque grandes empresas utilizam de [FUD](https://en.wikipedia.org/wiki/Fear,_uncertainty,_and_doubt) (Fear, uncertainty, and doubt) para desqualificar outras tecnologias que são superiores ou concorrentes ameaçadores. Não há \"santo\" em tecnologia, há muita grana na mesa, e perder dinheiro para ferramentas gratuitas pode ser aterrorizante e irreversível!\n",
    "\n",
    "A estabilidade, segurança flexibilidade, leveza e simplicidade do sistema Linux é tão sofisticado que foi largamente adotada pelos developers e é a base dos sistemas em nuvem.\n",
    "\n",
    "<img src=\"https://i.redd.it/5po7h7rbulc01.jpg\" width=\"600px\">"
   ]
  }
 ],
 "metadata": {
  "kernelspec": {
   "display_name": "Python 3 (ipykernel)",
   "language": "python",
   "name": "python3"
  },
  "language_info": {
   "codemirror_mode": {
    "name": "ipython",
    "version": 3
   },
   "file_extension": ".py",
   "mimetype": "text/x-python",
   "name": "python",
   "nbconvert_exporter": "python",
   "pygments_lexer": "ipython3",
   "version": "3.9.12"
  }
 },
 "nbformat": 4,
 "nbformat_minor": 5
}
