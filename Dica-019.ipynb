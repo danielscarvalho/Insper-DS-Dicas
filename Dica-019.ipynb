{
 "cells": [
  {
   "cell_type": "markdown",
   "id": "2273e4f7",
   "metadata": {},
   "source": [
    "<img width=\"200\" style=\"float:right\" src=\"https://github.com/danielscarvalho/Insper-DS-Dicas/blob/master/Insper-Logo.png?raw=true\">"
   ]
  },
  {
   "cell_type": "markdown",
   "id": "716e28c1",
   "metadata": {},
   "source": [
    "# Computação para Ciências dos Dados\n",
    "\n",
    "<sub><a href=\"https://www.insper.edu.br/pos-graduacao/programas-avancados/programa-avancado-em-data-science-e-decisao/\">PÓS-\n",
    "GRADUAÇÃO EM DATA SCIENCE E DECISÃO</a></sub>\n",
    "\n",
    "## Dica do Dia: 019 ☁️ 🐧\n",
    "\n",
    "Linux, [Bash](https://www.gnu.org/software/bash/) (shell 🐚) e computação em nuvem (cloud).\n",
    "\n",
    "É importante para cientistas de dados conhecer o Linux e a linha de comando (CLI - Command Line Interface), pois os ambientes em nuvem onde realizamos o deploy de modelos, dashboards e WEB APIs usam Linux como base.\n",
    "\n",
    "Na linha de comando temos total controle da máquina e acesso a recursos avançados dos sitema.\n",
    "\n",
    "O Linux consiste no Kernel do sistema operacional. Para acessar o kernel utilizamos o shell (Linha de comando) sendo Bash o shell mais popular atualmente. Além do shell há ambientes gráficos como o Kde e o Gnome, e aplicações gráficas como o browser, navegador de arquivos, IDEs como Spyder e Eclipse, LibreOffice, editor de imagens, vídeos e música, etc... que são utilizadas no desktop, ambiente usuário. No servidor utilizamos a linha de comando.\n",
    "\n",
    "<img src=\"https://flylib.com/books/3/224/1/html/2/images/0201433079/graphics/01fig01.gif\">\n",
    "\n",
    "Fonte: [Advanced Programming in the UNIX Environment, 2ed - Addison-Wesley Professional Computing Series](https://flylib.com/books/en/3.224.1.22/1/)\n",
    "\n",
    "Temos algumas opções para nosso ambiente Linux local:\n",
    "\n",
    "1. Instalar o Linux no desktop (uso somente Linux a mais de 10 anos)\n",
    "2. Instalar o Oracle Virtual Box e criar uma máquina virtual (VM - Virtual Machine) com Linux (ou VMWare entre outros)\n",
    "3. Instalar o WSL (Windows Subsystem for Linux) no Windows<br>\n",
    "&nbsp;&nbsp;&nbsp;Veja como instalar o WSL: https://www.youtube.com/watch?v=wPmmWKfSVYo\n",
    "\n",
    "E instalar o Anaconda neste ambiente Linux local.\n",
    "\n",
    "Recomendo [Ubuntu](https://ubuntu.com/) como distribuição Linux para cientistas de dados, developers, engenheiros e pessoal de negócios, e iniciantes no geral.\n",
    "\n",
    "O ambiente Linux local temos o ambiente gráfico (GUI), exceto para WSL. E no ambiente em nuvem (VPS) remoto temos o ambiente em linha de comando (CLI) que podemos acessar via **ssh** de forma criptografada passando o nome do usuário e o IP do servidor remoto.\n",
    "\n",
    "<pre>\n",
    "ssh mary@192.168.1.22\n",
    "</pre>\n",
    "\n",
    "Podemos fazer o desenvolvimento e todo o projeto no ambiente local com Linux e depois fazer o deploy em produção na nuvem (VM - VPS - Virtual Private Server).\n",
    "\n",
    "> At 90th while in college and working at PwC as DBA, I did many official UNIX training for Solaris and Digital Unix. I still use all this knowledge daily with Linux and in the cloud!!\n",
    "\n",
    "Para aprender a linha de comando do Linux (o Bash) pense em long prazo, não é necessário \"decorar\" comandos porque há material online de qualidade disponível aos montes!! E diversos scripts prontos para as mais diversas atividades. Muitos robôs (software robots) são feitos no Linux.\n",
    "\n",
    "Leia um livro sobre Linux, ou faça um tutorial (veja abaixo nas referências), e depois \"mãos à obra\"! :-)"
   ]
  },
  {
   "cell_type": "markdown",
   "id": "8ad41103",
   "metadata": {},
   "source": [
    "Nos anos 90 os fabricantes de servidores RISC mantinham suas próprias versões de sistema opearcional UNIX.\n",
    "Podemos notar que ao longo do tempo o sistema Linux foi amadurecendo e se tornou padrão de SO para os servidores plataforma Intel/AMD, o que dominou o mercado e proporcionou a computação em nuvem, com custo baixo e com a mesma qualidade dos sistemas UNIX."
   ]
  },
  {
   "cell_type": "markdown",
   "id": "8ef4d560",
   "metadata": {},
   "source": [
    "<img src=\"img/Operating_systems_used_on_top_500_supercomputers.svg.png\" width=\"600px\">\n",
    "\n",
    "Fonte: https://en.wikipedia.org/wiki/Usage_share_of_operating_systems"
   ]
  },
  {
   "cell_type": "markdown",
   "id": "ee36f609",
   "metadata": {},
   "source": [
    "\n",
    "O sistema operacional UNIX/Linux tem uma arquitetura simples, o sistema de arquivos é organizado da seguinte forma:\n",
    "\n",
    "<img src=\"img/directory-filesystem-hierarchy-standard.jpg\" width=\"600px\">"
   ]
  },
  {
   "cell_type": "markdown",
   "id": "4ec58702",
   "metadata": {},
   "source": [
    "O Linux também _caiu na graça_ dos developers e cientistas de dados, que usam Mac (SO baseado no UNIX BSD) ou Linux. Desta forma a Microsoft a partir do Windows 10, criou o \"Windows Subsystem for Linux\", que permite utilizar o kernel do Linux em paralelo com o Windows..."
   ]
  },
  {
   "cell_type": "markdown",
   "id": "4ae630bd",
   "metadata": {},
   "source": [
    "### Bash no Linux, Unix e Mac"
   ]
  },
  {
   "cell_type": "markdown",
   "id": "06c6c837",
   "metadata": {},
   "source": [
    "Na linha de comando do Linux, Unix ou Mac temos no Bash e uma quantidade enorme de comandos sofisticados que podemos usar em ciências dos dados. São os mesmos recursos que temos disponíveis nos servidores em nuvem (VPS - Linux).\n",
    "\n",
    "O Bash também é uma linguagem de programação, e podemos criar arquivos texto **.sh** com sequencias de comandos e automatizar processo facilmente. (Programa em lote, batch)"
   ]
  },
  {
   "cell_type": "markdown",
   "id": "a70ef71c",
   "metadata": {},
   "source": [
    "No Jupyter Notebook, na célula de código, podemos usar o caractere **!** no início de uma célula para executar comandos do sistema operacional, no caso Linux Ubuntu.\n",
    "\n",
    "Neste exemplo o comando **uname -a** mostra qual a versão do sistema em uso, versão do kernel, etc..."
   ]
  },
  {
   "cell_type": "code",
   "execution_count": 1,
   "id": "399aab0f",
   "metadata": {
    "scrolled": true
   },
   "outputs": [
    {
     "name": "stdout",
     "output_type": "stream",
     "text": [
      "Linux acme-lab 5.15.0-41-generic #44~20.04.1-Ubuntu SMP Fri Jun 24 13:27:29 UTC 2022 x86_64 x86_64 x86_64 GNU/Linux\r\n"
     ]
    }
   ],
   "source": [
    "!uname -a"
   ]
  },
  {
   "cell_type": "markdown",
   "id": "cf68b860",
   "metadata": {},
   "source": [
    "Podemos ver quanto tempo o Linux está no ar, quantos usuários conectados e o tempo de carga de aplicações..."
   ]
  },
  {
   "cell_type": "code",
   "execution_count": 35,
   "id": "0fb43196",
   "metadata": {},
   "outputs": [
    {
     "name": "stdout",
     "output_type": "stream",
     "text": [
      " 20:30:19 up 11:22,  1 user,  load average: 1,85, 1,67, 1,93\r\n"
     ]
    }
   ],
   "source": [
    "!uptime"
   ]
  },
  {
   "cell_type": "markdown",
   "id": "bc870ef3",
   "metadata": {},
   "source": [
    "A grosso modo, o ideal do \"load average\" é até 1, até 2 o sistema pode ficar lengo, de 3 para cima está levando muito tempo para carregar os programas no processador, pode haver lentidão no sistema."
   ]
  },
  {
   "cell_type": "markdown",
   "id": "b8bf5d54",
   "metadata": {},
   "source": [
    "Podemos criar um arquivo vazio"
   ]
  },
  {
   "cell_type": "code",
   "execution_count": 3,
   "id": "f79e5dc3",
   "metadata": {},
   "outputs": [],
   "source": [
    "!touch info.txt"
   ]
  },
  {
   "cell_type": "code",
   "execution_count": 4,
   "id": "a1da2452",
   "metadata": {},
   "outputs": [
    {
     "name": "stdout",
     "output_type": "stream",
     "text": [
      "-rw-rw-r-- 1 fito fito 40 jul 25 14:45 info.txt\r\n"
     ]
    }
   ],
   "source": [
    "!ls -l info.txt"
   ]
  },
  {
   "cell_type": "markdown",
   "id": "84a5dd9b",
   "metadata": {},
   "source": [
    "Podemos criar um arquivo já com texto dentro, usando > para direcionar a saída do comando **echo** entre outros"
   ]
  },
  {
   "cell_type": "code",
   "execution_count": 5,
   "id": "83084f21",
   "metadata": {},
   "outputs": [],
   "source": [
    "!echo \"Vai Corinthians\" > core.txt"
   ]
  },
  {
   "cell_type": "markdown",
   "id": "4343bfc8",
   "metadata": {},
   "source": [
    "Podemos lisar os arquivos do diretório atual"
   ]
  },
  {
   "cell_type": "code",
   "execution_count": 6,
   "id": "60b48ba9",
   "metadata": {
    "scrolled": false
   },
   "outputs": [
    {
     "name": "stdout",
     "output_type": "stream",
     "text": [
      "-rw-rw-r-- 1 fito fito 16 jul 25 14:45 core.txt\r\n",
      "-rw-rw-r-- 1 fito fito 40 jul 25 14:45 info.txt\r\n"
     ]
    }
   ],
   "source": [
    "!ls -l *.txt"
   ]
  },
  {
   "attachments": {},
   "cell_type": "markdown",
   "id": "2b967690",
   "metadata": {},
   "source": [
    "O Linux herdou a segurança do sistema UNIX. Os arquivos e diretórios tem um dono, um grupo e seus devidos níveis de acessos:\n",
    "\n",
    "<pre>\n",
    "r - read\n",
    "w - write\n",
    "x - execute\n",
    "</pre>\n",
    "\n",
    "<img src=\"https://vk9-sec.com/wp-content/uploads/2020/03/the-4-directory-permissions-in-linux.jpeg\" width=\"500px\">"
   ]
  },
  {
   "cell_type": "markdown",
   "id": "73ab9c78",
   "metadata": {},
   "source": [
    "Visualizar o conteúdo do arquivo"
   ]
  },
  {
   "cell_type": "code",
   "execution_count": 7,
   "id": "0e84a2b7",
   "metadata": {
    "scrolled": true
   },
   "outputs": [
    {
     "name": "stdout",
     "output_type": "stream",
     "text": [
      "Vai Corinthians\r\n"
     ]
    }
   ],
   "source": [
    "!cat core.txt"
   ]
  },
  {
   "cell_type": "markdown",
   "id": "ca4999ac",
   "metadata": {},
   "source": [
    "Informações sobre o arquivo texto com o comando **wc** (Word Count), linhas, palavras, caracters e o nome do arquivo."
   ]
  },
  {
   "cell_type": "code",
   "execution_count": 33,
   "id": "31d10e59",
   "metadata": {},
   "outputs": [
    {
     "name": "stdout",
     "output_type": "stream",
     "text": [
      " 1  2 16 core.txt\r\n"
     ]
    }
   ],
   "source": [
    "!wc core.txt"
   ]
  },
  {
   "cell_type": "markdown",
   "id": "24bfea19",
   "metadata": {},
   "source": [
    "Listar o conteúdo do arquivo"
   ]
  },
  {
   "cell_type": "code",
   "execution_count": 10,
   "id": "dbcd01f1",
   "metadata": {},
   "outputs": [
    {
     "name": "stdout",
     "output_type": "stream",
     "text": [
      "core.txt: ASCII text\r\n"
     ]
    }
   ],
   "source": [
    "!file core.txt"
   ]
  },
  {
   "cell_type": "markdown",
   "id": "db8c6063",
   "metadata": {},
   "source": [
    "Conferir a pasta/diretório atual"
   ]
  },
  {
   "cell_type": "code",
   "execution_count": 11,
   "id": "834b41aa",
   "metadata": {
    "scrolled": false
   },
   "outputs": [
    {
     "name": "stdout",
     "output_type": "stream",
     "text": [
      "/work/Insper/Insper-DS-Dicas\r\n"
     ]
    }
   ],
   "source": [
    "!pwd"
   ]
  },
  {
   "cell_type": "markdown",
   "id": "4deaf008",
   "metadata": {},
   "source": [
    "Verificar a memória em uso"
   ]
  },
  {
   "cell_type": "code",
   "execution_count": 13,
   "id": "ae48b8dd",
   "metadata": {},
   "outputs": [
    {
     "name": "stdout",
     "output_type": "stream",
     "text": [
      "              total        used        free      shared  buff/cache   available\r\n",
      "Mem:          24039        4791        4457         163       14790       18709\r\n",
      "Swap:         30516           0       30516\r\n"
     ]
    }
   ],
   "source": [
    "!free -m"
   ]
  },
  {
   "cell_type": "markdown",
   "id": "46bb353b",
   "metadata": {},
   "source": [
    "Listar os arquivos nas pasta de log do SO, redirecionar a saída com pipe **|** para outro programa, o tail que mostra só as últimas linhas"
   ]
  },
  {
   "cell_type": "code",
   "execution_count": 18,
   "id": "8344797b",
   "metadata": {},
   "outputs": [
    {
     "name": "stdout",
     "output_type": "stream",
     "text": [
      "ls: cannot open directory '/var/log/gdm3': Permission denied\r\n",
      "ls: cannot open directory '/var/log/private': Permission denied\r\n",
      "ls: cannot open directory '/var/log/speech-dispatcher': Permission denied\r\n",
      "unattended-upgrades-dpkg.log.6.gz\r\n",
      "unattended-upgrades.log\r\n",
      "unattended-upgrades.log.1.gz\r\n",
      "unattended-upgrades.log.2.gz\r\n",
      "unattended-upgrades.log.3.gz\r\n",
      "unattended-upgrades.log.4.gz\r\n",
      "unattended-upgrades.log.5.gz\r\n",
      "unattended-upgrades.log.6.gz\r\n",
      "unattended-upgrades-shutdown.log\r\n",
      "unattended-upgrades-shutdown.log.1.gz\r\n"
     ]
    }
   ],
   "source": [
    "!ls /var/log/* | tail"
   ]
  },
  {
   "cell_type": "markdown",
   "id": "dc04df3f",
   "metadata": {},
   "source": [
    "Instalar novos comandos usando o repositório do Linux na Internet\n",
    "\n",
    "Neste caso é melhor execuar os comandos fora do Jupyter Notebook, direto no Bash, porque vai ser solicitada senha...\n",
    "\n",
    "<pre>\n",
    "sudo apt install git\n",
    "sudo apt install curl\n",
    "sudo apt install wget\n",
    "</pre>"
   ]
  },
  {
   "cell_type": "markdown",
   "id": "a33673b3",
   "metadata": {},
   "source": [
    "Usar o git..."
   ]
  },
  {
   "cell_type": "code",
   "execution_count": 19,
   "id": "292895b9",
   "metadata": {
    "scrolled": true
   },
   "outputs": [
    {
     "name": "stdout",
     "output_type": "stream",
     "text": [
      "git version 2.25.1\r\n"
     ]
    }
   ],
   "source": [
    "!git --version"
   ]
  },
  {
   "cell_type": "code",
   "execution_count": 34,
   "id": "42a5b042",
   "metadata": {},
   "outputs": [
    {
     "name": "stdout",
     "output_type": "stream",
     "text": [
      "On branch master\r\n",
      "Your branch is up to date with 'origin/master'.\r\n",
      "\r\n",
      "Changes not staged for commit:\r\n",
      "  (use \"git add <file>...\" to update what will be committed)\r\n",
      "  (use \"git restore <file>...\" to discard changes in working directory)\r\n",
      "\t\u001b[31mmodified:   Dica-019.ipynb\u001b[m\r\n",
      "\r\n",
      "Untracked files:\r\n",
      "  (use \"git add <file>...\" to include in what will be committed)\r\n",
      "\t\u001b[31m.ipynb_checkpoints/\u001b[m\r\n",
      "\r\n",
      "no changes added to commit (use \"git add\" and/or \"git commit -a\")\r\n"
     ]
    }
   ],
   "source": [
    "!git status"
   ]
  },
  {
   "cell_type": "markdown",
   "id": "280b93a0",
   "metadata": {},
   "source": [
    "Obter dados de uma WEB API com o **curl**"
   ]
  },
  {
   "cell_type": "code",
   "execution_count": 20,
   "id": "acf27029",
   "metadata": {
    "scrolled": false
   },
   "outputs": [
    {
     "name": "stdout",
     "output_type": "stream",
     "text": [
      "{\"ticker\": {\"high\":\"126871.09910008\",\"low\":\"117000.00000000\",\"vol\":\"42.31144249\",\"last\":\"117000.07994000\",\"buy\":\"117000.07\",\"sell\":\"117000.08\",\"open\":\"125359.47000000\",\"date\":1658777425}}"
     ]
    }
   ],
   "source": [
    "!curl https://www.mercadobitcoin.net/api/BTC/ticker/"
   ]
  },
  {
   "cell_type": "markdown",
   "id": "99bc2719",
   "metadata": {},
   "source": [
    "Novamente mas agora salvado os dados em um arquivo..."
   ]
  },
  {
   "cell_type": "code",
   "execution_count": 22,
   "id": "c6ada17c",
   "metadata": {
    "scrolled": true
   },
   "outputs": [
    {
     "name": "stdout",
     "output_type": "stream",
     "text": [
      "  % Total    % Received % Xferd  Average Speed   Time    Time     Time  Current\n",
      "                                 Dload  Upload   Total   Spent    Left  Speed\n",
      "100   193    0   193    0     0    400      0 --:--:-- --:--:-- --:--:--   400\n"
     ]
    }
   ],
   "source": [
    "!curl https://www.mercadobitcoin.net/api/BTC/ticker/ > btc-ticker.json"
   ]
  },
  {
   "cell_type": "code",
   "execution_count": 23,
   "id": "af5ad00c",
   "metadata": {},
   "outputs": [
    {
     "name": "stdout",
     "output_type": "stream",
     "text": [
      "btc-ticker.json\r\n"
     ]
    }
   ],
   "source": [
    "!ls *.json"
   ]
  },
  {
   "cell_type": "code",
   "execution_count": 24,
   "id": "26cce6dd",
   "metadata": {},
   "outputs": [
    {
     "name": "stdout",
     "output_type": "stream",
     "text": [
      "{\"ticker\": {\"high\":\"126871.09910008\",\"low\":\"117000.00000000\",\"vol\":\"42.55214352\",\"last\":\"117067.75000000\",\"buy\":\"117000.07\",\"sell\":\"117104.70788999\",\"open\":\"125359.47000000\",\"date\":1658777465}}"
     ]
    }
   ],
   "source": [
    "!cat btc-ticker.json"
   ]
  },
  {
   "cell_type": "markdown",
   "id": "867edaa7",
   "metadata": {},
   "source": [
    "Fazer download de arquivos com **wget**"
   ]
  },
  {
   "cell_type": "code",
   "execution_count": 26,
   "id": "676d5f09",
   "metadata": {
    "scrolled": true
   },
   "outputs": [
    {
     "name": "stdout",
     "output_type": "stream",
     "text": [
      "--2022-07-25 16:34:03--  https://stats.govt.nz/assets/Uploads/Business-employment-data/Business-employment-data-March-2022-quarter/Download-data/business-employment-data-march-2022-quarter-csv.zip\n",
      "Resolvendo stats.govt.nz (stats.govt.nz)... 45.60.11.104, 45.60.15.104\n",
      "Conectando-se a stats.govt.nz (stats.govt.nz)|45.60.11.104|:443... conectado.\n",
      "A requisição HTTP foi enviada, aguardando resposta... 200 OK\n",
      "Tamanho: 155265 (152K) [application/zip]\n",
      "Salvando em: “business-employment-data-march-2022-quarter-csv.zip”\n",
      "\n",
      "business-employment 100%[===================>] 151,63K   343KB/s    em 0,4s    \n",
      "\n",
      "2022-07-25 16:34:06 (343 KB/s) - “business-employment-data-march-2022-quarter-csv.zip” salvo [155265/155265]\n",
      "\n"
     ]
    }
   ],
   "source": [
    "!wget https://stats.govt.nz/assets/Uploads/Business-employment-data/Business-employment-data-March-2022-quarter/Download-data/business-employment-data-march-2022-quarter-csv.zip"
   ]
  },
  {
   "cell_type": "markdown",
   "id": "17ec349f",
   "metadata": {},
   "source": [
    "Ver os arquivos .zip"
   ]
  },
  {
   "cell_type": "code",
   "execution_count": 28,
   "id": "05750b82",
   "metadata": {
    "scrolled": true
   },
   "outputs": [
    {
     "name": "stdout",
     "output_type": "stream",
     "text": [
      "business-employment-data-march-2022-quarter-csv.zip\r\n"
     ]
    }
   ],
   "source": [
    "!ls *.zip"
   ]
  },
  {
   "cell_type": "markdown",
   "id": "611d3d3d",
   "metadata": {},
   "source": [
    "Descompactar o arquivo zip"
   ]
  },
  {
   "cell_type": "code",
   "execution_count": 29,
   "id": "3b42bb3d",
   "metadata": {},
   "outputs": [
    {
     "name": "stdout",
     "output_type": "stream",
     "text": [
      "Archive:  business-employment-data-march-2022-quarter-csv.zip\r\n",
      "  inflating: machine-readable-business-employment-data-mar-2022-quarter.csv  \r\n"
     ]
    }
   ],
   "source": [
    "!unzip business*.zip"
   ]
  },
  {
   "cell_type": "markdown",
   "id": "66bb8daa",
   "metadata": {},
   "source": [
    "Listar os arquivos .csv"
   ]
  },
  {
   "cell_type": "code",
   "execution_count": 30,
   "id": "3f39a96c",
   "metadata": {
    "scrolled": false
   },
   "outputs": [
    {
     "name": "stdout",
     "output_type": "stream",
     "text": [
      "machine-readable-business-employment-data-mar-2022-quarter.csv\tyfd.csv\r\n"
     ]
    }
   ],
   "source": [
    "!ls *.csv"
   ]
  },
  {
   "cell_type": "markdown",
   "id": "633f39ed",
   "metadata": {},
   "source": [
    "Espiar o arquivo CSV com **head**"
   ]
  },
  {
   "cell_type": "code",
   "execution_count": 31,
   "id": "91368ed8",
   "metadata": {},
   "outputs": [
    {
     "name": "stdout",
     "output_type": "stream",
     "text": [
      "Series_reference,Period,Data_value,Suppressed,STATUS,UNITS,Magnitude,Subject,Group,Series_title_1,Series_title_2,Series_title_3,Series_title_4,Series_title_5\r",
      "\r\n",
      "BDCQ.SEA1AA,2011.06,80078,,R,Number,0,Business Data Collection - BDC,Industry by employment variable,Filled jobs,\"Agriculture, Forestry and Fishing\",Actual,,\r",
      "\r\n",
      "BDCQ.SEA1AA,2011.09,78324,,R,Number,0,Business Data Collection - BDC,Industry by employment variable,Filled jobs,\"Agriculture, Forestry and Fishing\",Actual,,\r",
      "\r\n",
      "BDCQ.SEA1AA,2011.12,85850,,R,Number,0,Business Data Collection - BDC,Industry by employment variable,Filled jobs,\"Agriculture, Forestry and Fishing\",Actual,,\r",
      "\r\n",
      "BDCQ.SEA1AA,2012.03,90743,,R,Number,0,Business Data Collection - BDC,Industry by employment variable,Filled jobs,\"Agriculture, Forestry and Fishing\",Actual,,\r",
      "\r\n",
      "BDCQ.SEA1AA,2012.06,81780,,R,Number,0,Business Data Collection - BDC,Industry by employment variable,Filled jobs,\"Agriculture, Forestry and Fishing\",Actual,,\r",
      "\r\n",
      "BDCQ.SEA1AA,2012.09,79261,,R,Number,0,Business Data Collection - BDC,Industry by employment variable,Filled jobs,\"Agriculture, Forestry and Fishing\",Actual,,\r",
      "\r\n",
      "BDCQ.SEA1AA,2012.12,87793,,R,Number,0,Business Data Collection - BDC,Industry by employment variable,Filled jobs,\"Agriculture, Forestry and Fishing\",Actual,,\r",
      "\r\n",
      "BDCQ.SEA1AA,2013.03,91571,,R,Number,0,Business Data Collection - BDC,Industry by employment variable,Filled jobs,\"Agriculture, Forestry and Fishing\",Actual,,\r",
      "\r\n",
      "BDCQ.SEA1AA,2013.06,81687,,R,Number,0,Business Data Collection - BDC,Industry by employment variable,Filled jobs,\"Agriculture, Forestry and Fishing\",Actual,,\r",
      "\r\n"
     ]
    }
   ],
   "source": [
    "!head machine-readable-business-employment-data-mar-2022-quarter.csv"
   ]
  },
  {
   "cell_type": "markdown",
   "id": "78f568b4",
   "metadata": {},
   "source": [
    "> O separador de diretórios (pastas) do Linux, Mac, Android, WEB e UNIX é o **/** (barra - slash) e no Windows é **\\\\** (barra invertida - backslash). Isso é sempre fonte de confusão."
   ]
  },
  {
   "cell_type": "markdown",
   "id": "6a558eca",
   "metadata": {},
   "source": [
    "Os servidores Linux podem ser customizados e configurados para fornecer diferentes serviços na rede local ou na Internet, tal como: e-mail, WEB Server, APP Server, WEB APIs, file server, firewall, dhcp, dns, router, proxy, vpn, banco de dados, etc...\n",
    "\n",
    "~80% dos serviços na Internet usa Linux no servidor: https://w3techs.com/, https://phoenixnap.com/kb/server-operating-system"
   ]
  },
  {
   "cell_type": "markdown",
   "id": "bfa3c5fd",
   "metadata": {},
   "source": [
    "> Outra fonte de confusão, os arquivos texto no Linux, Mac e UNIX a quebra de linha é obtida com LF (\\n) e o Windows utiliza dois caracteres LF+CR (\\r\\n)"
   ]
  },
  {
   "cell_type": "markdown",
   "id": "30e0fb63",
   "metadata": {},
   "source": [
    "Entendendo o Bash e o ambiente CLI, você passa a ter a habilidade de utilizar qualquer sistema computacional, desde um PC com Linux, UNIX, Mac, servidores, VMs, VSPs, clusters, nuvem, big data, server farms, super computadores ou até sistemas embarcados, distribuídos e IoT como [Raspberry Pi](https://www.raspberrypi.com):\n",
    "\n",
    "<img src=\"https://assets.raspberrypi.com/static/51035ec4c2f8f630b3d26c32e90c93f1/2b8d7/zero2-hero.webp\" width=\"400px\">"
   ]
  },
  {
   "cell_type": "markdown",
   "id": "7c193ea3",
   "metadata": {},
   "source": [
    "Manter uma máquina Linux na Internet é bem útil para publicar suas WEB APIs, dashboards e robôs. Há opções de baixo custo:\n",
    "    \n",
    "- [12 Best Cheap Linux VPS Hosting Providers (2022)](https://moneymint.com/best-cheap-linux-vps-hosting-providers/)\n",
    "- [Top 15 Cheap Linux VPS Plans (2022)](https://www.hostingadvice.com/how-to/cheap-linux-vps/)"
   ]
  },
  {
   "cell_type": "markdown",
   "id": "b81ef65e",
   "metadata": {},
   "source": [
    "### Para saber mais:\n",
    "\n",
    "- Bash: https://books.goalkicker.com/BashBook/\n",
    "- Linux:  https://books.goalkicker.com/LinuxBook/\n",
    "- The Linux command line for beginners - https://ubuntu.com/tutorials/command-line-for-beginners\n",
    "- Documentação do Subsistema Windows para Linux - https://docs.microsoft.com/pt-br/windows/wsl/\n",
    "- UNIX/Linux Tutorial: https://www.tutorialspoint.com/unix/index.htm\n",
    "- UNIX/Linux Tutorial: https://www.guru99.com/unix-linux-tutorial.html"
   ]
  },
  {
   "cell_type": "markdown",
   "id": "ab781909",
   "metadata": {},
   "source": [
    "### Observação\n",
    "\n",
    "É bastante comum encontrar pessoas de TI que não gostam do Linux e falam mau do Linux, que é complexo, etc... mas é bem commun também notar que muitos nunca testaram, usaram, estudaram ou até mesmo viram o sistema Linux!\n",
    "\n",
    "Isso ocorre porque grandes empresas utilizam de [FUD](https://en.wikipedia.org/wiki/Fear,_uncertainty,_and_doubt) (Fear, uncertainty, and doubt) para desqualificar outras tecnologias que são superiores ou concorrentes ameaçadores. Não há \"santo\" em tecnologia, há muita grana na mesa, e perder dinheiro para ferramentas gratuitas pode ser aterrorizante e irreversível!\n",
    "\n",
    "A estabilidade, segurança flexibilidade, leveza e simplicidade do sistema Linux é tão sofisticado que foi largamente adotada pelos developers e é a base dos sistemas em nuvem.\n",
    "\n",
    "<img src=\"https://i.redd.it/5po7h7rbulc01.jpg\" width=\"600px\">\n",
    "\n",
    "\n",
    "---\n",
    "A nuvem ☁️ é feita de Linux 🐧, veja as perspectivas de negócio da WSJ: <br>\n",
    "https://www.wsj.com/video/series/wsj-explains/how-cloud-computing-became-a-big-tech-battleground/8B831496-7009-4889-AB9A-D51C031CCF4B"
   ]
  }
 ],
 "metadata": {
  "kernelspec": {
   "display_name": "Python 3 (ipykernel)",
   "language": "python",
   "name": "python3"
  },
  "language_info": {
   "codemirror_mode": {
    "name": "ipython",
    "version": 3
   },
   "file_extension": ".py",
   "mimetype": "text/x-python",
   "name": "python",
   "nbconvert_exporter": "python",
   "pygments_lexer": "ipython3",
   "version": "3.9.12"
  }
 },
 "nbformat": 4,
 "nbformat_minor": 5
}
