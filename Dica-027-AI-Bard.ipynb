{
 "cells": [
  {
   "cell_type": "markdown",
   "id": "daa64980-f196-4efd-9bf1-d8c2c027450c",
   "metadata": {},
   "source": [
    "<img width=\"200\" style=\"float:right\" src=\"https://github.com/danielscarvalho/Insper-DS-Dicas/blob/master/Insper-Logo.png?raw=true\">"
   ]
  },
  {
   "cell_type": "markdown",
   "id": "33e2322d-34f4-4092-bfbb-227e7dd5797c",
   "metadata": {},
   "source": [
    "# Computação para Ciências dos Dados\n",
    "\n",
    "<sub><a href=\"https://www.insper.edu.br/pos-graduacao/programas-avancados/data-science-e-decisao/\">PÓS-\n",
    "GRADUAÇÃO EM DATA SCIENCE E DECISÃO</a></sub>\n",
    "\n",
    "## Dica do Dia: 027"
   ]
  },
  {
   "cell_type": "markdown",
   "id": "1f3e9064-d925-4179-a560-36358de13b5b",
   "metadata": {},
   "source": [
    "### Google LLM: Gemini/Bard REST API\n",
    "\n",
    "Modemos utilizar a WEB API REST do LLM Google Gemini (Bard) para obter resultado textual.\n",
    "\n",
    "Importar chave obtida no site do Google para developers: https://makersuite.google.com/app/apikey\n",
    "\n",
    "Configurar a chave com variável de ambiente no Linux, configurado no arquivo .profile do SO\n",
    "\n",
    "```bash\n",
    "export BARD_KEY=xxxxxxxxxxxx\n",
    "```\n",
    "<br>\n",
    "<br>\n",
    "<br>\n",
    "Importar a chave no ambiente notebook:"
   ]
  },
  {
   "cell_type": "code",
   "execution_count": 1,
   "id": "0c8abd61-77bb-45f4-b991-b401f0eed0c6",
   "metadata": {},
   "outputs": [],
   "source": [
    "import os\n",
    "\n",
    "BARD_KEY = os.getenv(\"BARD_KEY\")"
   ]
  },
  {
   "cell_type": "markdown",
   "id": "0838956b-5f84-4eea-bff2-d0665b6f219f",
   "metadata": {},
   "source": [
    "Testar a chamda da API do LLM com o curl, usar o magic '!' para executar um comando no Linux (SO)"
   ]
  },
  {
   "cell_type": "code",
   "execution_count": 3,
   "id": "4ed3388b-54d7-4ad7-901f-ee999716e61c",
   "metadata": {
    "scrolled": true
   },
   "outputs": [
    {
     "name": "stdout",
     "output_type": "stream",
     "text": [
      "{\n",
      "  \"candidates\": [\n",
      "    {\n",
      "      \"content\": {\n",
      "        \"parts\": [\n",
      "          {\n",
      "            \"text\": \"In the twilight of academia, a solitary figure known as Cipher roamed the virtual realm of the college campus. With each keystroke, they unraveled encrypted secrets, delving into the labyrinthine depths of cyberspace. Possessing an uncanny ability to decipher complex algorithms, Cipher's reputation as a prodigious hacker grew, painting them as an enigmatic legend among their peers. By day, they blended seamlessly into the tapestry of campus life, an unassuming student navigating the corridors of knowledge. But when the moon cast its ethereal glow, Cipher emerged from the shadows, transforming into a formidable force in the digital realm. Their fingers danced across the keyboard, weaving intricate patterns of code that unlocked hidden realms of information. Networks trembled at their presence, revealing their vulnerabilities under Cipher's relentless probing. As they breached firewalls with audacious finesse, Cipher left behind a trail of digital graffiti, a testament to their prowess and an indelible mark on the virtual landscape of the college.\"\n",
      "          }\n",
      "        ],\n",
      "        \"role\": \"model\"\n",
      "      },\n",
      "      \"finishReason\": \"STOP\",\n",
      "      \"index\": 0,\n",
      "      \"safetyRatings\": [\n",
      "        {\n",
      "          \"category\": \"HARM_CATEGORY_SEXUALLY_EXPLICIT\",\n",
      "          \"probability\": \"NEGLIGIBLE\"\n",
      "        },\n",
      "        {\n",
      "          \"category\": \"HARM_CATEGORY_HATE_SPEECH\",\n",
      "          \"probability\": \"NEGLIGIBLE\"\n",
      "        },\n",
      "        {\n",
      "          \"category\": \"HARM_CATEGORY_HARASSMENT\",\n",
      "          \"probability\": \"NEGLIGIBLE\"\n",
      "        },\n",
      "        {\n",
      "          \"category\": \"HARM_CATEGORY_DANGEROUS_CONTENT\",\n",
      "          \"probability\": \"NEGLIGIBLE\"\n",
      "        }\n",
      "      ]\n",
      "    }\n",
      "  ],\n",
      "  \"promptFeedback\": {\n",
      "    \"safetyRatings\": [\n",
      "      {\n",
      "        \"category\": \"HARM_CATEGORY_SEXUALLY_EXPLICIT\",\n",
      "        \"probability\": \"NEGLIGIBLE\"\n",
      "      },\n",
      "      {\n",
      "        \"category\": \"HARM_CATEGORY_HATE_SPEECH\",\n",
      "        \"probability\": \"NEGLIGIBLE\"\n",
      "      },\n",
      "      {\n",
      "        \"category\": \"HARM_CATEGORY_HARASSMENT\",\n",
      "        \"probability\": \"NEGLIGIBLE\"\n",
      "      },\n",
      "      {\n",
      "        \"category\": \"HARM_CATEGORY_DANGEROUS_CONTENT\",\n",
      "        \"probability\": \"NEGLIGIBLE\"\n",
      "      }\n",
      "    ]\n",
      "  }\n",
      "}\n"
     ]
    }
   ],
   "source": [
    "!curl https://generativelanguage.googleapis.com/v1beta/models/gemini-pro:generateContent?key=$BARD_KEY \\\n",
    "    -H 'Content-Type: application/json' \\\n",
    "    -X POST \\\n",
    "    -d '{\"contents\": [{ \"parts\":[{\"text\": \"Write a paragraph story about a hacker at college.\"}]}]}' 2> /dev/nullhttps://makersuite.google.com/app/apikey"
   ]
  },
  {
   "cell_type": "markdown",
   "id": "c9b89474-2d8d-40e7-93f9-a7c76d8dec3c",
   "metadata": {},
   "source": [
    "Agora fazendo chamada HTTP com Python no ambiente Jupyter Notebook"
   ]
  },
  {
   "cell_type": "code",
   "execution_count": 17,
   "id": "fffee74e-9c78-415e-9d89-1d160227bb0c",
   "metadata": {},
   "outputs": [],
   "source": [
    "import requests\n",
    "import json"
   ]
  },
  {
   "cell_type": "code",
   "execution_count": 16,
   "id": "3f6905da-0175-4134-a940-5f86891ee784",
   "metadata": {},
   "outputs": [],
   "source": [
    "URL = f\"https://generativelanguage.googleapis.com/v1beta/models/gemini-pro:generateContent?key={BARD_KEY}\""
   ]
  },
  {
   "cell_type": "code",
   "execution_count": 18,
   "id": "42fc7452-2b54-4e72-bdf7-c268dd68c171",
   "metadata": {},
   "outputs": [],
   "source": [
    "payload = {\"contents\": [{ \"parts\":[{\"text\": \"Write a paragraph story about a hacker at college.\"}]}]}"
   ]
  },
  {
   "cell_type": "code",
   "execution_count": 20,
   "id": "a02d502f-d71d-4d6b-8a6f-9a766eaf761a",
   "metadata": {},
   "outputs": [],
   "source": [
    "info = requests.post(URL, data=json.dumps(payload)).json()"
   ]
  },
  {
   "cell_type": "markdown",
   "id": "09b65197-d16b-48b3-aa11-0e5b29c04366",
   "metadata": {},
   "source": [
    "Note que a resposta vem em forma de dicionário"
   ]
  },
  {
   "cell_type": "code",
   "execution_count": 21,
   "id": "4a6df31c-43b0-418d-b7fa-789297c1bc4e",
   "metadata": {},
   "outputs": [
    {
     "data": {
      "text/plain": [
       "dict"
      ]
     },
     "execution_count": 21,
     "metadata": {},
     "output_type": "execute_result"
    }
   ],
   "source": [
    "type(info)"
   ]
  },
  {
   "cell_type": "markdown",
   "id": "0ab12aea-ca68-4558-ab86-d04c3f8bd216",
   "metadata": {},
   "source": [
    "Buscando somente o texto gerado pela IA no dicionário (JSON) de resposta"
   ]
  },
  {
   "cell_type": "code",
   "execution_count": 23,
   "id": "fbae89f0-1fe6-49de-81cc-3b32d56ac8cb",
   "metadata": {
    "scrolled": true
   },
   "outputs": [
    {
     "data": {
      "text/plain": [
       "\"In the bustling campus filled with bright minds, there existed a young hacker named Alex. His fingers danced across the worn keyboard like an artist painting a digital masterpiece. His reputation as a skilled infiltrator of cyber-fortresses had spread like wildfire throughout the college's network. Yet, beneath his enigmatic exterior lay a yearning for something more, a desire to transcend the confines of his isolated world. Little did anyone know that his true genius lay not in breaking codes but in weaving them, in crafting intricate symphonies of data that would change the world for the better. And so, his journey began, not as a solitary infiltrator, but as a beacon of hope in the realm of technology and innovation.\""
      ]
     },
     "execution_count": 23,
     "metadata": {},
     "output_type": "execute_result"
    }
   ],
   "source": [
    "info['candidates'][0]['content']['parts'][0]['text']"
   ]
  },
  {
   "cell_type": "markdown",
   "id": "f10794ba-97e3-4048-ae91-53b0a1f01f96",
   "metadata": {},
   "source": [
    "Vamos espiar o dicionário (JSON) retornado pela WEB API REST"
   ]
  },
  {
   "cell_type": "code",
   "execution_count": 24,
   "id": "db36dac5-8752-47e2-8183-c518d02bbdaa",
   "metadata": {},
   "outputs": [
    {
     "data": {
      "text/plain": [
       "{'candidates': [{'content': {'parts': [{'text': \"In the bustling campus filled with bright minds, there existed a young hacker named Alex. His fingers danced across the worn keyboard like an artist painting a digital masterpiece. His reputation as a skilled infiltrator of cyber-fortresses had spread like wildfire throughout the college's network. Yet, beneath his enigmatic exterior lay a yearning for something more, a desire to transcend the confines of his isolated world. Little did anyone know that his true genius lay not in breaking codes but in weaving them, in crafting intricate symphonies of data that would change the world for the better. And so, his journey began, not as a solitary infiltrator, but as a beacon of hope in the realm of technology and innovation.\"}],\n",
       "    'role': 'model'},\n",
       "   'finishReason': 'STOP',\n",
       "   'index': 0,\n",
       "   'safetyRatings': [{'category': 'HARM_CATEGORY_SEXUALLY_EXPLICIT',\n",
       "     'probability': 'NEGLIGIBLE'},\n",
       "    {'category': 'HARM_CATEGORY_HATE_SPEECH', 'probability': 'NEGLIGIBLE'},\n",
       "    {'category': 'HARM_CATEGORY_HARASSMENT', 'probability': 'NEGLIGIBLE'},\n",
       "    {'category': 'HARM_CATEGORY_DANGEROUS_CONTENT',\n",
       "     'probability': 'NEGLIGIBLE'}]}],\n",
       " 'promptFeedback': {'safetyRatings': [{'category': 'HARM_CATEGORY_SEXUALLY_EXPLICIT',\n",
       "    'probability': 'NEGLIGIBLE'},\n",
       "   {'category': 'HARM_CATEGORY_HATE_SPEECH', 'probability': 'NEGLIGIBLE'},\n",
       "   {'category': 'HARM_CATEGORY_HARASSMENT', 'probability': 'NEGLIGIBLE'},\n",
       "   {'category': 'HARM_CATEGORY_DANGEROUS_CONTENT',\n",
       "    'probability': 'NEGLIGIBLE'}]}}"
      ]
     },
     "execution_count": 24,
     "metadata": {},
     "output_type": "execute_result"
    }
   ],
   "source": [
    "info"
   ]
  },
  {
   "cell_type": "markdown",
   "id": "938fef4e-b3a4-4f7c-85e1-875c8588e1f8",
   "metadata": {},
   "source": [
    "To learn more:\n",
    "- https://ai.google.dev/tutorials?hl=pt-br"
   ]
  }
 ],
 "metadata": {
  "kernelspec": {
   "display_name": "Python 3 (ipykernel)",
   "language": "python",
   "name": "python3"
  },
  "language_info": {
   "codemirror_mode": {
    "name": "ipython",
    "version": 3
   },
   "file_extension": ".py",
   "mimetype": "text/x-python",
   "name": "python",
   "nbconvert_exporter": "python",
   "pygments_lexer": "ipython3",
   "version": "3.11.5"
  }
 },
 "nbformat": 4,
 "nbformat_minor": 5
}
