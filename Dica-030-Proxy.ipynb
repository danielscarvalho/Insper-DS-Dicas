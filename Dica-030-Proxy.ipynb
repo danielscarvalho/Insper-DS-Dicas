{
 "cells": [
  {
   "cell_type": "markdown",
   "id": "94a8b62f-6139-4153-b663-a66560b0289e",
   "metadata": {},
   "source": [
    "<img width=\"200\" style=\"float:right\" src=\"https://github.com/danielscarvalho/Insper-DS-Dicas/blob/master/Insper-Logo.png?raw=true\">"
   ]
  },
  {
   "cell_type": "markdown",
   "id": "74e8e59f-4e4e-4c65-9187-82bd5f5d3e7c",
   "metadata": {},
   "source": [
    "# Computação para Ciências dos Dados\n",
    "\n",
    "<sub><a href=\"https://www.insper.edu.br/pos-graduacao/programas-avancados/data-science-e-decisao/\">PÓS-\n",
    "GRADUAÇÃO EM DATA SCIENCE E DECISÃO</a></sub>\n",
    "\n",
    "## Dica do Dia: 030"
   ]
  },
  {
   "cell_type": "markdown",
   "id": "7be7a231-86ff-4e34-9e67-aa734e8ce99e",
   "metadata": {},
   "source": [
    "# Using Proxy server to anonimize HTTP calls\n",
    "\n",
    "Um proxy, em termos simples, é um servidor WEB intermediário que atua entre o cliente (seu programa Python, por exemplo) e o servidor de destino (site), encaminhando requisições e respostas. Usando a biblioteca ```requests``` em Python, você pode configurar um proxy passando um dicionário para o parâmetro proxies, como ```proxies={'http': 'http://123.45.67.89:8080'}```, onde o IP e a porta do proxy são especificados. Já um proxy anônimo vai além, ocultando sua identidade (como o endereço IP original) do servidor de destino, oferecendo maior privacidade. Na prática, com requests, o uso é semelhante, mas o proxy anônimo deve ser obtido de uma fonte confiável que garanta anonimato, como serviços pagos ou listas verificadas, e configurado da mesma forma: ```response = requests.get('http://exemplo.com', proxies={'http': 'http://proxy-anonimo:porta'})```. Isso permite acessar sites mascarando sua origem, útil para contornar bloqueios ou proteger a identidade.\n",
    "\n",
    "Há proxy anonimos, temporários e em diversos países..."
   ]
  },
  {
   "cell_type": "code",
   "execution_count": null,
   "id": "4eaa6cf8-f761-482d-ab27-68c7825cf741",
   "metadata": {},
   "outputs": [],
   "source": [
    "import requests\n",
    "import pandas as pd"
   ]
  },
  {
   "cell_type": "code",
   "execution_count": null,
   "id": "415cd521-67c5-4b43-ac08-a52af50a9b4a",
   "metadata": {},
   "outputs": [],
   "source": [
    "requests.get(\"https://get.geojs.io/v1/ip/geo.json\").json()"
   ]
  },
  {
   "cell_type": "code",
   "execution_count": null,
   "id": "a98a8f36-a9c1-44be-8fd0-8ed98716dc98",
   "metadata": {},
   "outputs": [],
   "source": [
    "# Temporary Anonymous Proxy\n",
    "\n",
    "proxies = {\n",
    "    'http':  '178.63.237.145:8080',\t#DE\n",
    "    'http':  '162.19.49.131:80',\t#FR\n",
    "}\n",
    "\n",
    "requests.get('http://www.advisor.net.br', proxies=proxies).content"
   ]
  },
  {
   "cell_type": "code",
   "execution_count": null,
   "id": "a60633fb-2b17-4610-9f8b-adfd10490761",
   "metadata": {},
   "outputs": [],
   "source": [
    "# Temporary Anonymous Proxy\n",
    "\n",
    "proxies = {\n",
    "    'http': '31.172.66.22:20466', #RU\n",
    "    'http': '146.59.18.21:9163'\t, #PL\n",
    "    'http': '51.81.93.148:25073', #US\n",
    "}\n",
    "\n",
    "requests.get('https://api.ipify.org?format=json', proxies=proxies).json()"
   ]
  },
  {
   "cell_type": "markdown",
   "id": "a0d5872a-44de-439d-9524-19dbbc1ee5d6",
   "metadata": {},
   "source": [
    "Referências:\n",
    "\n",
    "- https://www.ipify.org/\n",
    "- https://geonode.com/free-proxy-list\n",
    "- https://www.pyproxy.com/proxyfree/\n",
    "- https://doc.lunaproxy.com/proxies/unlimited-residential-proxies/get-proxy/api"
   ]
  },
  {
   "cell_type": "code",
   "execution_count": null,
   "id": "be4f751d-1fe7-41f2-86dc-e9b9520fd821",
   "metadata": {},
   "outputs": [],
   "source": []
  }
 ],
 "metadata": {
  "kernelspec": {
   "display_name": "Python 3 (ipykernel)",
   "language": "python",
   "name": "python3"
  },
  "language_info": {
   "codemirror_mode": {
    "name": "ipython",
    "version": 3
   },
   "file_extension": ".py",
   "mimetype": "text/x-python",
   "name": "python",
   "nbconvert_exporter": "python",
   "pygments_lexer": "ipython3",
   "version": "3.11.5"
  }
 },
 "nbformat": 4,
 "nbformat_minor": 5
}
