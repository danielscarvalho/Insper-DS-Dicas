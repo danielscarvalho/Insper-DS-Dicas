{
 "cells": [
  {
   "cell_type": "markdown",
   "id": "6c14b6f2-342d-4907-8bc9-6d9fa707833d",
   "metadata": {},
   "source": [
    "<img width=\"200\" style=\"float:right\" src=\"https://github.com/danielscarvalho/Insper-DS-Dicas/blob/master/Insper-Logo.png?raw=true\">"
   ]
  },
  {
   "cell_type": "markdown",
   "id": "48662655-2f9c-4ae3-84a5-3ade3d9366fb",
   "metadata": {},
   "source": [
    "# Computação para Ciências dos Dados\n",
    "\n",
    "<sub><a href=\"https://www.insper.edu.br/pos-graduacao/programas-avancados/data-science-e-decisao/\">PÓS-\n",
    "GRADUAÇÃO EM DATA SCIENCE E DECISÃO</a></sub>\n",
    "\n",
    "## Dica do Dia: 029"
   ]
  },
  {
   "cell_type": "markdown",
   "id": "2c362125-1b0d-46ef-bd87-7174e0826724",
   "metadata": {},
   "source": [
    "# Inteligência Artificial - LLM Meta AI\n",
    "\n",
    "Aqui usando o próprio Meta IA em https://meta.ai para aprender a usar o Meta AI em Python"
   ]
  },
  {
   "cell_type": "markdown",
   "id": "1b8f94db-5c0e-494f-bb41-0793312cc7d8",
   "metadata": {},
   "source": [
    "Para usar o Meta AI com Python, você precisará da biblioteca metaai que ainda não foi lançada. No entanto, você pode utilizar a biblioteca transformers do Hugging Face, que oferece suporte a vários modelos de IA, incluindo o Meta AI.\n",
    "Instalação\n",
    "Para utilizar o Meta AI com Python, você precisará instalar a biblioteca transformers. Você pode fazer isso usando pip:\n",
    "Bash\n",
    "\n",
    "```bash\n",
    "pip install transformers\n",
    "```\n",
    "\n",
    "Exemplo de uso\n",
    "\n",
    "Aqui está um exemplo simples de como usar o modelo de linguagem BART (baseado no Meta AI) com a biblioteca transformers:\n",
    "Python\n",
    "\n",
    "```python\n",
    "from transformers import pipeline\n",
    "```\n",
    "\n",
    "### Inicializa o modelo\n",
    "\n",
    "```python\n",
    "model_name = \"facebook/bart-large-cnn\"\n",
    "summarizer = pipeline(\"summarization\", model=model_name)\n",
    "```\n",
    "\n",
    "### Texto a ser resumido\n",
    "```python\n",
    "text = \"\"\"\n",
    "  O Meta AI é uma tecnologia de inteligência artificial desenvolvida pela Meta. \n",
    "  Ele pode ser usado para uma variedade de tarefas, como resposta a perguntas, \n",
    "  geração de texto e resumo de artigos.\n",
    "\"\"\"\n",
    "```\n",
    "### Resume o texto\n",
    "```bash\n",
    "resumo = summarizer(text, max_length=50, clean_up_tokenization_spaces=True)\n",
    "```\n",
    "### Imprime o resumo\n",
    "```bash\n",
    "print(resumo)\n",
    "```\n",
    "\n",
    "### APIs do Meta AI\n",
    "\n",
    "Se você está procurando por acesso mais direto às APIs do Meta AI, como o modelo LLAMA, você pode usar a API de pesquisa do Meta AI. Para acessar essas APIs, você precisará se registrar para obter uma chave de API.\n",
    "Limitações\n",
    "\n",
    "Tenha em mente que alguns modelos podem ter limitações de uso, como número de requisições por dia, e podem exigir um processo de revisão antes da aprovação.\n",
    "\n",
    "Recursos adicionais\n",
    "\n",
    "Para mais informações sobre como usar o Meta AI com Python, você pode consultar:\n",
    "Documentação da biblioteca transformers: \n",
    "Documentação da API do Meta AI: \n",
    "Repositório de modelos do Hugging Face: "
   ]
  },
  {
   "cell_type": "markdown",
   "id": "8b879351-bda3-45e4-9e93-640bd59c794f",
   "metadata": {},
   "source": [
    "Testando no ambiente Jupyter notebook:"
   ]
  },
  {
   "cell_type": "code",
   "execution_count": null,
   "id": "82ff2563-dd1f-457a-9c9d-954ed1bf3a2c",
   "metadata": {},
   "outputs": [],
   "source": [
    "from transformers import pipeline"
   ]
  },
  {
   "cell_type": "code",
   "execution_count": null,
   "id": "0bcc229f-7eb6-4361-8296-22a38ae8e539",
   "metadata": {},
   "outputs": [],
   "source": [
    "model_name = \"facebook/bart-large-cnn\"\n",
    "summarizer = pipeline(\"summarization\", model=model_name)"
   ]
  },
  {
   "cell_type": "code",
   "execution_count": null,
   "id": "1c1d069a-0b2d-4269-a5e7-162aca6e3690",
   "metadata": {},
   "outputs": [],
   "source": [
    "text = \"\"\"\n",
    "  O Meta AI é uma tecnologia de inteligência artificial desenvolvida pela Meta. \n",
    "  Ele pode ser usado para uma variedade de tarefas, como resposta a perguntas, \n",
    "  geração de texto e resumo de artigos.\n",
    "\"\"\""
   ]
  },
  {
   "cell_type": "code",
   "execution_count": null,
   "id": "ee65ae46-3e2b-4459-a12c-2b6f73249e9e",
   "metadata": {},
   "outputs": [],
   "source": [
    "resumo = summarizer(text, max_length=50, clean_up_tokenization_spaces=True)\n",
    "\n",
    "resumo"
   ]
  },
  {
   "cell_type": "code",
   "execution_count": null,
   "id": "a9c727a4-8643-41c8-94b4-c23346ce64f3",
   "metadata": {},
   "outputs": [],
   "source": []
  }
 ],
 "metadata": {
  "kernelspec": {
   "display_name": "Python 3 (ipykernel)",
   "language": "python",
   "name": "python3"
  },
  "language_info": {
   "codemirror_mode": {
    "name": "ipython",
    "version": 3
   },
   "file_extension": ".py",
   "mimetype": "text/x-python",
   "name": "python",
   "nbconvert_exporter": "python",
   "pygments_lexer": "ipython3",
   "version": "3.11.5"
  }
 },
 "nbformat": 4,
 "nbformat_minor": 5
}
