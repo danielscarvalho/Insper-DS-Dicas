{
 "cells": [
  {
   "cell_type": "markdown",
   "metadata": {},
   "source": [
    "<img width=\"200\" style=\"float:right\" src=\"https://github.com/danielscarvalho/Insper-DS-Dicas/blob/master/Insper-Logo.png?raw=true\">"
   ]
  },
  {
   "cell_type": "markdown",
   "metadata": {},
   "source": [
    "# Computação para Ciências dos Dados\n",
    "\n",
    "<sub><a href=\"https://www.insper.edu.br/pos-graduacao/programas-avancados/programa-avancado-em-data-science-e-decisao/\">PÓS-GRADUAÇÃO EM DATA SCIENCE E DECISÃO</a></sub>\n",
    "\n",
    "## Dica do Dia: 010\n",
    "\n",
    "O objetivo desta dica do dia e explorar um pouco mais sobre computação em nuvem e inteligência artificial.\n",
    "\n",
    "> Todos os dias no período de contingência pelo Coronavirus (COVID-19) vamos enviar uma breve dica sobre Python para ciências dos dados em um jupyter notebook, conteúdo adicional ao curso que pode ser utilizado nos projetos"
   ]
  },
  {
   "cell_type": "markdown",
   "metadata": {},
   "source": [
    "Assim como exploramos os ambiente notebook em nuvem do [Google Colaboratory](https://colab.research.google.com/notebooks/intro.ipynb#recent=true) e da [Microsoft Azure Notebooks](https://notebooks.azure.com/), vamos explorar o ambiente [Wolfram Cloud](https://www.wolframcloud.com/), neste caso com a linguagem de programação **Wolfram Language**."
   ]
  },
  {
   "cell_type": "markdown",
   "metadata": {},
   "source": [
    "A interface de computação exploratória Jupyter Notebook é inspirada no [Wolfram Notebook](https://www.wolfram.com/notebooks/) que foi publicado originalmente em 1988 no Mathematica 1.0.\n",
    "\n",
    "A [Wolfram Language](https://www.wolfram.com/language/) é uma linguagem de programação de mais alto nível ([4ª geração - 4GL](https://en.wikipedia.org/wiki/Fourth-generation_programming_language)), projetada para humanos, para atender a pesquisadores e cientistas. Programação funcional é o principal paradigma de programação, a sintaxe da Wolfram Language é bem simples: \n",
    "<pre>\n",
    "Range[10]\n",
    "\n",
    "Import[\"http://domain.com/coisa.xlsx\"]\n",
    "\n",
    "Sum[x^2+3x+Cos[x],{x,-10,10}]\n",
    "\n",
    "</pre>\n",
    "Os comandos iniciam com letra maiúscula e a passagem de parametros é feita entre colchetes \"\\[\" \"\\]\", \",\" virgula como separador, os dados são processados em listas: {1, 3, 4, a, \"Oi\", {10,44.3}}, todos os elementos são expressões simbólicas. É um ambiente poderoso para processamento simbólico, cálculo, gráficos, visão computacional e inteligência artificial e integrado a base de dados computáveis acurados.\n",
    "\n",
    "A Wolfra Language é amplamente utilizada em projetos acadêmicos científicos avançados e P&D corporativo, inovação e prototipação."
   ]
  },
  {
   "cell_type": "code",
   "execution_count": 3,
   "metadata": {},
   "outputs": [
    {
     "data": {
      "text/html": [
       "\n",
       "<iframe width='800' height='400' src='https://www.wolframcloud.com/obj/danielscarvalho/Published/Insper-WL-Exemplo.nb' frameborder='0'>\n",
       "</iframe>\n"
      ],
      "text/plain": [
       "<IPython.core.display.HTML object>"
      ]
     },
     "metadata": {},
     "output_type": "display_data"
    }
   ],
   "source": [
    "%%html\n",
    "<iframe width='800' height='400' \n",
    "src='https://www.wolframcloud.com/obj/danielscarvalho/Published/Insper-WL-Exemplo.nb' frameborder='0'>\n",
    "</iframe>"
   ]
  },
  {
   "cell_type": "markdown",
   "metadata": {},
   "source": [
    "O código desta dica esta em formato Wolfram Notebook.\n",
    "\n",
    "Criar uma conta gratuita no Wolfram Cloud: https://www.wolframcloud.com/\n",
    "        \n",
    "Acessar o seguinte notebook em nuvem (pode fazer uma cópia para seu ambiente, e/ou download): https://wolfr.am/LBbZEwAP\n",
    "\n",
    "Há também uma versão local em PDF: [Insper-Dica-010.pdf](Insper-Dica-010.pdf) Neste caso criar um notebook novo no Wolfram Cloud e testar os comandos. Há também uma versão local do notebook desta aula: [Insper-Dica-010.nb](Insper-Dica-010.nb)"
   ]
  },
  {
   "cell_type": "markdown",
   "metadata": {},
   "source": [
    "Projetos de Data Science feitos com Wolfram Language:\n",
    "\n",
    "- https://education.wolfram.com/summer/school/\n",
    "- https://wolfram-school.tumblr.com/\n",
    "\n",
    "Para saber mais:\n",
    "\n",
    "- www.wolfram.com\n",
    "- www.wolframalpha.com\n",
    "- https://www.wolfram.com/language/fast-introduction-for-programmers/en/\n",
    "- https://www.wolfram.com/language/elementary-introduction/2nd-ed/\n",
    "- https://www.wolfram.com/wolfram-u/\n",
    "\n"
   ]
  }
 ],
 "metadata": {
  "kernelspec": {
   "display_name": "Python 3",
   "language": "python",
   "name": "python3"
  },
  "language_info": {
   "codemirror_mode": {
    "name": "ipython",
    "version": 3
   },
   "file_extension": ".py",
   "mimetype": "text/x-python",
   "name": "python",
   "nbconvert_exporter": "python",
   "pygments_lexer": "ipython3",
   "version": "3.6.13"
  }
 },
 "nbformat": 4,
 "nbformat_minor": 2
}
