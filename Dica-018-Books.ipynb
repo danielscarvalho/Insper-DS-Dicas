{
 "cells": [
  {
   "cell_type": "markdown",
   "metadata": {},
   "source": [
    "<img width=\"200\" style=\"float:right\" src=\"https://github.com/danielscarvalho/Insper-DS-Dicas/blob/master/Insper-Logo.png?raw=true\">"
   ]
  },
  {
   "cell_type": "markdown",
   "metadata": {},
   "source": [
    "# Computação para Ciências dos Dados\n",
    "\n",
    "<sub><a href=\"https://www.insper.edu.br/pos-graduacao/programas-avancados/programa-avancado-em-data-science-e-decisao/\">PÓS-\n",
    "GRADUAÇÃO EM DATA SCIENCE E DECISÃO</a></sub>\n",
    "\n",
    "## Dica do Dia: 018\n",
    "\n",
    "O objetivo desta dica do dia é listar as principais referências e livros online sobre Python e Ciências dos Dados\n",
    "\n",
    "\n",
    "Computação ainda se aprende nos livros, digitais ou impressos."
   ]
  },
  {
   "cell_type": "markdown",
   "metadata": {},
   "source": [
    "### Lista de referências online\n",
    "\n",
    " - [Pense Python 2ed by Allen B. Downey](https://penseallen.github.io/PensePython2e/)\n",
    " - [Python Notes For Professionals](https://books.goalkicker.com/PythonBook/)\n",
    " - [The Hitchhiker’s Guide to Python](https://docs.python-guide.org/)\n",
    " - [Automate the Boring Stuff with Python by Al Sweigart](https://automatetheboringstuff.com/)\n",
    " - [Python 3.10.2 documentation](https://docs.python.org/3/)\n",
    " - [The Python Tutorial](https://docs.python.org/3/tutorial/index.html)\n",
    " - [Python Data Science Handbook by Jake VanderPlas](https://jakevdp.github.io/PythonDataScienceHandbook/)\n",
    " - [Data Science & Big Data Analytics: Discovering, Analyzing, Visualizing and Presenting Data](https://onlinelibrary.wiley.com/doi/book/10.1002/9781119183686)\n",
    " - [Python for Data Analysis 3ed by Wes McKinney](https://wesmckinney.com/book/)<hr> - [Free University Data Science Resources](https://www.kdnuggets.com/2022/05/free-university-data-science-resources.html)\n"
   ]
  }
 ],
 "metadata": {
  "kernelspec": {
   "display_name": "Python 3",
   "language": "python",
   "name": "python3"
  },
  "language_info": {
   "codemirror_mode": {
    "name": "ipython",
    "version": 3
   },
   "file_extension": ".py",
   "mimetype": "text/x-python",
   "name": "python",
   "nbconvert_exporter": "python",
   "pygments_lexer": "ipython3",
   "version": "3.6.13"
  }
 },
 "nbformat": 4,
 "nbformat_minor": 2
}
