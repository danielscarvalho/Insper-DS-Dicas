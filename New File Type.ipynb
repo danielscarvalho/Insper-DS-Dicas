{
 "cells": [
  {
   "cell_type": "markdown",
   "metadata": {},
   "source": [
    "<b>DRAFT!!</b>"
   ]
  },
  {
   "cell_type": "markdown",
   "metadata": {},
   "source": [
    "### .xtable\n",
    "\n",
    "ZIP\n",
    "\n",
    "UTF-8\n",
    "\n",
    "TYPE:\n",
    "- String\n",
    "-     Integer\n",
    "-     Float\n",
    "-     Null (empty)\n",
    "-     Array \\[ \\]\n",
    "\n",
    "BOF and EOF\n",
    "\n",
    "Line break: \\\\n\n",
    "\n",
    "Field separator ;\n",
    "\n",
    "- 1 Line: BOF\n",
    "- 2 Line: Description (empty line if no description provided)\n",
    "- 3 Line: Column name\n",
    "- 4 Line: Column description (metadata)\n",
    "- 5 Line: Column data type\n",
    "- 6 Line: Data...\n",
    "- N Line: EOF"
   ]
  },
  {
   "cell_type": "markdown",
   "metadata": {},
   "source": [
    "Exemplo:\n",
    "    \n",
    "<pre>\n",
    "BOF\n",
    "Data exported from the database X\n",
    "ID;Name;Value;Quaity\n",
    "Sequence;\"Person name\";Value;\"Quantity of itens\"\n",
    "Integer;String;Float;Integer;Array\n",
    "1;\"José Maria\";23.44;124;[\"\",\"Yellow\",334]\n",
    "12;Antonia;431.52;443;[234,55.23,\"Blue\"]\n",
    "321;Pedro Ferraz;4234.22;400;[244,32,4]\n",
    "14;\"Cris Souza Bolaños\"\n",
    "EOF\n",
    "</pre>"
   ]
  },
  {
   "cell_type": "code",
   "execution_count": 14,
   "metadata": {},
   "outputs": [],
   "source": [
    "#ou:\n",
    "\n",
    "x = {\n",
    "    \"meta\":{\n",
    "        \"description\":\"Data exported from the database X\",\n",
    "        \"fields\":{\"ID\":\"Integer\",\"Name\":\"String\",\"Value\":\"Float\",\"Quaity\":\"List\"}\n",
    "    },\n",
    "    \"data\":[\n",
    "        [1,\"José Maria\",23.44,124,[\"\",\"Yellow\",334]],\n",
    "        [12,\"Antonia\",431.52,443,[234,55.23,\"Blue\"]],\n",
    "        [321,\"Pedro Ferraz\",4234.22,400,[244,32,4]],\n",
    "        [14,\"Cris Souza Bolaños\"]]\n",
    "    }"
   ]
  }
 ],
 "metadata": {
  "kernelspec": {
   "display_name": "Python 3",
   "language": "python",
   "name": "python3"
  },
  "language_info": {
   "codemirror_mode": {
    "name": "ipython",
    "version": 3
   },
   "file_extension": ".py",
   "mimetype": "text/x-python",
   "name": "python",
   "nbconvert_exporter": "python",
   "pygments_lexer": "ipython3",
   "version": "3.6.13"
  }
 },
 "nbformat": 4,
 "nbformat_minor": 2
}
