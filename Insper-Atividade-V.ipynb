{
 "cells": [
  {
   "cell_type": "markdown",
   "metadata": {},
   "source": [
    "<img width=\"200\" style=\"float:right\" src=\"https://github.com/danielscarvalho/Insper-DS-Dicas/blob/master/Insper-Logo.png?raw=true\">"
   ]
  },
  {
   "cell_type": "markdown",
   "metadata": {},
   "source": [
    "# Computação para Ciências dos Dados\n",
    "\n",
    "<sub><a href=\"https://www.insper.edu.br/pos-graduacao/programas-avancados/programa-avancado-em-data-science-e-decisao/\">PÓS-GRADUAÇÃO EM DATA SCIENCE E DECISÃO</a></sub>\n",
    "\n",
    "## Atividade V: Extra de Recuperação\n",
    "\n",
    "O objetivo desta atividade individual é analisar dados estruturados com Python no Jupyter Notebook, conforme o processos de data science, com base em dados do [Kaggle](https://www.kaggle.com/). O tema e escolha dos dados é livre. Esta atividade demanda 10 horas de dedicação. A atividade deve ser elaborada neste notebook, pode utilizar qualquer biblioteca disponível no PIP.\n",
    "\n",
    "### Aluno: "
   ]
  },
  {
   "cell_type": "markdown",
   "metadata": {},
   "source": [
    "### 1. Questionar\n",
    "\n",
    "Estabelecer questões de pesquisa, verificar as possibilidade com os dados disponíveis no site do Keegle"
   ]
  },
  {
   "cell_type": "markdown",
   "metadata": {},
   "source": [
    "### 2. Coletar\n",
    "Selecionar e baixar do Kaggle os dados adequados para responder a questão, importar para um dataframe Pandas os dados, qualificar e limpar a base de dados. É possível também combinar os dados obtidos pelo Kaggle com informações acessíveis via APIs: https://github.com/public-apis/public-apis"
   ]
  },
  {
   "cell_type": "markdown",
   "metadata": {},
   "source": [
    "### 3. Explorar\n",
    "Explorar, encontrar padrões e possibilidades, gerar gráficos para responder a questão de pesquisa e refinar questionamentos"
   ]
  },
  {
   "cell_type": "markdown",
   "metadata": {},
   "source": [
    "###   4. Modelar\n",
    "A etapa de modelagem **não** deprecisa ser realizada nesta atividade*"
   ]
  },
  {
   "cell_type": "markdown",
   "metadata": {},
   "source": [
    "### 5. Comunicar\n",
    "Refinar o jupyter notebook, incluir observações com markdown, refinar gráficos e elaborar conclusão, revisar o projeto, elaborar visualização avançada"
   ]
  },
  {
   "cell_type": "markdown",
   "metadata": {},
   "source": [
    "## Critério de avaliação:\n",
    "\n",
    "### Atividade V – Keggle, dados estruturados\t\t\t\t\t\n",
    "### Tema:\tLivre, definido pelo aluno\t\t\t\t\n",
    "\n",
    "|\\#| Processo | Descrição |\tPeso |\tP1 | P2 | Nota |\n",
    "|----|:----|----|----|----|----|----|\n",
    "|1| Questionar\t| Estabelecer questões de pesquisa, refinar escopo, delimitar escopo, elaborar projeto|\t20%\t|10|\t10|\t2.00|\n",
    "|2| Coletar|\tSelecionar dados, obter dados, manipular dados, organizar dados, consumir API|\t25%|\t9\t|10\t| 2.38\n",
    "|3| Explorar\t|Criar gráficos, manipular numericamente, refinar questionamento|\t30%|\t9|\t9\t| 2.70\n",
    "|~~4~~|~~Modelar~~\t|~~Utilizar: algoritmos, estatística, machine learning, regressão, etc *~~|\t0%\t| 0 | 0 | 0.00 |\n",
    "|5|Comunicar\t|Criar relatório, realizar análise, criar interface interativa com usuário, gráficos|\t25%|\t9\t|9\t| 2.25 |\n",
    "\n",
    "#### Nota atividade V:\t\t\t\t\t9.33 **(exemplo)**\n",
    "\n",
    "\n",
    "P1 - Professor 1<br>\n",
    "P2 - Professor 2<br>\n",
    "\\* - Não é necessário implementar a etapa de modelagem para esta atividade, a etapa de modelagem será realizada na disciplina de estatística, com R"
   ]
  },
  {
   "cell_type": "markdown",
   "metadata": {},
   "source": [
    "> \"Chance favors only the prepared mind.\"<br>\n",
    "> —  Blaise Pascal"
   ]
  }
 ],
 "metadata": {
  "kernelspec": {
   "display_name": "Python 3",
   "language": "python",
   "name": "python3"
  },
  "language_info": {
   "codemirror_mode": {
    "name": "ipython",
    "version": 3
   },
   "file_extension": ".py",
   "mimetype": "text/x-python",
   "name": "python",
   "nbconvert_exporter": "python",
   "pygments_lexer": "ipython3",
   "version": "3.6.13"
  }
 },
 "nbformat": 4,
 "nbformat_minor": 2
}
