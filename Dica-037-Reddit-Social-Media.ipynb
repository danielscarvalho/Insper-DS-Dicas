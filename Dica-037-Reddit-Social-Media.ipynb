{
 "cells": [
  {
   "cell_type": "markdown",
   "id": "e954fbcb-7915-44e7-8bee-68447be1775f",
   "metadata": {},
   "source": [
    "<img width=\"200\" style=\"float:right\" src=\"https://github.com/danielscarvalho/Insper-DS-Dicas/blob/master/Insper-Logo.png?raw=true\">"
   ]
  },
  {
   "cell_type": "markdown",
   "id": "c549c7f1-01bb-4315-877b-66d9f99e2502",
   "metadata": {},
   "source": [
    "# Computação para Ciências dos Dados\n",
    "\n",
    "<sub><a href=\"https://www.insper.edu.br/pos-graduacao/programas-avancados/data-science-e-decisao/\">PÓS-\n",
    "GRADUAÇÃO EM DATA SCIENCE E DECISÃO</a></sub>\n",
    "\n",
    "## Dica do Dia: 037\n",
    "\n",
    "Consumindo (read) dados de texto não estruturado da mídia social Reddit via WEB API\n",
    "\n",
    "O Reddit é uma plataforma de mídia social geek onde usuários criam e participam de comunidades (subreddits) para discutir temas variados, compartilhando posts, comentários e votos. É importante usar a Web API do Reddit para Data Science porque ela permite acessar grandes quantidades de dados textuais e comportamentais em tempo real, como opiniões, tendências e interações, ideais para análises de sentimento, mineração de texto e estudos de comportamento social. Esses dados são estruturados, diversificados e refletem discussões autênticas, tornando-os valiosos para insights. LLMs são treinados com dados do Reddit devido à sua riqueza em linguagem natural, variedade de tópicos e estilos de escrita, que ajudam a melhorar a compreensão contextual e a geração de texto, capturando nuances da comunicação humana em grande escala.\n",
    "\n",
    "Instalar a package (LIB): PRAW: The Python Reddit API Wrapper"
   ]
  },
  {
   "cell_type": "code",
   "execution_count": null,
   "id": "fed04a02-c47d-4b71-8c0a-8443dc3c34d0",
   "metadata": {},
   "outputs": [],
   "source": [
    "!pip install praw"
   ]
  },
  {
   "cell_type": "markdown",
   "id": "5264f21c-ff9d-4086-a5ac-e4f4420e67b7",
   "metadata": {},
   "source": [
    "Importar LIBs (packages)"
   ]
  },
  {
   "cell_type": "code",
   "execution_count": 11,
   "id": "92ef54f6-cf42-490a-b88c-64e97a6dcf8e",
   "metadata": {},
   "outputs": [],
   "source": [
    "import praw\n",
    "import pandas as pd\n",
    "import os"
   ]
  },
  {
   "cell_type": "markdown",
   "id": "10d3fe6e-d3ba-4936-ac2d-d3e630b74cd2",
   "metadata": {},
   "source": [
    "Estabelecer conexão. Note que as chaves obtidas para WEB API do Reddit foram \"escondidas\" como variáveis de ambiente do meu SO Linux Ubuntu. No arquivo .bashrc usando export...\n",
    "\n",
    "```bash\n",
    "export eddit_client_id=pF5xP137sxff\n",
    "export reddit_client_secret=VD2sg5RRf6vx\n",
    "```"
   ]
  },
  {
   "cell_type": "code",
   "execution_count": null,
   "id": "6254e139-7cc7-4e93-ae1e-c4a7ddc8d368",
   "metadata": {},
   "outputs": [],
   "source": [
    "# Read-only instance\n",
    "reddit_read_only = praw.Reddit(client_id=os.getenv(\"reddit_client_id\"),         # your client id\n",
    "                               client_secret=os.getenv(\"reddit_client_secret\"), # your client secret\n",
    "                               user_agent=\"danielscarvalho\")                    # your user agent"
   ]
  },
  {
   "cell_type": "markdown",
   "id": "577089c4-82c8-46bb-8f13-98be6537f596",
   "metadata": {},
   "source": [
    "Conectando no subreddit \"redditdev\" e obtendo nome, titulo e descrição:"
   ]
  },
  {
   "cell_type": "code",
   "execution_count": 3,
   "id": "09b6c3fa-a4b1-43f2-8dbc-6ba9384aa729",
   "metadata": {},
   "outputs": [
    {
     "name": "stdout",
     "output_type": "stream",
     "text": [
      "Display Name: redditdev\n",
      "Title: reddit Development\n",
      "Description: A subreddit for discussion of Reddit's API and Reddit API clients.\n",
      "\n",
      "* [Read the API Overview & Rules](https://github.com/reddit/reddit/wiki/API)\n",
      "* [Check out the API documentation](http://www.reddit.com/dev/api)\n",
      "* [PRAW chat](https://join.slack.com/t/praw/shared_invite/enQtOTUwMDcxOTQ0NzY5LWVkMGQ3ZDk5YmQ5MDEwYTZmMmJkMTJkNjBkNTY3OTU0Y2E2NGRlY2ZhZTAzMWZmMWRiMTMwYjdjODkxOGYyZjY)\n",
      "* [Snoowrap chat](https://gitter.im/not-an-aardvark/snoowrap)\n",
      "* [Unofficial Discord](https://discord.gg/hVMhxpV)\n",
      "* Please do not request bots here. Consider /r/requestabot instead.\n",
      "\n",
      "\n",
      "Please confine discussion to Reddit's API instead of using this as a soapbox to talk to the admins. In particular, use [/r/ideasfortheadmins](/r/ideasfortheadmins) for feature ideas and [/r/bugs](/r/bugs) for bugs. If you have general reddit questions, try [/r/help](/r/help).\n",
      "\n",
      "To see an explanation of recent user-facing changes to reddit (and the code behind them), check out /r/changelog.\n",
      "\n",
      "---\n",
      "\n",
      "To report a security issue with reddit, please send an email to <whitehats@reddit.com> .\n",
      "\n",
      "This is an admin-sponsored subreddit.\n"
     ]
    }
   ],
   "source": [
    "subreddit = reddit_read_only.subreddit(\"redditdev\")\n",
    "\n",
    "# Display the name of the Subreddit\n",
    "print(\"Display Name:\", subreddit.display_name)\n",
    "\n",
    "# Display the title of the Subreddit\n",
    "print(\"Title:\", subreddit.title)\n",
    "\n",
    "# Display the description of the Subreddit\n",
    "print(\"Description:\", subreddit.description)\n"
   ]
  },
  {
   "cell_type": "markdown",
   "id": "baef80d4-af5a-40ab-bd91-aec410f2aaa4",
   "metadata": {},
   "source": [
    "Buscando os últimos posts do subreddit \"Python\":"
   ]
  },
  {
   "cell_type": "code",
   "execution_count": 6,
   "id": "1ba6f6d2-fc6a-417c-9c89-2ccaab99dee4",
   "metadata": {},
   "outputs": [
    {
     "name": "stdout",
     "output_type": "stream",
     "text": [
      "Sunday Daily Thread: What's everyone working on this week?\n",
      "Friday Daily Thread: r/Python Meta and Free-Talk Fridays\n",
      "Snakebar — a tqdm-style progress bar that snakes across your terminal\n",
      "PyCharm Pro Gift Code | 1-Year FREE\n",
      "OneCode — Python library to turn scripts into deployable apps\n",
      "BuildLog: a simple tool to track and version your Python builds\n",
      "Open Source Google Maps Street View Panorama Scraper.\n",
      "Logly 🚀 — a Rust-powered, super fast, and simple logging library for Python\n",
      "An interesting open-source tool for turning LLM prompts into testable, version-controlled artifacts.\n",
      "Local image and video classification tool using Google's sigLIP 2 So400m (naflex)\n"
     ]
    }
   ],
   "source": [
    "subreddit = reddit_read_only.subreddit(\"Python\")\n",
    "\n",
    "for post in subreddit.hot(limit=10):\n",
    "    print(post.title)\n",
    "    "
   ]
  },
  {
   "cell_type": "markdown",
   "id": "13f17248-2a88-41a1-87c6-b4a424f240d5",
   "metadata": {},
   "source": [
    "Buscando os últimos posts do subreddit \"SQL\":"
   ]
  },
  {
   "cell_type": "code",
   "execution_count": 7,
   "id": "d0d88a1e-9104-48c5-bc3a-c64c41191715",
   "metadata": {},
   "outputs": [
    {
     "name": "stdout",
     "output_type": "stream",
     "text": [
      "Struggling with SQL at work\n",
      "What tools/platforms/or softwares do you use to conduct sql interviews?\n",
      "Just came across a new community called SQL4Fusion\n",
      "Roadmap & Resources for Transitioning to Database Administration\n",
      "Level Up From Long SQL Files\n",
      "Why does CONVERT(VARCHAR, CreationTime, 32) in SQL Server return only the date (MM-dd-yyyy) without time? (Beginner)\n",
      "How much sql is required to move to analyst job\n",
      "What went wrong with my query here?\n",
      "I cant progress anymore\n",
      "I hate coding. How tough will SQL and PowerBI will be for me, from a BA's POV ?\n"
     ]
    }
   ],
   "source": [
    "subreddit = reddit_read_only.subreddit(\"SQL\")\n",
    "\n",
    "for post in subreddit.hot(limit=10):\n",
    "    print(post.title)"
   ]
  },
  {
   "cell_type": "markdown",
   "id": "d2a6799d-7ab8-42d7-832c-73047119a2d8",
   "metadata": {},
   "source": [
    "Buscando os últimos posts do subreddit \"Insper\":"
   ]
  },
  {
   "cell_type": "code",
   "execution_count": 13,
   "id": "04a72e46-ffff-4bb5-a9da-eb2713c39dfa",
   "metadata": {
    "scrolled": true
   },
   "outputs": [
    {
     "name": "stdout",
     "output_type": "stream",
     "text": [
      "Pesquisa de Experiencia de recompra (TCC)\n",
      "nota de corte do sat para economia.\n",
      "Pesquisa\n",
      "Vestibular\n",
      "Notebooks\n",
      "Vestibular insper\n",
      "Vestibular 2025.2\n",
      "Bom dia pessoal! Bateu uma duvida aqui e gostaria de saber se vocês tem uma ideia de quanto é a taxa de evasão do curso de economia.\n",
      "Até que posição a lista de economia roda\n",
      "To inseguro sobre passar\n"
     ]
    }
   ],
   "source": [
    "subreddit = reddit_read_only.subreddit(\"Insper\")\n",
    "\n",
    "for post in subreddit.hot(limit=10):b\n",
    "    print(post.title)"
   ]
  },
  {
   "cell_type": "markdown",
   "id": "f52ec595-e664-4b10-a93d-507a2cecab1f",
   "metadata": {},
   "source": [
    "Visite https://www.reddit.com/r/Insper/ para conferir os último posts."
   ]
  },
  {
   "cell_type": "markdown",
   "id": "0cce32cf-65ae-4d3c-a9a3-1708181664a2",
   "metadata": {},
   "source": [
    "Buscando texto de um post específico, usando a URL:"
   ]
  },
  {
   "cell_type": "code",
   "execution_count": 8,
   "id": "db20ea4b-067a-426f-8d6e-95de5fb58702",
   "metadata": {},
   "outputs": [],
   "source": [
    "# URL of the post\n",
    "url = \"https://www.reddit.com/r/Database/comments/16kl7fi/at_what_size_do_you_consider_a_database_to_be_a/\"\n",
    "\n",
    "# Creating a submission object\n",
    "submission = reddit_read_only.submission(url=url)"
   ]
  },
  {
   "cell_type": "code",
   "execution_count": 10,
   "id": "ca7bf856-c7ca-4916-abcf-a1549d66b525",
   "metadata": {},
   "outputs": [
    {
     "data": {
      "text/html": [
       "<div>\n",
       "<style scoped>\n",
       "    .dataframe tbody tr th:only-of-type {\n",
       "        vertical-align: middle;\n",
       "    }\n",
       "\n",
       "    .dataframe tbody tr th {\n",
       "        vertical-align: top;\n",
       "    }\n",
       "\n",
       "    .dataframe thead th {\n",
       "        text-align: right;\n",
       "    }\n",
       "</style>\n",
       "<table border=\"1\" class=\"dataframe\">\n",
       "  <thead>\n",
       "    <tr style=\"text-align: right;\">\n",
       "      <th></th>\n",
       "      <th>comment</th>\n",
       "    </tr>\n",
       "  </thead>\n",
       "  <tbody>\n",
       "    <tr>\n",
       "      <th>0</th>\n",
       "      <td>That isn't very large these days perhaps 5TB p...</td>\n",
       "    </tr>\n",
       "    <tr>\n",
       "      <th>1</th>\n",
       "      <td>If it doesn’t fit on a USB stick</td>\n",
       "    </tr>\n",
       "    <tr>\n",
       "      <th>2</th>\n",
       "      <td>Unstructured data can get massive (logs, video...</td>\n",
       "    </tr>\n",
       "    <tr>\n",
       "      <th>3</th>\n",
       "      <td>1 T was big 15 years ago. Nowadays, I have ind...</td>\n",
       "    </tr>\n",
       "    <tr>\n",
       "      <th>4</th>\n",
       "      <td>Google says? I thought Google was a search eng...</td>\n",
       "    </tr>\n",
       "    <tr>\n",
       "      <th>5</th>\n",
       "      <td>More than 500 tables and I know something is w...</td>\n",
       "    </tr>\n",
       "    <tr>\n",
       "      <th>6</th>\n",
       "      <td>How do you run migrations on these kinds of bi...</td>\n",
       "    </tr>\n",
       "    <tr>\n",
       "      <th>7</th>\n",
       "      <td>In my department, we use an on premises instan...</td>\n",
       "    </tr>\n",
       "    <tr>\n",
       "      <th>8</th>\n",
       "      <td>Apparently our DBs are the largest where I wor...</td>\n",
       "    </tr>\n",
       "    <tr>\n",
       "      <th>9</th>\n",
       "      <td>I would say this can be applied to DBs that ca...</td>\n",
       "    </tr>\n",
       "    <tr>\n",
       "      <th>10</th>\n",
       "      <td>Why do you ask? In the analytics and data scie...</td>\n",
       "    </tr>\n",
       "  </tbody>\n",
       "</table>\n",
       "</div>"
      ],
      "text/plain": [
       "                                              comment\n",
       "0   That isn't very large these days perhaps 5TB p...\n",
       "1                    If it doesn’t fit on a USB stick\n",
       "2   Unstructured data can get massive (logs, video...\n",
       "3   1 T was big 15 years ago. Nowadays, I have ind...\n",
       "4   Google says? I thought Google was a search eng...\n",
       "5   More than 500 tables and I know something is w...\n",
       "6   How do you run migrations on these kinds of bi...\n",
       "7   In my department, we use an on premises instan...\n",
       "8   Apparently our DBs are the largest where I wor...\n",
       "9   I would say this can be applied to DBs that ca...\n",
       "10  Why do you ask? In the analytics and data scie..."
      ]
     },
     "execution_count": 10,
     "metadata": {},
     "output_type": "execute_result"
    }
   ],
   "source": [
    "from praw.models import MoreComments\n",
    "\n",
    "post_comments = []\n",
    "\n",
    "for comment in submission.comments:\n",
    "    if type(comment) == MoreComments:\n",
    "        continue\n",
    "\n",
    "    post_comments.append(comment.body)\n",
    "\n",
    "# creating a dataframe\n",
    "comments_df = pd.DataFrame(post_comments, columns=['comment'])\n",
    "comments_df\n"
   ]
  },
  {
   "cell_type": "markdown",
   "id": "c907fdc2-c290-40d3-9ccb-c9b9a0e6465c",
   "metadata": {},
   "source": [
    "Buscando os últimos posts que citam: \"data science\" ou \"ciências dos dados\""
   ]
  },
  {
   "cell_type": "code",
   "execution_count": 28,
   "id": "8ba757ee-7121-4ef3-bde7-66fb44780560",
   "metadata": {
    "scrolled": true
   },
   "outputs": [
    {
     "name": "stdout",
     "output_type": "stream",
     "text": [
      "Shape  (225, 3)\n",
      "Size  675\n"
     ]
    },
    {
     "data": {
      "text/html": [
       "<div>\n",
       "<style scoped>\n",
       "    .dataframe tbody tr th:only-of-type {\n",
       "        vertical-align: middle;\n",
       "    }\n",
       "\n",
       "    .dataframe tbody tr th {\n",
       "        vertical-align: top;\n",
       "    }\n",
       "\n",
       "    .dataframe thead th {\n",
       "        text-align: right;\n",
       "    }\n",
       "</style>\n",
       "<table border=\"1\" class=\"dataframe\">\n",
       "  <thead>\n",
       "    <tr style=\"text-align: right;\">\n",
       "      <th></th>\n",
       "      <th>Title</th>\n",
       "      <th>Id</th>\n",
       "      <th>Upvotes</th>\n",
       "    </tr>\n",
       "  </thead>\n",
       "  <tbody>\n",
       "    <tr>\n",
       "      <th>193</th>\n",
       "      <td>“Goodbye, Data Science”</td>\n",
       "      <td>235</td>\n",
       "      <td>z6ximi</td>\n",
       "    </tr>\n",
       "    <tr>\n",
       "      <th>119</th>\n",
       "      <td>Rate/Roast my resume (4th year, Chemical Engin...</td>\n",
       "      <td>88</td>\n",
       "      <td>1ndz977</td>\n",
       "    </tr>\n",
       "    <tr>\n",
       "      <th>48</th>\n",
       "      <td>When you get an Excel Sheet of 1000x5 and your...</td>\n",
       "      <td>1676</td>\n",
       "      <td>e9cdf3</td>\n",
       "    </tr>\n",
       "    <tr>\n",
       "      <th>58</th>\n",
       "      <td>Data science job search sankey</td>\n",
       "      <td>726</td>\n",
       "      <td>1glv7su</td>\n",
       "    </tr>\n",
       "    <tr>\n",
       "      <th>109</th>\n",
       "      <td>What’s your 2025 data science coding stack + A...</td>\n",
       "      <td>187</td>\n",
       "      <td>1k26kp3</td>\n",
       "    </tr>\n",
       "    <tr>\n",
       "      <th>86</th>\n",
       "      <td>Jobsuche Data Science/Data Engineering- M. Sc....</td>\n",
       "      <td>537</td>\n",
       "      <td>19ejwlj</td>\n",
       "    </tr>\n",
       "    <tr>\n",
       "      <th>89</th>\n",
       "      <td>Hamas casualty numbers are ‘statistically impo...</td>\n",
       "      <td>735</td>\n",
       "      <td>1bcdgr0</td>\n",
       "    </tr>\n",
       "    <tr>\n",
       "      <th>163</th>\n",
       "      <td>Boston University Center for Computing &amp; Data ...</td>\n",
       "      <td>1975</td>\n",
       "      <td>yzh8rb</td>\n",
       "    </tr>\n",
       "    <tr>\n",
       "      <th>97</th>\n",
       "      <td>Data science job salaries around the world</td>\n",
       "      <td>566</td>\n",
       "      <td>1asvm4p</td>\n",
       "    </tr>\n",
       "    <tr>\n",
       "      <th>120</th>\n",
       "      <td>I will teach you Free Python and then pivot in...</td>\n",
       "      <td>94</td>\n",
       "      <td>1mjb39b</td>\n",
       "    </tr>\n",
       "    <tr>\n",
       "      <th>38</th>\n",
       "      <td>Describe Data Science in Three Words</td>\n",
       "      <td>1048</td>\n",
       "      <td>vx6kcx</td>\n",
       "    </tr>\n",
       "    <tr>\n",
       "      <th>172</th>\n",
       "      <td>Plenty of Data science jobs in the MLS, NHL, N...</td>\n",
       "      <td>405</td>\n",
       "      <td>1evdmth</td>\n",
       "    </tr>\n",
       "    <tr>\n",
       "      <th>15</th>\n",
       "      <td>This almost feels like a test (for data scienc...</td>\n",
       "      <td>2849</td>\n",
       "      <td>10y4jbu</td>\n",
       "    </tr>\n",
       "    <tr>\n",
       "      <th>95</th>\n",
       "      <td>Data science is his passion</td>\n",
       "      <td>1532</td>\n",
       "      <td>14ggeop</td>\n",
       "    </tr>\n",
       "    <tr>\n",
       "      <th>168</th>\n",
       "      <td>Hololive Data Science! What is the cumulative ...</td>\n",
       "      <td>1538</td>\n",
       "      <td>t1jp68</td>\n",
       "    </tr>\n",
       "    <tr>\n",
       "      <th>165</th>\n",
       "      <td>A 250k INTERN position in Data Science - do I ...</td>\n",
       "      <td>216</td>\n",
       "      <td>16o9sbg</td>\n",
       "    </tr>\n",
       "    <tr>\n",
       "      <th>217</th>\n",
       "      <td>Double Machine Learning in Data Science</td>\n",
       "      <td>52</td>\n",
       "      <td>1gezu46</td>\n",
       "    </tr>\n",
       "    <tr>\n",
       "      <th>118</th>\n",
       "      <td>Wordington data science</td>\n",
       "      <td>1254</td>\n",
       "      <td>1b4ohyi</td>\n",
       "    </tr>\n",
       "    <tr>\n",
       "      <th>23</th>\n",
       "      <td>dataScienceBeLike</td>\n",
       "      <td>1517</td>\n",
       "      <td>1azu6hx</td>\n",
       "    </tr>\n",
       "    <tr>\n",
       "      <th>124</th>\n",
       "      <td>What’s the most underrated skill in Data Scien...</td>\n",
       "      <td>103</td>\n",
       "      <td>1ntgszq</td>\n",
       "    </tr>\n",
       "  </tbody>\n",
       "</table>\n",
       "</div>"
      ],
      "text/plain": [
       "                                                 Title    Id  Upvotes\n",
       "193                            “Goodbye, Data Science”   235   z6ximi\n",
       "119  Rate/Roast my resume (4th year, Chemical Engin...    88  1ndz977\n",
       "48   When you get an Excel Sheet of 1000x5 and your...  1676   e9cdf3\n",
       "58                      Data science job search sankey   726  1glv7su\n",
       "109  What’s your 2025 data science coding stack + A...   187  1k26kp3\n",
       "86   Jobsuche Data Science/Data Engineering- M. Sc....   537  19ejwlj\n",
       "89   Hamas casualty numbers are ‘statistically impo...   735  1bcdgr0\n",
       "163  Boston University Center for Computing & Data ...  1975   yzh8rb\n",
       "97          Data science job salaries around the world   566  1asvm4p\n",
       "120  I will teach you Free Python and then pivot in...    94  1mjb39b\n",
       "38                Describe Data Science in Three Words  1048   vx6kcx\n",
       "172  Plenty of Data science jobs in the MLS, NHL, N...   405  1evdmth\n",
       "15   This almost feels like a test (for data scienc...  2849  10y4jbu\n",
       "95                         Data science is his passion  1532  14ggeop\n",
       "168  Hololive Data Science! What is the cumulative ...  1538   t1jp68\n",
       "165  A 250k INTERN position in Data Science - do I ...   216  16o9sbg\n",
       "217            Double Machine Learning in Data Science    52  1gezu46\n",
       "118                            Wordington data science  1254  1b4ohyi\n",
       "23                                   dataScienceBeLike  1517  1azu6hx\n",
       "124  What’s the most underrated skill in Data Scien...   103  1ntgszq"
      ]
     },
     "execution_count": 28,
     "metadata": {},
     "output_type": "execute_result"
    }
   ],
   "source": [
    "query = '\"data science\" OR \"ciências dos dados\"'\n",
    "\n",
    "# Searching in all subreddits  \n",
    "all = reddit_read_only.subreddit(\"all\")\n",
    "\n",
    "#List to accumulate info\n",
    "reddit_data=[]\n",
    "\n",
    "# looping over posts and scraping them, and storing in a list of dictionaries (JSON)\n",
    "for submission in all.search(query, limit=None):\n",
    "    reddit_data.append({\n",
    "       'Title': submission.title,\n",
    "       'Id': submission.score, #upvotes,\n",
    "       'Upvotes': submission.id})\n",
    "\n",
    "# creating a dataframe for displaying scraped data\n",
    "datascience_df = pd.DataFrame(reddit_data) \n",
    "\n",
    "print(\"Shape \", datascience_df.shape)\n",
    "print(\"Size \", datascience_df.size)\n",
    "datascience_df.sample(20)"
   ]
  },
  {
   "cell_type": "code",
   "execution_count": 34,
   "id": "3610d502-1228-474c-99c7-8387484882a1",
   "metadata": {
    "scrolled": true
   },
   "outputs": [
    {
     "data": {
      "text/html": [
       "<div>\n",
       "<style scoped>\n",
       "    .dataframe tbody tr th:only-of-type {\n",
       "        vertical-align: middle;\n",
       "    }\n",
       "\n",
       "    .dataframe tbody tr th {\n",
       "        vertical-align: top;\n",
       "    }\n",
       "\n",
       "    .dataframe thead th {\n",
       "        text-align: right;\n",
       "    }\n",
       "</style>\n",
       "<table border=\"1\" class=\"dataframe\">\n",
       "  <thead>\n",
       "    <tr style=\"text-align: right;\">\n",
       "      <th></th>\n",
       "      <th>Title</th>\n",
       "      <th>Id</th>\n",
       "      <th>Upvotes</th>\n",
       "    </tr>\n",
       "  </thead>\n",
       "  <tbody>\n",
       "    <tr>\n",
       "      <th>215</th>\n",
       "      <td>Magistrale in Data Science</td>\n",
       "      <td>4</td>\n",
       "      <td>1l80yzc</td>\n",
       "    </tr>\n",
       "    <tr>\n",
       "      <th>216</th>\n",
       "      <td>Received admit from Uni Potsdam for MSc Data S...</td>\n",
       "      <td>8</td>\n",
       "      <td>1m9tw5j</td>\n",
       "    </tr>\n",
       "    <tr>\n",
       "      <th>217</th>\n",
       "      <td>Double Machine Learning in Data Science</td>\n",
       "      <td>52</td>\n",
       "      <td>1gezu46</td>\n",
       "    </tr>\n",
       "    <tr>\n",
       "      <th>218</th>\n",
       "      <td>Data Science Hierarchy of Needs ... as relevan...</td>\n",
       "      <td>1049</td>\n",
       "      <td>ynx8o8</td>\n",
       "    </tr>\n",
       "    <tr>\n",
       "      <th>219</th>\n",
       "      <td>Got admit to Leuphana University - Msc Managem...</td>\n",
       "      <td>13</td>\n",
       "      <td>1lkupaw</td>\n",
       "    </tr>\n",
       "    <tr>\n",
       "      <th>220</th>\n",
       "      <td>Traditional Data Science work is going to be back</td>\n",
       "      <td>49</td>\n",
       "      <td>1lxvrjm</td>\n",
       "    </tr>\n",
       "    <tr>\n",
       "      <th>221</th>\n",
       "      <td>Why did you choose data science vs. some other...</td>\n",
       "      <td>121</td>\n",
       "      <td>1aslk92</td>\n",
       "    </tr>\n",
       "    <tr>\n",
       "      <th>222</th>\n",
       "      <td>Data Science on the Map: Why Georgia Has So Ma...</td>\n",
       "      <td>110</td>\n",
       "      <td>1kn9ola</td>\n",
       "    </tr>\n",
       "    <tr>\n",
       "      <th>223</th>\n",
       "      <td>My university switched my major from Software ...</td>\n",
       "      <td>26</td>\n",
       "      <td>1nik5oe</td>\n",
       "    </tr>\n",
       "    <tr>\n",
       "      <th>224</th>\n",
       "      <td>Is the entire job market down right now or is ...</td>\n",
       "      <td>220</td>\n",
       "      <td>11z7mww</td>\n",
       "    </tr>\n",
       "  </tbody>\n",
       "</table>\n",
       "</div>"
      ],
      "text/plain": [
       "                                                 Title    Id  Upvotes\n",
       "215                         Magistrale in Data Science     4  1l80yzc\n",
       "216  Received admit from Uni Potsdam for MSc Data S...     8  1m9tw5j\n",
       "217            Double Machine Learning in Data Science    52  1gezu46\n",
       "218  Data Science Hierarchy of Needs ... as relevan...  1049   ynx8o8\n",
       "219  Got admit to Leuphana University - Msc Managem...    13  1lkupaw\n",
       "220  Traditional Data Science work is going to be back    49  1lxvrjm\n",
       "221  Why did you choose data science vs. some other...   121  1aslk92\n",
       "222  Data Science on the Map: Why Georgia Has So Ma...   110  1kn9ola\n",
       "223  My university switched my major from Software ...    26  1nik5oe\n",
       "224  Is the entire job market down right now or is ...   220  11z7mww"
      ]
     },
     "execution_count": 34,
     "metadata": {},
     "output_type": "execute_result"
    }
   ],
   "source": [
    "datascience_df.tail(10)"
   ]
  },
  {
   "cell_type": "markdown",
   "id": "13820fff-7ad0-45eb-bb10-ae3614fc57a1",
   "metadata": {},
   "source": [
    "References:\n",
    "\n",
    "- https://www.geeksforgeeks.org/python/scraping-reddit-using-python/\n",
    "- https://praw.readthedocs.io/en/stable/\n",
    "- https://www.reddit.com/dev/api/"
   ]
  }
 ],
 "metadata": {
  "kernelspec": {
   "display_name": "Python [conda env:base] *",
   "language": "python",
   "name": "conda-base-py"
  },
  "language_info": {
   "codemirror_mode": {
    "name": "ipython",
    "version": 3
   },
   "file_extension": ".py",
   "mimetype": "text/x-python",
   "name": "python",
   "nbconvert_exporter": "python",
   "pygments_lexer": "ipython3",
   "version": "3.11.5"
  }
 },
 "nbformat": 4,
 "nbformat_minor": 5
}
