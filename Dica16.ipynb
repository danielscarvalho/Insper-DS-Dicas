{
 "cells": [
  {
   "cell_type": "markdown",
   "id": "52e6b732",
   "metadata": {},
   "source": [
    "Dicas formatos de arquivos:\n",
    "\n",
    "- CSV - \n",
    "- Picke\n",
    "- Parcket - "
   ]
  },
  {
   "cell_type": "code",
   "execution_count": 3,
   "id": "afebb9e1",
   "metadata": {
    "scrolled": true
   },
   "outputs": [
    {
     "name": "stdout",
     "output_type": "stream",
     "text": [
      "--2021-08-31 16:23:09--  https://www.kaggle.com/bapanes/train-tf/download\n",
      "Resolving www.kaggle.com (www.kaggle.com)... 35.244.233.98\n",
      "Connecting to www.kaggle.com (www.kaggle.com)|35.244.233.98|:443... connected.\n",
      "HTTP request sent, awaiting response... 302 Found\n",
      "Location: /account/login?titleType=dataset-downloads&showDatasetDownloadSkip=False&messageId=datasetsWelcome&returnUrl=%2Fbapanes%2Ftrain-tf%3Fresource%3Ddownload [following]\n",
      "--2021-08-31 16:23:09--  https://www.kaggle.com/account/login?titleType=dataset-downloads&showDatasetDownloadSkip=False&messageId=datasetsWelcome&returnUrl=%2Fbapanes%2Ftrain-tf%3Fresource%3Ddownload\n",
      "Reusing existing connection to www.kaggle.com:443.\n",
      "HTTP request sent, awaiting response... 200 OK\n",
      "Length: unspecified [text/html]\n",
      "Saving to: ‘download’\n",
      "\n",
      "download                [ <=>                ]   6,53K  --.-KB/s    in 0,001s  \n",
      "\n",
      "2021-08-31 16:23:09 (6,11 MB/s) - ‘download’ saved [6689]\n",
      "\n"
     ]
    }
   ],
   "source": [
    "!wget https://www.kaggle.com/bapanes/train-tf/download"
   ]
  },
  {
   "cell_type": "markdown",
   "id": "70aca2fc",
   "metadata": {},
   "source": [
    "### Para saber mais:\n",
    "\n",
    "- https://www.datacamp.com/community/tutorials/pickle-python-tutorial\n",
    "- https://www.kdnuggets.com/2021/08/csv-files-storage-better-option.html"
   ]
  }
 ],
 "metadata": {
  "kernelspec": {
   "display_name": "Python 3",
   "language": "python",
   "name": "python3"
  },
  "language_info": {
   "codemirror_mode": {
    "name": "ipython",
    "version": 3
   },
   "file_extension": ".py",
   "mimetype": "text/x-python",
   "name": "python",
   "nbconvert_exporter": "python",
   "pygments_lexer": "ipython3",
   "version": "3.6.13"
  }
 },
 "nbformat": 4,
 "nbformat_minor": 5
}
