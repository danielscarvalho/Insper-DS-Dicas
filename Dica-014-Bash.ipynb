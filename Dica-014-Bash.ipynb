{
 "cells": [
  {
   "cell_type": "markdown",
   "metadata": {},
   "source": [
    "<img width=\"200\" style=\"float:right\" src=\"https://github.com/danielscarvalho/Insper-DS-Dicas/blob/master/Insper-Logo.png?raw=true\">"
   ]
  },
  {
   "cell_type": "markdown",
   "metadata": {},
   "source": [
    "# Computação para Ciências dos Dados\n",
    "\n",
    "<sub><a href=\"https://www.insper.edu.br/pos-graduacao/programas-avancados/programa-avancado-em-data-science-e-decisao/\">PÓS-GRADUAÇÃO EM DATA SCIENCE E DECISÃO</a></sub>\n",
    "\n",
    "## Dica de ciências dos dados: 013\n",
    "\n",
    "O **Bash** é um dos shells do UNIX, Linux e Mac, é a interface com usuário linha de comando e também uma linguagem de programação. Ferramenta muito poderosa para obter o máximo do seu computador e automatizar tarefas com scripts, arquivos texto com comandos do sistema operacional. Também disponivel no [Windows](https://docs.microsoft.com/pt-br/windows/wsl/install-win10).\n",
    "\n",
    "O **Bash** e junto com as ferramentas de sistema operacional (comandos) são muito úteis para ciências dos dados.\n",
    "\n",
    "O **Bash** também é conhecido como **GNU Bash**, acrônimo para \"Bourne-Again SHell\" é uma evolução retro-compatível com o Bourne Shell (sh), e também incorpora recursos do Korn shell (ksh) and the C shell (csh)."
   ]
  },
  {
   "cell_type": "markdown",
   "metadata": {},
   "source": [
    "No Jupyter Notebook usamos o **!** ponto de exclamação para indicar que o comando deve ser executado no sistema operacional (SO)"
   ]
  },
  {
   "cell_type": "markdown",
   "metadata": {},
   "source": [
    "O comando **ls** lista os arquivos na pasta atual, e **ls -l** para exibir os detales dos arquivos"
   ]
  },
  {
   "cell_type": "code",
   "execution_count": 1,
   "metadata": {},
   "outputs": [
    {
     "name": "stdout",
     "output_type": "stream",
     "text": [
      " Algorithm.ipynb\t\t   Dica-014-Bash.ipynb\r\n",
      " corona_heatmap.html\t\t   images.png\r\n",
      " coronav_profile.html\t\t   img-example.png\r\n",
      " data\t\t\t\t   Insper-Atividade-V.ipynb\r\n",
      " Dica-001-TreeMap.ipynb\t\t   Insper-Dica-010.nb\r\n",
      " Dica-002-DuckDuckGo.ipynb\t   Insper-Dica-010.pdf\r\n",
      " Dica-003-WEBScraping.ipynb\t  'New File Type.ipynb'\r\n",
      " Dica-004-Seaborn.ipynb\t\t   planilha01.xls\r\n",
      " Dica-005-Coronavirus.ipynb\t   planilha02.xls\r\n",
      " Dica-006-Pandas-Profiling.ipynb   planilha03.xls\r\n",
      " Dica-007-WEB-API.ipynb\t\t   planilha04.png\r\n",
      " Dica-008-Dashboard.ipynb\t   planilha04.xls\r\n",
      " Dica-008-what3words.ipynb\t   planilha05.xlsx\r\n",
      " Dica-009-Planilha.ipynb\t   planilha06.xlsx\r\n",
      " Dica-00x-Dashboard.ipynb\t   planilha07.xlsx\r\n",
      " Dica-010-Wolfram.ipynb\t\t   planilha08.jpg\r\n",
      " Dica-011-Pandas.ipynb\t\t   planilha08.xlsx\r\n",
      " Dica-012-Vídeos.ipynb\t\t   README.md\r\n",
      " Dica-013-RecurrencePlot.ipynb\t   yfd.csv\r\n"
     ]
    }
   ],
   "source": [
    "!ls"
   ]
  },
  {
   "cell_type": "code",
   "execution_count": 3,
   "metadata": {
    "scrolled": false
   },
   "outputs": [
    {
     "name": "stdout",
     "output_type": "stream",
     "text": [
      "total 87188\r\n",
      "-rw-r--r-- 1 fito fito     3079 out 15 16:07  Algorithm.ipynb\r\n",
      "-rw-r--r-- 1 fito fito   617705 out 15 16:07  corona_heatmap.html\r\n",
      "-rw-r--r-- 1 fito fito  3594645 out 15 16:07  coronav_profile.html\r\n",
      "drwxr-xr-x 3 fito fito     4096 out 15 16:07  data\r\n",
      "-rw-r--r-- 1 fito fito   129896 out 15 16:07  Dica-001-TreeMap.ipynb\r\n",
      "-rw-r--r-- 1 fito fito   211649 out 15 16:07  Dica-002-DuckDuckGo.ipynb\r\n",
      "-rw-r--r-- 1 fito fito   252912 out 15 16:07  Dica-003-WEBScraping.ipynb\r\n",
      "-rw-r--r-- 1 fito fito   493086 out 15 16:07  Dica-004-Seaborn.ipynb\r\n",
      "-rw-r--r-- 1 fito fito    91876 out 15 16:07  Dica-005-Coronavirus.ipynb\r\n",
      "-rw-r--r-- 1 fito fito   104045 out 15 16:07  Dica-006-Pandas-Profiling.ipynb\r\n",
      "-rw-r--r-- 1 fito fito   121500 out 15 16:07  Dica-007-WEB-API.ipynb\r\n",
      "-rw-r--r-- 1 fito fito     1072 out 15 16:07  Dica-008-Dashboard.ipynb\r\n",
      "-rw-r--r-- 1 fito fito   101329 out 15 16:07  Dica-008-what3words.ipynb\r\n",
      "-rw-r--r-- 1 fito fito   113757 out 15 16:07  Dica-009-Planilha.ipynb\r\n",
      "-rw-r--r-- 1 fito fito     1285 out 15 16:07  Dica-00x-Dashboard.ipynb\r\n",
      "-rw-r--r-- 1 fito fito    72137 out 15 16:07  Dica-010-Wolfram.ipynb\r\n",
      "-rw-r--r-- 1 fito fito    86824 out 15 16:07  Dica-011-Pandas.ipynb\r\n",
      "-rw-r--r-- 1 fito fito    69447 out 15 16:07  Dica-012-Vídeos.ipynb\r\n",
      "-rw-r--r-- 1 fito fito   369966 out 15 16:07  Dica-013-RecurrencePlot.ipynb\r\n",
      "-rw-r--r-- 1 fito fito    70782 out 15 16:30  Dica-014-Bash.ipynb\r\n",
      "-rw-r--r-- 1 fito fito     4595 out 15 16:07  images.png\r\n",
      "-rw-r--r-- 1 fito fito      367 out 15 16:07  img-example.png\r\n",
      "-rw-r--r-- 1 fito fito    71199 out 15 16:07  Insper-Atividade-V.ipynb\r\n",
      "-rw-r--r-- 1 fito fito 58550366 out 15 16:07  Insper-Dica-010.nb\r\n",
      "-rw-r--r-- 1 fito fito 23131557 out 15 16:07  Insper-Dica-010.pdf\r\n",
      "-rw-r--r-- 1 fito fito     2299 out 15 16:07 'New File Type.ipynb'\r\n",
      "-rw-r--r-- 1 fito fito     9728 out 15 16:07  planilha01.xls\r\n",
      "-rw-r--r-- 1 fito fito     9728 out 15 16:07  planilha02.xls\r\n",
      "-rw-r--r-- 1 fito fito     9728 out 15 16:07  planilha03.xls\r\n",
      "-rw-r--r-- 1 fito fito   279592 out 15 16:07  planilha04.png\r\n",
      "-rw-r--r-- 1 fito fito   187392 out 15 16:07  planilha04.xls\r\n",
      "-rw-r--r-- 1 fito fito     5468 out 15 16:07  planilha05.xlsx\r\n",
      "-rw-r--r-- 1 fito fito   136055 out 15 16:07  planilha06.xlsx\r\n",
      "-rw-r--r-- 1 fito fito    11683 out 15 16:07  planilha07.xlsx\r\n",
      "-rw-r--r-- 1 fito fito   171351 out 15 16:07  planilha08.jpg\r\n",
      "-rw-r--r-- 1 fito fito   101880 out 15 16:07  planilha08.xlsx\r\n",
      "-rw-r--r-- 1 fito fito      550 out 15 16:07  README.md\r\n",
      "-rw-r--r-- 1 fito fito     8657 out 15 16:07  yfd.csv\r\n"
     ]
    }
   ],
   "source": [
    "!ls -l"
   ]
  },
  {
   "cell_type": "markdown",
   "metadata": {},
   "source": [
    "Para exibir o diretório (pasta) atual **pwd**"
   ]
  },
  {
   "cell_type": "code",
   "execution_count": 6,
   "metadata": {},
   "outputs": [
    {
     "name": "stdout",
     "output_type": "stream",
     "text": [
      "/home/fito/work/Insper/Insper-DS-Dicas\r\n"
     ]
    }
   ],
   "source": [
    "!pwd"
   ]
  },
  {
   "cell_type": "markdown",
   "metadata": {},
   "source": [
    "Temos também o comando **cal** para exibir o calendário ou **date** para exibir o dia"
   ]
  },
  {
   "cell_type": "code",
   "execution_count": 4,
   "metadata": {},
   "outputs": [
    {
     "name": "stdout",
     "output_type": "stream",
     "text": [
      "    Outubro 2020      \r\n",
      "do se te qu qu se sá  \r\n",
      "             1  2  3  \r\n",
      " 4  5  6  7  8  9 10  \r\n",
      "11 12 13 14 \u001b[7m15\u001b[m 16 17  \r\n",
      "18 19 20 21 22 23 24  \r\n",
      "25 26 27 28 29 30 31  \r\n",
      "                      \r\n"
     ]
    }
   ],
   "source": [
    "!cal"
   ]
  },
  {
   "cell_type": "code",
   "execution_count": 5,
   "metadata": {
    "scrolled": false
   },
   "outputs": [
    {
     "name": "stdout",
     "output_type": "stream",
     "text": [
      "qui out 15 16:31:20 -03 2020\r\n"
     ]
    }
   ],
   "source": [
    "!date"
   ]
  },
  {
   "cell_type": "markdown",
   "metadata": {},
   "source": [
    "Vamos baixar os micro dados do INEP:\n",
    "- http://portal.inep.gov.br/web/guest/microdados\n",
    "    \n",
    "Na pasta inep    "
   ]
  },
  {
   "cell_type": "code",
   "execution_count": 10,
   "metadata": {
    "scrolled": true
   },
   "outputs": [
    {
     "name": "stdout",
     "output_type": "stream",
     "text": [
      "--2020-10-15 16:46:19--  http://download.inep.gov.br/microdados/microdados_educacao_superior_2018.zip\n",
      "Resolvendo download.inep.gov.br (download.inep.gov.br)... 200.130.24.15\n",
      "Conectando-se a download.inep.gov.br (download.inep.gov.br)|200.130.24.15|:80... conectado.\n",
      "A requisição HTTP foi enviada, aguardando resposta... 200 OK\n",
      "Tamanho: 483256124 (461M) [application/zip]\n",
      "Salvando em: “inep/microdados_educacao_superior_2018.zip”\n",
      "\n",
      "microdados_educacao 100%[===================>] 460,87M  2,89MB/s    em 5m 2s   \n",
      "\n",
      "2020-10-15 16:51:22 (1,53 MB/s) - “inep/microdados_educacao_superior_2018.zip” salvo [483256124/483256124]\n",
      "\n"
     ]
    }
   ],
   "source": [
    "!wget -P inep http://download.inep.gov.br/microdados/microdados_educacao_superior_2018.zip "
   ]
  },
  {
   "cell_type": "markdown",
   "metadata": {},
   "source": [
    "Listar o arquivo da pasta inep"
   ]
  },
  {
   "cell_type": "code",
   "execution_count": 15,
   "metadata": {},
   "outputs": [
    {
     "name": "stdout",
     "output_type": "stream",
     "text": [
      "microdados_educacao_superior_2018.zip\r\n"
     ]
    }
   ],
   "source": [
    "!ls inep"
   ]
  },
  {
   "cell_type": "markdown",
   "metadata": {},
   "source": [
    "Descompactar os arquivos"
   ]
  },
  {
   "cell_type": "code",
   "execution_count": 29,
   "metadata": {
    "scrolled": true
   },
   "outputs": [
    {
     "name": "stdout",
     "output_type": "stream",
     "text": [
      "Archive:  inep/microdados_educacao_superior_2018.zip\n",
      "   creating: microdados_ed_superior_2018/\n",
      "   creating: microdados_ed_superior_2018/anexos/\n",
      "   creating: microdados_ed_superior_2018/anexos/ANEXO I - Dicionаrio de Variаveis e Tabelas Auxiliares/\n",
      "  inflating: microdados_ed_superior_2018/anexos/ANEXO I - Dicionаrio de Variаveis e Tabelas Auxiliares/Cвdigo_do_Paбs_de_Nascimento_ou_NaturalizaЗ╞o.xlsx  \n",
      "  inflating: microdados_ed_superior_2018/anexos/ANEXO I - Dicionаrio de Variаveis e Tabelas Auxiliares/Dicionаrio de Variаveis.xls  \n",
      "   creating: microdados_ed_superior_2018/anexos/ANEXO II - Questionаrios do Censo da EducaЗ╞o Superior/\n",
      "  inflating: microdados_ed_superior_2018/anexos/ANEXO II - Questionаrios do Censo da EducaЗ╞o Superior/ANEXO II - MрDULO ALUNO 2018.pdf  \n",
      "  inflating: microdados_ed_superior_2018/anexos/ANEXO II - Questionаrios do Censo da EducaЗ╞o Superior/ANEXO II - MрDULO CURSO 2018.pdf  \n",
      "  inflating: microdados_ed_superior_2018/anexos/ANEXO II - Questionаrios do Censo da EducaЗ╞o Superior/ANEXO II - MрDULO DOCENTE 2018.pdf  \n",
      "  inflating: microdados_ed_superior_2018/anexos/ANEXO II - Questionаrios do Censo da EducaЗ╞o Superior/ANEXO II - MрDULO IES 2018.pdf  \n",
      "   creating: microdados_ed_superior_2018/dados/\n",
      "  inflating: microdados_ed_superior_2018/dados/DM_ALUNO.CSV  \n",
      "  inflating: microdados_ed_superior_2018/dados/DM_CURSO.CSV  \n",
      "  inflating: microdados_ed_superior_2018/dados/DM_DOCENTE.CSV  \n",
      "  inflating: microdados_ed_superior_2018/dados/DM_IES.CSV  \n",
      "  inflating: microdados_ed_superior_2018/dados/DM_LOCAL_OFERTA.CSV  \n",
      "  inflating: microdados_ed_superior_2018/dados/MD5_microdados_ed_superior_2018.txt  \n",
      "  inflating: microdados_ed_superior_2018/dados/TB_AUX_CINE_BRASIL.CSV  \n",
      "   creating: microdados_ed_superior_2018/filtros/\n",
      "  inflating: microdados_ed_superior_2018/filtros/Filtros Censo Ed Superior 2018.pdf  \n",
      "   creating: microdados_ed_superior_2018/leia-me/\n",
      "  inflating: microdados_ed_superior_2018/leia-me/Leia_me Superior_2018.pdf  \n",
      "  inflating: microdados_ed_superior_2018/leia-me/Nota_informativa.pdf  \n"
     ]
    }
   ],
   "source": [
    "!unzip inep/microdados_educacao_superior_2018.zip"
   ]
  },
  {
   "cell_type": "markdown",
   "metadata": {},
   "source": [
    "Listar os arquivos de dados"
   ]
  },
  {
   "cell_type": "code",
   "execution_count": 30,
   "metadata": {
    "scrolled": true
   },
   "outputs": [
    {
     "name": "stdout",
     "output_type": "stream",
     "text": [
      "DM_ALUNO.CSV\tDM_IES.CSV\t\t\t     TB_AUX_CINE_BRASIL.CSV\r\n",
      "DM_CURSO.CSV\tDM_LOCAL_OFERTA.CSV\r\n",
      "DM_DOCENTE.CSV\tMD5_microdados_ed_superior_2018.txt\r\n"
     ]
    }
   ],
   "source": [
    "!ls microdados_ed_superior_2018/dados"
   ]
  },
  {
   "cell_type": "markdown",
   "metadata": {},
   "source": [
    "Inspecionar o inicio do arquivo de alunos"
   ]
  },
  {
   "cell_type": "code",
   "execution_count": 32,
   "metadata": {
    "scrolled": true
   },
   "outputs": [
    {
     "name": "stdout",
     "output_type": "stream",
     "text": [
      "NU_ANO_CENSO|CO_IES|TP_CATEGORIA_ADMINISTRATIVA|TP_ORGANIZACAO_ACADEMICA|CO_CURSO|CO_CURSO_POLO|TP_TURNO|TP_GRAU_ACADEMICO|TP_MODALIDADE_ENSINO|TP_NIVEL_ACADEMICO|CO_CINE_ROTULO|ID_ALUNO|CO_ALUNO_CURSO|CO_ALUNO_CURSO_ORIGEM|TP_COR_RACA|TP_SEXO|NU_ANO_NASCIMENTO|NU_MES_NASCIMENTO|NU_DIA_NASCIMENTO|NU_IDADE|TP_NACIONALIDADE|CO_PAIS_ORIGEM|CO_UF_NASCIMENTO|CO_MUNICIPIO_NASCIMENTO|IN_DEFICIENCIA|IN_DEFICIENCIA_AUDITIVA|IN_DEFICIENCIA_FISICA|IN_DEFICIENCIA_INTELECTUAL|IN_DEFICIENCIA_MULTIPLA|IN_DEFICIENCIA_SURDEZ|IN_DEFICIENCIA_SURDOCEGUEIRA|IN_DEFICIENCIA_BAIXA_VISAO|IN_DEFICIENCIA_CEGUEIRA|IN_DEFICIENCIA_SUPERDOTACAO|IN_TGD_AUTISMO|IN_TGD_SINDROME_ASPERGER|IN_TGD_SINDROME_RETT|IN_TGD_TRANSTOR_DESINTEGRATIVO|TP_SITUACAO|QT_CARGA_HORARIA_TOTAL|QT_CARGA_HORARIA_INTEG|DT_INGRESSO_CURSO|IN_INGRESSO_VESTIBULAR|IN_INGRESSO_ENEM|IN_INGRESSO_AVALIACAO_SERIADA|IN_INGRESSO_SELECAO_SIMPLIFICA|IN_INGRESSO_OUTRO_TIPO_SELECAO|IN_INGRESSO_VAGA_REMANESC|IN_INGRESSO_VAGA_PROG_ESPECIAL|IN_INGRESSO_TRANSF_EXOFFICIO|IN_INGRESSO_DECISAO_JUDICIAL|IN_INGRESSO_CONVENIO_PECG|IN_INGRESSO_EGRESSO|IN_INGRESSO_OUTRA_FORMA|IN_RESERVA_VAGAS|IN_RESERVA_ETNICO|IN_RESERVA_DEFICIENCIA|IN_RESERVA_ENSINO_PUBLICO|IN_RESERVA_RENDA_FAMILIAR|IN_RESERVA_OUTRA|IN_FINANCIAMENTO_ESTUDANTIL|IN_FIN_REEMB_FIES|IN_FIN_REEMB_ESTADUAL|IN_FIN_REEMB_MUNICIPAL|IN_FIN_REEMB_PROG_IES|IN_FIN_REEMB_ENT_EXTERNA|IN_FIN_REEMB_OUTRA|IN_FIN_NAOREEMB_PROUNI_INTEGR|IN_FIN_NAOREEMB_PROUNI_PARCIAL|IN_FIN_NAOREEMB_ESTADUAL|IN_FIN_NAOREEMB_MUNICIPAL|IN_FIN_NAOREEMB_PROG_IES|IN_FIN_NAOREEMB_ENT_EXTERNA|IN_FIN_NAOREEMB_OUTRA|IN_APOIO_SOCIAL|IN_APOIO_ALIMENTACAO|IN_APOIO_BOLSA_PERMANENCIA|IN_APOIO_BOLSA_TRABALHO|IN_APOIO_MATERIAL_DIDATICO|IN_APOIO_MORADIA|IN_APOIO_TRANSPORTE|IN_ATIVIDADE_EXTRACURRICULAR|IN_COMPLEMENTAR_ESTAGIO|IN_COMPLEMENTAR_EXTENSAO|IN_COMPLEMENTAR_MONITORIA|IN_COMPLEMENTAR_PESQUISA|IN_BOLSA_ESTAGIO|IN_BOLSA_EXTENSAO|IN_BOLSA_MONITORIA|IN_BOLSA_PESQUISA|TP_ESCOLA_CONCLUSAO_ENS_MEDIO|IN_ALUNO_PARFOR|TP_SEMESTRE_CONCLUSAO|TP_SEMESTRE_REFERENCIA|IN_MOBILIDADE_ACADEMICA|TP_MOBILIDADE_ACADEMICA|TP_MOBILIDADE_ACADEMICA_INTERN|CO_IES_DESTINO|CO_PAIS_DESTINO|IN_MATRICULA|IN_CONCLUINTE|IN_INGRESSO_TOTAL|IN_INGRESSO_VAGA_NOVA|IN_INGRESSO_PROCESSO_SELETIVO|NU_ANO_INGRESSO\r\n",
      "2018|1|1|1|1||3|1|1|1|0421D01|2ECD7C9BEA7DCEBC31B9F2874D454F71|76445203||2|1|1992|9|30|26|1|76|||9||||||||||||||2|3700|2910|01JAN2017:00:00:00|0|0|0|0||0|0|1|0|0|0||0||||||||||||||||||||0|||||||1|0|1|0|0||0|||1|||2|0|||||1|0|0|0||2017\r\n",
      "2018|1|1|1|1||3|1|1|1|0421D01|2A9470AC3FC03AD130954809A84BC7D4|76448482||3|2|1987|6|8|31|1|76|||9||||||||||||||3|3700|960|01JAN2016:00:00:00|0|1|0|0||0|0|0|0|0|0||1|1|0|1|0|0|||||||||||||||0|||||||0|||||||||1|||2||||||0|0|0|0||2016\r\n",
      "2018|1|1|1|1||3|1|1|1|0421D01|3EA3DF175677D93C4FDD47865E89B92A|76484508||3|2|1988|1|13|30|1|76|||9||||||||||||||2|3700|1800|01JAN2012:00:00:00|0|1|0|0||0|0|0|0|0|0||1|0|0|1|0|0|||||||||||||||0|||||||0|||||||||1|||2|0|||||1|0|0|0||2012\r\n",
      "2018|1|1|1|1||3|1|1|1|0421D01|E535A93D94430667B67D180C506CCB66|76485260||2|1|1988|10|3|30|1|76|||9||||||||||||||3|3700|0|01JAN2015:00:00:00|0|1|0|0||0|0|0|0|0|0||1|1|0|1|0|0|||||||||||||||0|||||||0|||||||||1|||2||||||0|0|0|0||2015\r\n",
      "2018|1|1|1|1||3|1|1|1|0421D01|EF1C01E9B84BEB8D6AA9702F59A90410|76449602||3|2|1977|4|8|41|1|76|||9||||||||||||||2|3700|2670|01JAN2013:00:00:00|0|1|0|0||0|0|0|0|0|0||0||||||||||||||||||||0|||||||0|||||||||1|||2|0|||||1|0|0|0||2013\r\n",
      "2018|1|1|1|1||3|1|1|1|0421D01|E92DBC6D54AD8AC7419AC6818C9D4C3B|76471898||2|1|1975|2|26|43|1|76|||9||||||||||||||2|3700|2670|01JAN2012:00:00:00|0|1|0|0||0|0|0|0|0|0||0||||||||||||||||||||0|||||||0|||||||||1|||2|0|||||1|0|0|0||2012\r\n",
      "2018|1|1|1|1||1|1|1|1|0421D01|442253EDCC14C59DA844B46DE6BFC49C|76471899||3|2|1990|1|26|28|1|76|||9||||||||||||||2|3700|3420|01JAN2015:00:00:00|0|1|0|0||0|0|0|0|0|0||1|1|0|1|0|0|||||||||||||||0|||||||0|||||||||1|||2|0|||||1|0|0|0||2015\r\n",
      "2018|1|1|1|1||3|1|1|1|0421D01|0617FBEA7F8A7FE095AC7A425DB9C365|76484877||1|1|1990|6|24|28|1|76|||9||||||||||||||3|3700|180|01JAN2017:00:00:00|0|1|0|0||0|0|0|0|0|0||1|0|0|1|0|0|||||||||||||||0|||||||0|||||||||1|||2||||||0|0|0|0||2017\r\n",
      "2018|1|1|1|1||3|1|1|1|0421D01|023771AFF243E3A6682FE1F2E7186C54|76472660||3|2|1981|6|11|37|1|76|||9||||||||||||||6|3700|4265|01JAN2015:00:00:00|0|0|0|0||0|0|1|0|0|0||0||||||||||||||||||||0|||||||0|||||||||1|||2|0|||||1|1|0|0||2015\r\n"
     ]
    }
   ],
   "source": [
    "!head microdados_ed_superior_2018/dados/DM_ALUNO.CSV"
   ]
  },
  {
   "cell_type": "markdown",
   "metadata": {},
   "source": [
    "Inspecionarl o final do arquivo de doscentes"
   ]
  },
  {
   "cell_type": "code",
   "execution_count": 34,
   "metadata": {
    "scrolled": true
   },
   "outputs": [
    {
     "name": "stdout",
     "output_type": "stream",
     "text": [
      "2018|23700|2|3|950471|34CB34304EA20BCC7D30C365B9E2CC7A|1|4|4|2|1979|8|25|39|0|76|1|35|3553708|0|||||||||0|0|0|1|0|0|0|0||0|1|0|\r\n",
      "2018|23705|2|3|637226|6BEB68BCF9668C19A037E7A40C3B95D1|1|5|4|2|1959|12|12|59|1|76|1|35|3555109|0|||||||||0|0|0|1|0|0|0|0||0|1|0|\r\n",
      "2018|23705|2|3|637212|27B98A75DF8DACA3AD2FED447F04072C|1|5|4|2|1971|8|18|47|1|76|1|||0|||||||||0|0|0|1|0|0|0|0||0|1|0|\r\n",
      "2018|23705|2|3|350170|FF234441F0175D7F91D46367949433F7|1|5|4|1|1972|4|9|46|1|76|1|35|3550308|0|||||||||0|0|0|1|0|0|0|0||0|1|0|\r\n",
      "2018|23705|2|3|637210|494CCD83C6997B270F019C9457B67A68|1|4|4|2|1958|7|11|60|1|76|1|||0|||||||||0|0|0|1|0|0|0|0||0|1|0|\r\n",
      "2018|23705|2|3|637224|3B78D27A87040F5298F6F5D52A92297E|1|4|4|2|1973|11|27|45|0|76|1|35|3507506|0|||||||||0|0|0|1|0|0|0|0||0|1|0|\r\n",
      "2018|23705|2|3|637234|48C09A30B15AEEF29851BCF69B949967|1|5|4|1|1979|12|12|39|1|76|1|35|3550308|0|||||||||0|0|0|1|0|0|0|0||0|1|0|\r\n",
      "2018|23705|2|3|350157|D0DC0D3206DDA554FC04EBD20243DD1E|1|5|4|1|1965|10|18|53|1|76|1|31|3170206|0|||||||||0|0|0|1|0|0|0|0||0|1|0|\r\n",
      "2018|23705|2|3|636957|95CC49CEB8B27CEE4271EFBE7B438E17|1|5|4|2|1955|11|13|63|0|76|1|35|3538709|0|||||||||0|0|0|1|0|0|0|0||0|1|0|\r\n",
      "2018|23705|2|3|698158|11858BEAB3CD3B904DAA4E3313E1645A|1|4|4|2|1969|4|14|49|0|76|1|35|3550308|0|||||||||0|0|0|1|0|0|0|0||0|1|0|\r\n"
     ]
    }
   ],
   "source": [
    "!tail microdados_ed_superior_2018/dados/DM_DOCENTE.CSV"
   ]
  },
  {
   "cell_type": "markdown",
   "metadata": {},
   "source": [
    "Note que o separador dos campos é o caracter **|**"
   ]
  },
  {
   "cell_type": "markdown",
   "metadata": {},
   "source": [
    "Vamos ver quantos cursos de ENGENHARIA temos..."
   ]
  },
  {
   "cell_type": "code",
   "execution_count": 35,
   "metadata": {},
   "outputs": [
    {
     "name": "stdout",
     "output_type": "stream",
     "text": [
      "ABI - ENGENHARIA\r\n",
      "ABI - ENGENHARIA DE MINAS\r\n",
      "Arquivo binário (entrada padrão) coincide com o padrão\r\n",
      "ENGENHARIA\r\n",
      "ENGENHARIA AEROESPACIAL\r\n",
      "ENGENHARIA AMBIENTAL\r\n",
      "ENGENHARIA AMBIENTAL E DA SUSTENTABILIDADE\r\n",
      "ENGENHARIA AMBIENTAL E URBANA\r\n",
      "ENGENHARIA AUTOMOTIVA\r\n",
      "ENGENHARIA CIVIL\r\n",
      "ENGENHARIA CIVIL DA MOBILIDADE\r\n",
      "ENGENHARIA CIVIL DE INFRAESTRUTURA\r\n",
      "ENGENHARIA CIVIL E AMBIENTAL\r\n",
      "ENGENHARIA CIVIL EMPRESARIAL\r\n",
      "ENGENHARIA COMPUTACIONAL\r\n",
      "ENGENHARIA DA MOBILIDADE\r\n",
      "ENGENHARIA DE AGRIMENSURA\r\n",
      "ENGENHARIA DE ALIMENTOS\r\n",
      "ENGENHARIA DE AQUICULTURA\r\n",
      "ENGENHARIA DE BIOPROCESSOS\r\n",
      "ENGENHARIA DE BIOPROCESSOS E BIOTECNOLOGIA\r\n",
      "ENGENHARIA DE BIOSSISTEMAS\r\n",
      "ENGENHARIA DE BIOTECNOLOGIA\r\n",
      "ENGENHARIA DE BIOTECNOLOGIA E BIOPROCESSOS\r\n",
      "ENGENHARIA DE ENERGIA\r\n",
      "ENGENHARIA DE ENERGIAS\r\n",
      "ENGENHARIA DE MANUFATURA\r\n",
      "ENGENHARIA DE MATERIAIS\r\n",
      "ENGENHARIA DE MATERIAIS E MANUFATURA\r\n",
      "ENGENHARIA DE MATERIAIS E NANOTECNOLOGIA\r\n",
      "ENGENHARIA DE MINAS\r\n",
      "ENGENHARIA DE MINAS E MEIO AMBIENTE\r\n",
      "ENGENHARIA DE PESCA\r\n",
      "ENGENHARIA DE PRODUCAO - HABILITACAO MECANICA\r\n",
      "ENGENHARIA DE SISTEMAS\r\n",
      "ENGENHARIA DE SOFTWARE\r\n",
      "ENGENHARIA DE TRANSPORTES\r\n",
      "ENGENHARIA EM ENERGIA\r\n",
      "ENGENHARIA FLORESTAL\r\n",
      "ENGENHARIA INDUSTRIAL\r\n",
      "ENGENHARIA INDUSTRIAL MADEIREIRA\r\n",
      "ENGENHARIA NAVAL\r\n",
      "ENGENHARIA NUCLEAR\r\n",
      "ENGENHARIA SANITARIA E AMBIENTAL\r\n",
      "ENGENHARIA URBANA\r\n",
      "TECNOLOGIA EM ENGENHARIA\r\n"
     ]
    }
   ],
   "source": [
    "!cut -d'|' -f10 < microdados_ed_superior_2018/dados/DM_CURSO.CSV | grep ENGENHARIA | sort | uniq"
   ]
  },
  {
   "cell_type": "markdown",
   "metadata": {},
   "source": [
    "Referências:\n",
    "    \n",
    "- Bash: https://books.goalkicker.com/BashBook/\n",
    "- Linux: https://books.goalkicker.com/LinuxBook/\n",
    "- Bash: https://pt.wikipedia.org/wiki/Bash\n",
    "- GNU Bash: https://www.gnu.org/software/bash/"
   ]
  }
 ],
 "metadata": {
  "kernelspec": {
   "display_name": "Python 3",
   "language": "python",
   "name": "python3"
  },
  "language_info": {
   "codemirror_mode": {
    "name": "ipython",
    "version": 3
   },
   "file_extension": ".py",
   "mimetype": "text/x-python",
   "name": "python",
   "nbconvert_exporter": "python",
   "pygments_lexer": "ipython3",
   "version": "3.6.13"
  }
 },
 "nbformat": 4,
 "nbformat_minor": 2
}
