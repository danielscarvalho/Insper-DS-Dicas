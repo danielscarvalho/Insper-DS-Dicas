{
 "cells": [
  {
   "cell_type": "markdown",
   "metadata": {},
   "source": [
    "<img width=\"200\" style=\"float:right\" src=\"https://github.com/danielscarvalho/Insper-DS-Dicas/blob/master/Insper-Logo.png?raw=true\">"
   ]
  },
  {
   "cell_type": "markdown",
   "metadata": {},
   "source": [
    "# Computação para Ciências dos Dados\n",
    "\n",
    "<sub><a href=\"https://www.insper.edu.br/pos-graduacao/programas-avancados/programa-avancado-em-data-science-e-decisao/\">PÓS-\n",
    "GRADUAÇÃO EM DATA SCIENCE E DECISÃO</a></sub>\n",
    "\n",
    "## Dica do Dia: 023\n",
    "\n",
    "Planilhas são amplamente utilizadas nas empresas, muitas decisões de negócios são tomadas com informações processadas nas infames planilhas.\n",
    "\n",
    "Há grandes riscos que devem ser conhecidos! Um deles é a propagação de erro, por conta da representação de máquina de valores ponto flutuante (float, double, etc...)\n",
    "\n",
    "> Fiz consultoria em uma empresa onde a equipe chamava o SAP de \"Sistema de Apoio a Planilha\"!"
   ]
  },
  {
   "cell_type": "markdown",
   "metadata": {},
   "source": [
    "Neste exemplo, vamos usar uma fórmula simples:\n",
    "\n",
    "11*x-2 onde x em sua condição inicial é 0.2, por 25 passos"
   ]
  },
  {
   "cell_type": "code",
   "execution_count": 10,
   "metadata": {},
   "outputs": [
    {
     "data": {
      "text/plain": [
       "[0.20000000000000018,\n",
       " 0.20000000000000195,\n",
       " 0.2000000000000215,\n",
       " 0.20000000000023643,\n",
       " 0.20000000000260076,\n",
       " 0.2000000000286084,\n",
       " 0.20000000031469245,\n",
       " 0.20000000346161695,\n",
       " 0.20000003807778644,\n",
       " 0.20000041885565079,\n",
       " 0.20000460741215864,\n",
       " 0.20005068153374506,\n",
       " 0.20055749687119562,\n",
       " 0.2061324655831518,\n",
       " 0.2674571214146697,\n",
       " 0.9420283355613668,\n",
       " 8.362311691175034,\n",
       " 89.98542860292537,\n",
       " 987.839714632179,\n",
       " 10864.23686095397,\n",
       " 119504.60547049367,\n",
       " 1314548.6601754304,\n",
       " 14460033.261929734,\n",
       " 159060363.88122708]"
      ]
     },
     "execution_count": 10,
     "metadata": {},
     "output_type": "execute_result"
    }
   ],
   "source": [
    "info = [] #acumulador\n",
    "val = .2  #condição inicial\n",
    "\n",
    "for i in range(24):\n",
    "   val = 11*val-2\n",
    "   info.append(val)\n",
    "    \n",
    "info"
   ]
  },
  {
   "cell_type": "code",
   "execution_count": 11,
   "metadata": {},
   "outputs": [
    {
     "data": {
      "text/plain": [
       "24"
      ]
     },
     "execution_count": 11,
     "metadata": {},
     "output_type": "execute_result"
    }
   ],
   "source": [
    "len(info)"
   ]
  },
  {
   "cell_type": "markdown",
   "metadata": {},
   "source": [
    "Agora vamos ver como fica na planilha, Calc do Libre Office:"
   ]
  },
  {
   "cell_type": "markdown",
   "metadata": {},
   "source": [
    "![](img/planilha-calc-erro.png)"
   ]
  },
  {
   "cell_type": "markdown",
   "metadata": {},
   "source": [
    "E agora no Google Sheets online:\n",
    "    \n",
    "![](img/planilha-calc-erro-google.png)"
   ]
  },
  {
   "cell_type": "markdown",
   "metadata": {},
   "source": [
    "Tanto o resultado do Python, quando do Calc e do Google Sheets estão errados!! O valor deve ser sempre em torno de 0.2...\n",
    "\n",
    "No Excel temos o mesmo erro...\n",
    "\n",
    "Veja abaixo em Wolfram Language...\n",
    "\n",
    "![](img/planilha-calc-erro-wl.png)"
   ]
  },
  {
   "cell_type": "markdown",
   "metadata": {},
   "source": [
    "Este erro que é propagado em uma função recursiva (sistema dinâmico) o que não ocorre em Wolfram Language, além do cálculo numérico ser feito corretamente, o sistema avisa que não há mais dados (digitos) significativos sendo processado. Veja abaixo, lado a lado, o resultado da planilha e do código em Wolfram Language:"
   ]
  },
  {
   "cell_type": "markdown",
   "metadata": {},
   "source": [
    "<img src=\"https://images.squarespace-cdn.com/content/v1/52fd69d0e4b01d4da24bfea9/1601997436738-8T8A46NKQOOG15WPDGE2/MPDSMOOCArtboard+3%402x.png?format=1000w\" width=\"600px\">"
   ]
  },
  {
   "cell_type": "markdown",
   "metadata": {},
   "source": [
    "Referência:\n",
    "\n",
    "https://www.conradwolfram.com/writings/covid19-excel07"
   ]
  }
 ],
 "metadata": {
  "kernelspec": {
   "display_name": "Python 3 (ipykernel)",
   "language": "python",
   "name": "python3"
  },
  "language_info": {
   "codemirror_mode": {
    "name": "ipython",
    "version": 3
   },
   "file_extension": ".py",
   "mimetype": "text/x-python",
   "name": "python",
   "nbconvert_exporter": "python",
   "pygments_lexer": "ipython3",
   "version": "3.9.12"
  }
 },
 "nbformat": 4,
 "nbformat_minor": 2
}
