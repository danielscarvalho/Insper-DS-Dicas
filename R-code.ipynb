{
 "cells": [
  {
   "cell_type": "markdown",
   "id": "83f5e4c2-ed20-42f8-ad06-6e3a0739cf2d",
   "metadata": {},
   "source": [
    "# R on Jupyter Notebook!!"
   ]
  },
  {
   "cell_type": "code",
   "execution_count": 1,
   "id": "b0e7e5ff-b4b6-455b-84ee-6558554dfb87",
   "metadata": {},
   "outputs": [
    {
     "data": {
      "text/html": [
       "6.6"
      ],
      "text/latex": [
       "6.6"
      ],
      "text/markdown": [
       "6.6"
      ],
      "text/plain": [
       "[1] 6.6"
      ]
     },
     "metadata": {},
     "output_type": "display_data"
    }
   ],
   "source": [
    "33/5"
   ]
  },
  {
   "cell_type": "code",
   "execution_count": 2,
   "id": "77f7e562-b4ed-4748-9ac3-49c4b736a4b6",
   "metadata": {},
   "outputs": [
    {
     "data": {
      "text/plain": [
       "               _                           \n",
       "platform       x86_64-conda-linux-gnu      \n",
       "arch           x86_64                      \n",
       "os             linux-gnu                   \n",
       "system         x86_64, linux-gnu           \n",
       "status                                     \n",
       "major          4                           \n",
       "minor          3.1                         \n",
       "year           2023                        \n",
       "month          06                          \n",
       "day            16                          \n",
       "svn rev        84548                       \n",
       "language       R                           \n",
       "version.string R version 4.3.1 (2023-06-16)\n",
       "nickname       Beagle Scouts               "
      ]
     },
     "metadata": {},
     "output_type": "display_data"
    }
   ],
   "source": [
    "version"
   ]
  },
  {
   "cell_type": "code",
   "execution_count": null,
   "id": "cceeb197-20ed-401a-846b-f306ec20bd62",
   "metadata": {},
   "outputs": [],
   "source": []
  }
 ],
 "metadata": {
  "kernelspec": {
   "display_name": "R",
   "language": "R",
   "name": "ir"
  },
  "language_info": {
   "codemirror_mode": "r",
   "file_extension": ".r",
   "mimetype": "text/x-r-source",
   "name": "R",
   "pygments_lexer": "r",
   "version": "4.3.1"
  }
 },
 "nbformat": 4,
 "nbformat_minor": 5
}
