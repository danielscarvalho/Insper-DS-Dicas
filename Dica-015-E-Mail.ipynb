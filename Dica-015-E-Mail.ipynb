{
 "cells": [
  {
   "cell_type": "markdown",
   "metadata": {},
   "source": [
    "<img width=\"200\" style=\"float:right\" src=\"https://github.com/danielscarvalho/Insper-DS-Dicas/blob/master/Insper-Logo.png?raw=true\">"
   ]
  },
  {
   "cell_type": "markdown",
   "metadata": {},
   "source": [
    "# Computação para Ciências dos Dados\n",
    "\n",
    "<sub><a href=\"https://www.insper.edu.br/pos-graduacao/programas-avancados/programa-avancado-em-data-science-e-decisao/\">PÓS-\n",
    "GRADUAÇÃO EM DATA SCIENCE E DECISÃO</a></sub>\n",
    "\n",
    "## Dica do Dia: 015\n",
    "\n",
    "O objetivo desta dica do dia é aprender enviar e-mails de forma automatizada!\n",
    "\n",
    "NÃO FAÇA SPAM (https://en.wikipedia.org/wiki/Email_spam)\n",
    "\n",
    "### E-Mail\n",
    "\n",
    "Os sistema de E-Mail foi criado nos primordios da Internet, e é uma ferramenta acadêmica e corporativa extremamente importante nos dias de hoje.\n",
    "\n",
    "Podemos automatizar o envio de E-Mails com Python.\n",
    "\n",
    "Don't be evil 👿 - https://en.wikipedia.org/wiki/Don%27t_be_evil"
   ]
  },
  {
   "cell_type": "code",
   "execution_count": null,
   "metadata": {},
   "outputs": [],
   "source": [
    "import smtplib\n",
    "import datetime"
   ]
  },
  {
   "cell_type": "code",
   "execution_count": null,
   "metadata": {},
   "outputs": [],
   "source": [
    "server = smtplib.SMTP(\"smtp.gmail.com\", 587)"
   ]
  },
  {
   "cell_type": "code",
   "execution_count": null,
   "metadata": {},
   "outputs": [],
   "source": [
    "#SSL/TLS secure connection\n",
    "\n",
    "server.starttls()"
   ]
  },
  {
   "cell_type": "code",
   "execution_count": null,
   "metadata": {},
   "outputs": [],
   "source": [
    "server.login(\"danielscarvalho@gmail.com\",\"mysecretpassword\")"
   ]
  },
  {
   "cell_type": "code",
   "execution_count": null,
   "metadata": {},
   "outputs": [],
   "source": [
    "now = datetime.datetime.now()\n",
    "timestamp = now.strftime(\"%d-%b-%Y (%H:%M:%S.%f)\")"
   ]
  },
  {
   "cell_type": "code",
   "execution_count": null,
   "metadata": {},
   "outputs": [],
   "source": [
    "timestamp"
   ]
  },
  {
   "cell_type": "code",
   "execution_count": null,
   "metadata": {},
   "outputs": [],
   "source": [
    "FROM = 'danielscarvalho@gmail.com'\n",
    "TO = 'danielsc1@insper.edu.br'\n",
    "SUBJECT = 'The robot is here'\n",
    "MESSAGE = 'Subject:' + SUBJECT + ' \\n \\\n",
    "Hello from the robot!! 🤖 \\n' + timestamp"
   ]
  },
  {
   "cell_type": "code",
   "execution_count": null,
   "metadata": {},
   "outputs": [],
   "source": [
    "server.sendmail(FROM, TO, MESSAGE)"
   ]
  },
  {
   "cell_type": "markdown",
   "metadata": {},
   "source": [
    "Close session (connection) with the SMTP server"
   ]
  },
  {
   "cell_type": "code",
   "execution_count": null,
   "metadata": {},
   "outputs": [],
   "source": [
    "server.quit()"
   ]
  },
  {
   "cell_type": "markdown",
   "metadata": {},
   "source": [
    "A SMTP message é um texto simples, pode ser definido da seguite forma também:\n",
    "\n"
   ]
  },
  {
   "cell_type": "code",
   "execution_count": null,
   "metadata": {
    "scrolled": false
   },
   "outputs": [],
   "source": [
    "MESSAGE =  \"\"\"From: José Silva <js@insper.com.br>\n",
    "To: Maria Souza <ms@microsoft.com>\n",
    "MIME-Version: 1.0\n",
    "Content-type: text/html\n",
    "Subject: As 3 leis da robótica\n",
    "\n",
    "<p>As 3 leis da robótica, conforme Isaac Asimov:</p>\n",
    "\n",
    "<ol>\n",
    "<li>Um robô não pode ferir um humano ou permitir que um humano sofra algum mal;</li>\n",
    "<li>Os robôs devem obedecer às ordens dos humanos, exceto nos casos em que tais ordens entrem em conflito com a primeira lei;</li>\n",
    "<li>Um robô deve proteger sua própria existência, desde que não entre em conflito com as leis anteriores.</li>\n",
    "</ol>\n",
    "\"\"\"\n",
    "\n",
    "try:\n",
    "   smtpObj = smtplib.SMTP('localhost')\n",
    "   smtpObj.starttls()\n",
    "   smtpObj.login(\"danielscarvalho@gmail.com\",\"mysecretpassword\")\n",
    "   smtpObj.sendmail(MESSAGE)         \n",
    "   print(\"Successfully sent email\")\n",
    "except:\n",
    "   print(\"Error: unable to send email\")\n"
   ]
  },
  {
   "cell_type": "markdown",
   "metadata": {},
   "source": [
    "### Dicas\n",
    "\n",
    "- Você pode usar o servidor de e-mails (SMTP) da sua empresa ou do GMail por exemplo\n",
    "- Você pode enviar mensagens bem formatadas com imagens, etc em formato HTML com CSS\n",
    "- Você pode attachar arquivos\n",
    "\n",
    "Sobre SPAM\n",
    "\n",
    "- A mensagem deve ter um remetente e um destinatário\n",
    "- Evite incluir muitos destinatários no mesmo e-mail\n",
    "- Ferramentas de anti SPAM podem classificar sua mensagem como SPAM\n",
    "- Não envie muitas mensagens para o mesmo domínio de uma só vez, pode caracterizar como SPAM e o e-mail da sua empresa pode ser bloqueado do servidor ou cair em uma lista de domínios mal-intencionado\n",
    "- Informe no rodapé do e-mail sua política de privacidade (link) e uma opção para se descadastrar do serviço\n",
    "- Não mande nudes ;-)\n",
    "\n",
    "Há horários e dias da semana mais adequado para envio das mensagens:\n",
    "\n",
    "<img src=\"https://images.ctfassets.net/oqcgx0hzeqgm/72FKRojeckHJP2okGDsdQj/3e0093a1e82bc3b9ca6611f1a40436f8/Screenshot_2020-12-01_at_19.29.03.png\" width=\"600\">"
   ]
  },
  {
   "cell_type": "markdown",
   "metadata": {},
   "source": [
    "Para saber mais:\n",
    "\n",
    "- https://docs.python.org/3/library/smtplib.html\n",
    "- https://thispointer.com/python-how-to-get-current-date-and-time-or-timestamp/\n",
    "- https://www.tutorialspoint.com/python/python_sending_email.htm\n",
    "- https://www.mailgun.com/blog/best-time-to-send-emails-code/\n",
    "- https://solindo.com/account/index.php?rp=/knowledgebase/33/The-Best-Time-to-Send-Emails-Heres-What-Studies-Show.html"
   ]
  }
 ],
 "metadata": {
  "kernelspec": {
   "display_name": "Python 3",
   "language": "python",
   "name": "python3"
  },
  "language_info": {
   "codemirror_mode": {
    "name": "ipython",
    "version": 3
   },
   "file_extension": ".py",
   "mimetype": "text/x-python",
   "name": "python",
   "nbconvert_exporter": "python",
   "pygments_lexer": "ipython3",
   "version": "3.6.13"
  }
 },
 "nbformat": 4,
 "nbformat_minor": 2
}
