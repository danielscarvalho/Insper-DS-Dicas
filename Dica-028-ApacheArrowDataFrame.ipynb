{
 "cells": [
  {
   "cell_type": "markdown",
   "id": "a6bd1174-39ef-4efb-900b-080d4d29960a",
   "metadata": {},
   "source": [
    "<img width=\"200\" style=\"float:right\" src=\"https://github.com/danielscarvalho/Insper-DS-Dicas/blob/master/Insper-Logo.png?raw=true\">"
   ]
  },
  {
   "cell_type": "code",
   "execution_count": null,
   "id": "76b2870c-f60b-4741-a2ad-8f08d19148e2",
   "metadata": {},
   "outputs": [],
   "source": []
  },
  {
   "cell_type": "code",
   "execution_count": null,
   "id": "e4874601-a0d7-4ec1-932f-553dd016d738",
   "metadata": {},
   "outputs": [],
   "source": []
  },
  {
   "cell_type": "markdown",
   "id": "e6adf00d-2a52-4757-93a4-c0d60c42b3c0",
   "metadata": {},
   "source": [
    "# Computação para Ciências dos Dados\n",
    "\n",
    "<sub><a href=\"https://www.insper.edu.br/pos-graduacao/programas-avancados/data-science-e-decisao/\">PÓS-\n",
    "GRADUAÇÃO EM DATA SCIENCE E DECISÃO</a></sub>\n",
    "\n",
    "## Dica do Dia: 028"
   ]
  },
  {
   "cell_type": "markdown",
   "id": "9f40bdd4-ca6e-4d1e-9e67-5fc485334072",
   "metadata": {},
   "source": [
    "# Apache Arrow - Dataframe\n",
    "\n",
    "<pre style=\"background-color:lightgray; border: 5px;\">\n",
    "Apache Arrow is a development platform for in-memory analytics. It contains a set of technologies that enable big data systems to process and move data fast. It specifies a standardized language-independent columnar memory format for flat and hierarchical data, organized for efficient analytic operations on modern hardware.\n",
    "\n",
    "The project is developing a multi-language collection of libraries for solving systems problems related to in-memory analytical data processing. This includes such topics as:\n",
    "\n",
    "    Zero-copy shared memory and RPC-based data movement\n",
    "    Reading and writing file formats (like CSV, Apache ORC, and Apache Parquet)\n",
    "    In-memory analytics and query processing\n",
    "\n",
    "To learn how to use Arrow refer to the documentation specific to your target environment.    \n",
    "</pre>\n",
    "\n",
    "https://arrow.apache.org/docs/index.html\n",
    "\n"
   ]
  },
  {
   "cell_type": "code",
   "execution_count": 1,
   "id": "856b62d2-74e8-448e-a5f4-89d7294a4148",
   "metadata": {},
   "outputs": [
    {
     "name": "stdout",
     "output_type": "stream",
     "text": [
      "Collecting pyarrow==15.0.*\n",
      "  Obtaining dependency information for pyarrow==15.0.* from https://files.pythonhosted.org/packages/85/55/636f006d963ddf77270fd294163e149b0719aaaf794de0d023aee88f6335/pyarrow-15.0.0-cp311-cp311-manylinux_2_28_x86_64.whl.metadata\n",
      "  Downloading pyarrow-15.0.0-cp311-cp311-manylinux_2_28_x86_64.whl.metadata (3.0 kB)\n",
      "Requirement already satisfied: numpy<2,>=1.16.6 in /opt/anaconda3/lib/python3.11/site-packages (from pyarrow==15.0.*) (1.26.3)\n",
      "Downloading pyarrow-15.0.0-cp311-cp311-manylinux_2_28_x86_64.whl (38.3 MB)\n",
      "\u001b[2K   \u001b[38;2;114;156;31m━━━━━━━━━━━━━━━━━━━━━━━━━━━━━━━━━━━━━━━━\u001b[0m \u001b[32m38.3/38.3 MB\u001b[0m \u001b[31m2.6 MB/s\u001b[0m eta \u001b[36m0:00:00\u001b[0mm eta \u001b[36m0:00:01\u001b[0m[36m0:00:01\u001b[0m\n",
      "\u001b[?25hInstalling collected packages: pyarrow\n",
      "  Attempting uninstall: pyarrow\n",
      "    Found existing installation: pyarrow 11.0.0\n",
      "    Uninstalling pyarrow-11.0.0:\n",
      "      Successfully uninstalled pyarrow-11.0.0\n",
      "Successfully installed pyarrow-15.0.0\n"
     ]
    }
   ],
   "source": [
    "!pip install pyarrow==15.0.*a"
   ]
  },
  {
   "cell_type": "code",
   "execution_count": 30,
   "id": "79884014-7749-4fa3-be38-9bcf6a696d3b",
   "metadata": {},
   "outputs": [],
   "source": [
    "import numpy as np\n",
    "import pyarrow as pa\n",
    "import pyarrow.compute as pc"
   ]
  },
  {
   "cell_type": "code",
   "execution_count": 19,
   "id": "6a4dfc8a-0c44-4ac6-b2d0-ab33a85d9741",
   "metadata": {},
   "outputs": [
    {
     "data": {
      "text/plain": [
       "8"
      ]
     },
     "execution_count": 19,
     "metadata": {},
     "output_type": "execute_result"
    }
   ],
   "source": [
    "pa.cpu_count()"
   ]
  },
  {
   "cell_type": "code",
   "execution_count": 6,
   "id": "78b62a2c-6669-4174-8270-49912bd59aa0",
   "metadata": {},
   "outputs": [
    {
     "data": {
      "text/plain": [
       "<pyarrow.lib.Int16Array object at 0x7f782f892200>\n",
       "[\n",
       "  0,\n",
       "  1,\n",
       "  2,\n",
       "  3,\n",
       "  4,\n",
       "  5,\n",
       "  6,\n",
       "  7,\n",
       "  8,\n",
       "  9,\n",
       "  ...\n",
       "  990,\n",
       "  991,\n",
       "  992,\n",
       "  993,\n",
       "  994,\n",
       "  995,\n",
       "  996,\n",
       "  997,\n",
       "  998,\n",
       "  999\n",
       "]"
      ]
     },
     "execution_count": 6,
     "metadata": {},
     "output_type": "execute_result"
    }
   ],
   "source": [
    "data = np.arange(1000, dtype='int16')\n",
    "\n",
    "arr = pa.array(data)\n",
    "\n",
    "arr"
   ]
  },
  {
   "cell_type": "code",
   "execution_count": 8,
   "id": "98dbb428-29de-4048-85e1-a528bd4417d5",
   "metadata": {},
   "outputs": [
    {
     "data": {
      "text/plain": [
       "<pyarrow.Int64Scalar: 499500>"
      ]
     },
     "execution_count": 8,
     "metadata": {},
     "output_type": "execute_result"
    }
   ],
   "source": [
    "arr.sum()"
   ]
  },
  {
   "cell_type": "code",
   "execution_count": 11,
   "id": "d98b92a1-a832-4cec-a565-b9a7ff80b9dc",
   "metadata": {},
   "outputs": [
    {
     "data": {
      "text/plain": [
       "<bound method Array.view of <pyarrow.lib.Int16Array object at 0x7f782f892200>\n",
       "[\n",
       "  0,\n",
       "  1,\n",
       "  2,\n",
       "  3,\n",
       "  4,\n",
       "  5,\n",
       "  6,\n",
       "  7,\n",
       "  8,\n",
       "  9,\n",
       "  ...\n",
       "  990,\n",
       "  991,\n",
       "  992,\n",
       "  993,\n",
       "  994,\n",
       "  995,\n",
       "  996,\n",
       "  997,\n",
       "  998,\n",
       "  999\n",
       "]>"
      ]
     },
     "execution_count": 11,
     "metadata": {},
     "output_type": "execute_result"
    }
   ],
   "source": [
    "arr.view"
   ]
  },
  {
   "cell_type": "code",
   "execution_count": 31,
   "id": "ca0cbb11-37a1-4bf7-86e0-ed3b59ab8c14",
   "metadata": {},
   "outputs": [
    {
     "data": {
      "text/plain": [
       "<pyarrow.StructScalar: [('min', 0), ('max', 999)]>"
      ]
     },
     "execution_count": 31,
     "metadata": {},
     "output_type": "execute_result"
    }
   ],
   "source": [
    "pc.min_max(arr)"
   ]
  },
  {
   "cell_type": "code",
   "execution_count": 32,
   "id": "2d386f7a-2387-4a83-9150-10188ded6842",
   "metadata": {},
   "outputs": [
    {
     "data": {
      "text/plain": [
       "<pyarrow.Int64Scalar: 1000>"
      ]
     },
     "execution_count": 32,
     "metadata": {},
     "output_type": "execute_result"
    }
   ],
   "source": [
    "pc.count(arr)"
   ]
  },
  {
   "cell_type": "code",
   "execution_count": 33,
   "id": "dad669cf-06a2-4c00-8abd-c58149a1bdfa",
   "metadata": {},
   "outputs": [
    {
     "data": {
      "text/plain": [
       "<pyarrow.Int16Scalar: 0>"
      ]
     },
     "execution_count": 33,
     "metadata": {},
     "output_type": "execute_result"
    }
   ],
   "source": [
    "pc.first(arr)"
   ]
  },
  {
   "cell_type": "code",
   "execution_count": 35,
   "id": "1088ddd1-c3ee-4088-aba0-30a24bf93ae1",
   "metadata": {},
   "outputs": [
    {
     "data": {
      "text/plain": [
       "<pyarrow.Int16Scalar: 999>"
      ]
     },
     "execution_count": 35,
     "metadata": {},
     "output_type": "execute_result"
    }
   ],
   "source": [
    "pc.last(arr)"
   ]
  },
  {
   "cell_type": "code",
   "execution_count": 36,
   "id": "c2cb347e-05fb-486b-b56e-a545b8ed1e68",
   "metadata": {},
   "outputs": [
    {
     "data": {
      "text/plain": [
       "<pyarrow.DoubleScalar: 499.5>"
      ]
     },
     "execution_count": 36,
     "metadata": {},
     "output_type": "execute_result"
    }
   ],
   "source": [
    "pc.mean(arr)"
   ]
  },
  {
   "cell_type": "code",
   "execution_count": 37,
   "id": "18c643fa-9d3a-4599-9c10-484784e4b508",
   "metadata": {},
   "outputs": [
    {
     "data": {
      "text/plain": [
       "<pyarrow.lib.DoubleArray object at 0x7f782e8bfe20>\n",
       "[\n",
       "  0,\n",
       "  0.5,\n",
       "  1,\n",
       "  1.5,\n",
       "  2,\n",
       "  2.5,\n",
       "  3,\n",
       "  3.5,\n",
       "  4,\n",
       "  4.5,\n",
       "  ...\n",
       "  495,\n",
       "  495.5,\n",
       "  496,\n",
       "  496.5,\n",
       "  497,\n",
       "  497.5,\n",
       "  498,\n",
       "  498.5,\n",
       "  499,\n",
       "  499.5\n",
       "]"
      ]
     },
     "execution_count": 37,
     "metadata": {},
     "output_type": "execute_result"
    }
   ],
   "source": [
    "pc.cumulative_mean(arr)"
   ]
  },
  {
   "cell_type": "code",
   "execution_count": 38,
   "id": "d27c59b7-c9fc-4bdf-a5a4-46e8c00a407b",
   "metadata": {},
   "outputs": [
    {
     "data": {
      "text/plain": [
       "<pyarrow.StructScalar: [('first', 0), ('last', 999)]>"
      ]
     },
     "execution_count": 38,
     "metadata": {},
     "output_type": "execute_result"
    }
   ],
   "source": [
    "pc.first_last(arr)"
   ]
  },
  {
   "cell_type": "code",
   "execution_count": null,
   "id": "f27ca2df-1966-4912-a86c-2240daf47257",
   "metadata": {},
   "outputs": [],
   "source": []
  }
 ],
 "metadata": {
  "kernelspec": {
   "display_name": "Python 3 (ipykernel)",
   "language": "python",
   "name": "python3"
  },
  "language_info": {
   "codemirror_mode": {
    "name": "ipython",
    "version": 3
   },
   "file_extension": ".py",
   "mimetype": "text/x-python",
   "name": "python",
   "nbconvert_exporter": "python",
   "pygments_lexer": "ipython3",
   "version": "3.11.5"
  }
 },
 "nbformat": 4,
 "nbformat_minor": 5
}
